{
 "cells": [
  {
   "cell_type": "markdown",
   "metadata": {},
   "source": [
    "\n",
    "# Preprocessing - QC & Filtering - WT S6\n",
    "\n",
    "Michael Sterr\n",
    "\n",
    "2022-09-15 16:30:36 \n",
    "\n",
    "# Setup"
   ]
  },
  {
   "cell_type": "code",
   "execution_count": 1,
   "metadata": {
    "ExecuteTime": {
     "end_time": "2019-04-15T09:23:27.277106Z",
     "start_time": "2019-04-15T09:23:25.653400Z"
    }
   },
   "outputs": [
    {
     "name": "stderr",
     "output_type": "stream",
     "text": [
      "Global seed set to 0\n"
     ]
    }
   ],
   "source": [
    "# General\n",
    "import scipy as sci\n",
    "import numpy as np\n",
    "import pandas as pd\n",
    "import logging\n",
    "\n",
    "# Plotting\n",
    "import matplotlib.pyplot as plt\n",
    "import matplotlib as mpl\n",
    "from matplotlib import rcParams\n",
    "from matplotlib.pyplot import rc_context\n",
    "import seaborn as sb\n",
    "\n",
    "# Analysis\n",
    "import scanpy as sc\n",
    "import scvi"
   ]
  },
  {
   "cell_type": "code",
   "execution_count": 2,
   "metadata": {},
   "outputs": [
    {
     "data": {
      "text/html": [
       "<style>.container { width:85% !important; }</style>"
      ],
      "text/plain": [
       "<IPython.core.display.HTML object>"
      ]
     },
     "metadata": {},
     "output_type": "display_data"
    },
    {
     "data": {
      "application/javascript": [
       "require.config({\n",
       "    paths: {\n",
       "        datatables: 'https://cdn.datatables.net/1.10.19/js/jquery.dataTables.min',\n",
       "    }\n",
       "});\n",
       "\n",
       "$('head').append('<link rel=\"stylesheet\" type=\"text/css\" \\\n",
       "                href = \"https://cdn.datatables.net/1.10.19/css/jquery.dataTables.min.css\" > ');\n",
       "\n",
       "$('head').append('<style> table td { text-overflow: ellipsis; overflow: hidden; } </style>');\n",
       "\n",
       "$('head').append(`<script>\n",
       "function eval_functions(map_or_text) {\n",
       "    if (typeof map_or_text === \"string\") {\n",
       "        if (map_or_text.startsWith(\"function\")) {\n",
       "            try {\n",
       "                // Note: parenthesis are required around the whole expression for eval to return a value!\n",
       "                // See https://stackoverflow.com/a/7399078/911298.\n",
       "                //\n",
       "                // eval(\"local_fun = \" + map_or_text) would fail because local_fun is not declared\n",
       "                // (using var, let or const would work, but it would only be declared in the local scope\n",
       "                // and therefore the value could not be retrieved).\n",
       "                const func = eval(\"(\" + map_or_text + \")\");\n",
       "                if (typeof func !== \"function\") {\n",
       "                    // Note: backquotes are super convenient!\n",
       "                    // https://developer.mozilla.org/en-US/docs/Web/JavaScript/Reference/Template_literals\n",
       "                    console.error(\"Evaluated expression \" + map_or_text + \" is not a function (type is \" + typeof func + \")\");\n",
       "                    return map_or_text;\n",
       "                }\n",
       "                // Return the function\n",
       "                return func;\n",
       "            } catch (e) {\n",
       "                // Make sure to print the error with a second argument to console.error().\n",
       "                console.error(\"itables was not able to parse \" + map_or_text, e);\n",
       "            }\n",
       "        }\n",
       "    } else if (typeof map_or_text === \"object\") {\n",
       "        if (map_or_text instanceof Array) {\n",
       "            // Note: \"var\" is now superseded by \"let\" and \"const\".\n",
       "            // https://medium.com/javascript-scene/javascript-es6-var-let-or-const-ba58b8dcde75\n",
       "            const result = [];\n",
       "            // Note: \"for of\" is the best way to iterate through an iterable.\n",
       "            // https://developer.mozilla.org/en-US/docs/Web/JavaScript/Reference/Statements/for...of\n",
       "            for (const item of map_or_text) {\n",
       "                result.push(eval_functions(item));\n",
       "            }\n",
       "            return result;\n",
       "\n",
       "            // Alternatively, more functional approach in one line:\n",
       "            // return map_or_text.map(eval_functions);\n",
       "        } else {\n",
       "            const result = {};\n",
       "            // Object.keys() is safer than \"for in\" because otherwise you might have keys\n",
       "            // that aren't defined in the object itself.\n",
       "            //\n",
       "            // See https://stackoverflow.com/a/684692/911298.\n",
       "            for (const item of Object.keys(map_or_text)) {\n",
       "                result[item] = eval_functions(map_or_text[item]);\n",
       "            }\n",
       "            return result;\n",
       "        }\n",
       "    }\n",
       "\n",
       "    return map_or_text;\n",
       "}\n",
       "\n",
       "</` + 'script>');"
      ],
      "text/plain": [
       "<IPython.core.display.Javascript object>"
      ]
     },
     "metadata": {},
     "output_type": "display_data"
    }
   ],
   "source": [
    "# Display options\n",
    "from IPython.core.display import display, HTML\n",
    "display(HTML(\"<style>.container { width:85% !important; }</style>\"))\n",
    "#pd.set_option(\"display.max_rows\", None)\n",
    "\n",
    "from itables import init_notebook_mode\n",
    "init_notebook_mode(all_interactive=True)"
   ]
  },
  {
   "cell_type": "code",
   "execution_count": 3,
   "metadata": {},
   "outputs": [
    {
     "name": "stdout",
     "output_type": "stream",
     "text": [
      "-----\n",
      "anndata     0.8.0\n",
      "scanpy      1.9.1\n",
      "-----\n",
      "PIL                         8.4.0\n",
      "absl                        NA\n",
      "anyio                       NA\n",
      "astunparse                  1.6.3\n",
      "attr                        21.2.0\n",
      "babel                       2.9.1\n",
      "backcall                    0.2.0\n",
      "beta_ufunc                  NA\n",
      "binom_ufunc                 NA\n",
      "bottleneck                  1.3.2\n",
      "certifi                     2022.06.15\n",
      "cffi                        1.15.0\n",
      "chardet                     4.0.0\n",
      "charset_normalizer          2.0.7\n",
      "chex                        0.1.1\n",
      "cloudpickle                 2.0.0\n",
      "colorama                    0.4.4\n",
      "cupy                        10.1.0\n",
      "cupy_backends               NA\n",
      "cupyx                       NA\n",
      "cycler                      0.10.0\n",
      "cython_runtime              NA\n",
      "dask                        2021.10.0\n",
      "dateutil                    2.8.2\n",
      "debugpy                     1.4.1\n",
      "decorator                   5.1.0\n",
      "defusedxml                  0.7.1\n",
      "deprecate                   0.3.1\n",
      "docrep                      0.3.2\n",
      "entrypoints                 0.3\n",
      "fastrlock                   0.8\n",
      "flatbuffers                 NA\n",
      "flax                        0.4.0\n",
      "fsspec                      2021.10.1\n",
      "google                      NA\n",
      "h5py                        3.6.0\n",
      "idna                        3.3\n",
      "igraph                      0.9.8\n",
      "importlib_resources         NA\n",
      "ipykernel                   6.4.2\n",
      "ipython_genutils            0.2.0\n",
      "ipywidgets                  7.6.5\n",
      "itables                     0.3.0\n",
      "jax                         0.3.4\n",
      "jaxlib                      0.3.2\n",
      "jedi                        0.18.0\n",
      "jinja2                      3.0.2\n",
      "joblib                      1.1.0\n",
      "json5                       NA\n",
      "jsonschema                  4.2.0\n",
      "jupyter_server              1.11.2\n",
      "jupyterlab_server           2.8.2\n",
      "kiwisolver                  1.3.2\n",
      "leidenalg                   0.8.8\n",
      "llvmlite                    0.37.0\n",
      "louvain                     0.7.0\n",
      "markupsafe                  2.0.1\n",
      "matplotlib                  3.5.2\n",
      "mpl_toolkits                NA\n",
      "msgpack                     1.0.3\n",
      "mudata                      0.2.0\n",
      "multipledispatch            0.6.0\n",
      "natsort                     8.0.0\n",
      "nbclassic                   NA\n",
      "nbformat                    5.1.3\n",
      "nbinom_ufunc                NA\n",
      "numba                       0.54.1\n",
      "numexpr                     2.7.3\n",
      "numpy                       1.20.0\n",
      "numpyro                     0.9.1\n",
      "opt_einsum                  v3.3.0\n",
      "optax                       0.1.1\n",
      "packaging                   21.3\n",
      "pandas                      1.4.3\n",
      "parso                       0.8.2\n",
      "pexpect                     4.8.0\n",
      "pickleshare                 0.7.5\n",
      "pkg_resources               NA\n",
      "prometheus_client           NA\n",
      "prompt_toolkit              3.0.21\n",
      "psutil                      5.8.0\n",
      "ptyprocess                  0.7.0\n",
      "pvectorc                    NA\n",
      "pydev_ipython               NA\n",
      "pydevconsole                NA\n",
      "pydevd                      2.4.1\n",
      "pydevd_concurrency_analyser NA\n",
      "pydevd_file_utils           NA\n",
      "pydevd_plugins              NA\n",
      "pydevd_tracing              NA\n",
      "pygments                    2.10.0\n",
      "pyparsing                   2.4.7\n",
      "pyro                        1.7.0\n",
      "pyrsistent                  NA\n",
      "pytorch_lightning           1.6.5\n",
      "pytz                        2021.3\n",
      "requests                    2.26.0\n",
      "rich                        NA\n",
      "scipy                       1.7.1\n",
      "scvi                        0.17.1\n",
      "seaborn                     0.11.2\n",
      "send2trash                  NA\n",
      "session_info                1.0.0\n",
      "six                         1.16.0\n",
      "sklearn                     1.0.1\n",
      "sniffio                     1.2.0\n",
      "sparse                      0.13.0\n",
      "sphinxcontrib               NA\n",
      "statsmodels                 0.13.2\n",
      "storemagic                  NA\n",
      "tensorboard                 2.7.0\n",
      "terminado                   0.12.1\n",
      "texttable                   1.6.4\n",
      "threadpoolctl               3.0.0\n",
      "tlz                         0.11.1\n",
      "toolz                       0.11.1\n",
      "torch                       1.11.0+cu113\n",
      "torchmetrics                0.6.0\n",
      "torchvision                 0.12.0+cu113\n",
      "tornado                     6.1\n",
      "tqdm                        4.62.3\n",
      "traitlets                   5.1.1\n",
      "tree                        0.1.6\n",
      "typing_extensions           NA\n",
      "urllib3                     1.26.7\n",
      "wcwidth                     0.2.5\n",
      "websocket                   1.2.1\n",
      "wrapt                       1.12.1\n",
      "yaml                        5.4.1\n",
      "zipp                        NA\n",
      "zmq                         22.3.0\n",
      "-----\n",
      "IPython             7.29.0\n",
      "jupyter_client      7.0.6\n",
      "jupyter_core        4.9.1\n",
      "jupyterlab          3.2.4\n",
      "notebook            6.4.5\n",
      "-----\n",
      "Python 3.8.12 | packaged by conda-forge | (default, Oct 12 2021, 21:57:06) [GCC 9.4.0]\n",
      "Linux-5.15.0-48-generic-x86_64-with-glibc2.10\n",
      "-----\n",
      "Session information updated at 2022-10-05 10:38\n"
     ]
    }
   ],
   "source": [
    "# Settings\n",
    "\n",
    "## Scanpy settings\n",
    "sc.settings.verbosity = 3\n",
    "sc.logging.print_versions()"
   ]
  },
  {
   "cell_type": "code",
   "execution_count": 4,
   "metadata": {
    "ExecuteTime": {
     "end_time": "2019-04-15T09:23:29.016609Z",
     "start_time": "2019-04-15T09:23:28.667840Z"
    }
   },
   "outputs": [],
   "source": [
    "# Color maps\n",
    "exec(open(\"/home/michi/Software/viscm/maps/michi_bk_bl_gn_yl.py\").read())"
   ]
  },
  {
   "cell_type": "code",
   "execution_count": 5,
   "metadata": {
    "ExecuteTime": {
     "end_time": "2019-04-15T09:23:30.907616Z",
     "start_time": "2019-04-15T09:23:30.903744Z"
    }
   },
   "outputs": [],
   "source": [
    "# Plot settings\n",
    "%matplotlib inline\n",
    "# %config InlineBackend.figure_format='retina'\n",
    "\n",
    "## Directory\n",
    "sc.settings.figdir='/home/michi/Projects/scRNA-seq_Gut_Maren_Wnt-PCP_Böttcher-et-al_Notebooks/Figures'\n",
    "\n",
    "## Plotting parameters\n",
    "rcParams['figure.figsize']=(4,4) #rescale figures\n",
    "#sc.set_figure_params(scanpy=True, frameon=False, vector_friendly=False, color_map='tab10' ,transparent=True, dpi=150, dpi_save=300)\n",
    "sc.set_figure_params(scanpy=True, frameon=False, vector_friendly=False ,transparent=True, dpi=150, dpi_save=300)\n",
    "\n",
    "## Font\n",
    "rcParams['font.family'] = 'sans-serif'\n",
    "rcParams['font.sans-serif'] = ['Source Sans 3']\n",
    "\n",
    "## Grid & Ticks\n",
    "rcParams['grid.alpha'] = 0\n",
    "rcParams['xtick.bottom'] = True\n",
    "rcParams['ytick.left'] = True\n",
    "\n",
    "## Embed font\n",
    "plt.rc('pdf', fonttype=42)\n",
    "\n",
    "## Define new default settings\n",
    "plt.rcParamsDefault = plt.rcParams"
   ]
  },
  {
   "cell_type": "markdown",
   "metadata": {},
   "source": [
    "# Load Data"
   ]
  },
  {
   "cell_type": "raw",
   "metadata": {},
   "source": [
    "21L011182 518 WT_S5\n",
    "21L011186 519 IIR-KO_S5\n",
    "\n",
    "MUC18396\t394\tWT\n",
    "MUC18397\t395\tIIR-KO\n",
    "MUC20660\t405\tPost_Transplantation_WT\n",
    "MUC20661\t406\tPost_Transplantation_IIR-KO\n",
    "MUC28175\t435\tS5_WT_v3.1\n",
    "MUC28176\t436\tS5_IIR-KO_v3.1"
   ]
  },
  {
   "cell_type": "code",
   "execution_count": 6,
   "metadata": {},
   "outputs": [
    {
     "name": "stderr",
     "output_type": "stream",
     "text": [
      "/home/michi/Software/venvs/scAnalysis_sc1.9_ad0.8_mu0.1.2_md0.2_R4.1_FVF/lib/python3.8/site-packages/anndata/_core/anndata.py:1830: UserWarning: Variable names are not unique. To make them unique, call `.var_names_make_unique`.\n",
      "  utils.warn_names_duplicates(\"var\")\n"
     ]
    }
   ],
   "source": [
    "adata=sc.read('/storage/scRNA-seq/scRNA-seq_iPSC_IGFRL-KO/cellranger/MUC18396/count_matrices/MUC18396_raw_feature_bc_matrix.h5ad')\n",
    "adata.obs['sample'] = ['S6_WT']*adata.n_obs\n",
    "adata.obs['sample_name'] = ['S6 WT']*adata.n_obs\n",
    "adata.obs['seq_id'] = ['MUC18396']*adata.n_obs\n",
    "adata.obs['int_id'] = ['394']*adata.n_obs\n",
    "adata.obs['reporter'] = ['INS-mCherry']*adata.n_obs\n",
    "adata.obs['stage'] = ['S6']*adata.n_obs\n",
    "adata.obs['genotype'] = ['WT']*adata.n_obs\n",
    "# adata.X = adata.X.toarray()\n",
    "adata.var_names_make_unique()"
   ]
  },
  {
   "cell_type": "code",
   "execution_count": 7,
   "metadata": {},
   "outputs": [],
   "source": [
    "# DropletUtils output\n",
    "cell_barcodes_du = pd.read_csv('/storage/scRNA-seq/scRNA-seq_iPSC_IGFRL-KO/cellranger/MUC18396/count_matrices/MUC18396_DropletUtils_CellBarcodes.csv')\n",
    "cell_probs = pd.read_csv('/storage/scRNA-seq/scRNA-seq_iPSC_IGFRL-KO/cellranger/MUC18396/count_matrices/MUC18396_DropletUtils_LogProbabilities.csv')\n",
    "ambient_genes = pd.read_csv('/storage/scRNA-seq/scRNA-seq_iPSC_IGFRL-KO/cellranger/MUC18396/count_matrices/MUC18396_DropletUtils_AmbientGenes.csv')\n",
    "\n",
    "# CellRanger cell barcodes\n",
    "cell_barcodes_cr = pd.read_csv('/storage/scRNA-seq/scRNA-seq_iPSC_IGFRL-KO/cellranger/MUC18396/count_matrices/filtered_feature_bc_matrix/barcodes.tsv', names=['x'])\n",
    "cell_barcodes_cr = pd.Series(cell_barcodes_cr.loc[:,'x'])"
   ]
  },
  {
   "cell_type": "markdown",
   "metadata": {},
   "source": [
    "# Functions"
   ]
  },
  {
   "cell_type": "code",
   "execution_count": 8,
   "metadata": {},
   "outputs": [],
   "source": [
    "# Functions\n",
    "def get_umap_leiden(adata, resolution=0.5, exclude_highly_expressed=False):\n",
    "       \n",
    "    # preprocess adata, cluster and get umap\n",
    "    adata_pp = adata.copy()\n",
    "    sc.pp.normalize_total(adata_pp, target_sum=1e4, exclude_highly_expressed=exclude_highly_expressed, key_added='size_factor') #sc.pp.normalize_per_cell(adata_pp, counts_per_cell_after=1e6)\n",
    "    sc.pp.log1p(adata_pp)\n",
    "    sc.pp.pca(adata_pp)\n",
    "    sc.pp.neighbors(adata_pp, metric='correlation')\n",
    "    sc.tl.leiden(adata_pp, resolution=resolution)\n",
    "    sc.tl.umap(adata_pp)\n",
    "    \n",
    "    adata.obsm['X_umap'] = adata_pp.obsm['X_umap'].copy()\n",
    "    adata.obs['leiden'] = adata_pp.obs['leiden'].copy()\n",
    "\n",
    "###################################################################################################################\n",
    "###################################################################################################################\n",
    "###################################################################################################################\n",
    "    \n",
    "    \n",
    "def add_droplet_utils_results(adata, ambient_probs=None, cell_probs=None):\n",
    "    ambi_key = 'ambient_genes_' + adata.obs['sample'][0]\n",
    "    ambient_probs.index = ambient_probs['Unnamed: 0'].values\n",
    "    all_genes = set(adata.var.index)\n",
    "    ambient_probs_genes = set(ambient_probs.index)\n",
    "    shared_genes = all_genes.intersection(ambient_probs_genes)\n",
    "    adata.var[ambi_key] = 0.0\n",
    "    adata.var.loc[shared_genes,ambi_key] = ambient_probs.loc[shared_genes,'ambient_genes'].values\n",
    "    #adata.var[ambi_key][all_genes] = ambient_probs['ambient_genes'].values\n",
    "    \n",
    "       \n",
    "    # intersect barcodes from adata and cell_probs\n",
    "    cell_probs_key = 'log_cell_probs' #'log_cell_probs_' + adata.obs['sample'][0]\n",
    "    cell_probs.index = cell_probs.barcodes.values\n",
    "    adata_barcodes = set(adata.obs.index)\n",
    "    cell_probs_barcodes = set(cell_probs.index)\n",
    "    shared_barcodes = adata_barcodes.intersection(cell_probs_barcodes)\n",
    "                               \n",
    "    adata.obs.loc[shared_barcodes,cell_probs_key] = cell_probs.loc[shared_barcodes,'cell_probs'].values\n",
    "\n",
    "###################################################################################################################\n",
    "###################################################################################################################\n",
    "###################################################################################################################\n",
    "    \n",
    "def set_ambient_threshold(adata, threshold=0.0005, lower_limit=0.0002, upper_limit=0.002, bins=60, kde=True):\n",
    "    ambi_key = 'ambient_genes_' + adata.obs['sample'][0]\n",
    "    is_ambi_key = 'is_ambient_' + adata.obs['sample'][0]\n",
    "    \n",
    "    sb.distplot(adata.var[ambi_key][(adata.var[ambi_key] > lower_limit) & (adata.var[ambi_key] < upper_limit)], kde=kde, bins=bins)\n",
    "    plt.axvline(threshold, 0, 1)\n",
    "    plt.title(label='Ambient Genes Threshold (' + str(len(adata.var[ambi_key][adata.var[ambi_key] > threshold])) + ' Genes)', fontweight='bold')\n",
    "    \n",
    "    adata.var[is_ambi_key] = pd.Categorical(list(map(str,list(adata.var[ambi_key] > threshold))))\n",
    "\n",
    "###################################################################################################################\n",
    "###################################################################################################################\n",
    "###################################################################################################################\n",
    "    \n",
    "\n",
    "def qc_metrics(adata, ambient=True, plot=True, counts_per_gene=True, make_dense=False, genome='auto', mt_genes_path='/mnt/ssd/Resources/sus_scrofa_mt_ens101_ext.txt'):\n",
    "    \"\"\"\\\n",
    "    Calculate QC metrics.\n",
    "    genome: {'auto','Mus_musculus','Homo_sapiens','Sus_scrofa'}\n",
    "    mt_genes_path: Path to mitochondrial genes for sus scrofa. Tab delimited file without header and with gene symbols in column 2. default: '/mnt/ssd/Resources/sus_scrofa_mt_ens101_ext.txt'\n",
    "    ambient: Requires adata.var['is_ambient'] = pd.Categorical(list(map(str,list(adata.var['ambient_genes'] > cut_off))))\n",
    "    \"\"\"\n",
    "    \n",
    "    is_ambi_key = 'is_ambient_' + adata.obs['sample'][0]\n",
    "    \n",
    "    if genome=='auto':\n",
    "        genome = '_'.join(adata.var.loc[:,'genome'][0].split('_')[0:2])\n",
    "        print('Genome is', genome)\n",
    "\n",
    "    if make_dense:\n",
    "        adata.X = adata.X.toarray()\n",
    "\n",
    "    if counts_per_gene:\n",
    "        # counts per gene\n",
    "        adata.var['n_counts'] = adata.X.sum(0)\n",
    "\n",
    "    # counts per cell\n",
    "    adata.obs['n_counts'] = adata.X.sum(1)\n",
    "    # log counts per cell\n",
    "    adata.obs['log_counts'] = np.log(adata.obs['n_counts'])\n",
    "    # rank by counts\n",
    "    adata.obs['n_counts_rank'] = adata.obs['n_counts'].rank(method='first',ascending=False)\n",
    "    # genes per cell\n",
    "    adata.obs['n_genes'] = (adata.X > 0).sum(1)\n",
    "    # log genes per cell\n",
    "    adata.obs['log_genes'] = np.log(adata.obs['n_genes'])\n",
    "    # fraction of mitochondrial genes\n",
    "    if (genome == 'Homo_sapiens') | (genome == 'homo_sapiens'):\n",
    "        mt_gene_mask = [gene.startswith('MT-') for gene in adata.var_names]\n",
    "        adata.obs['mt_frac'] = adata.X[:, mt_gene_mask].sum(1)/adata.obs['n_counts']\n",
    "\n",
    "        rp_gene_mask = [gene.startswith(('RPS','RPL')) for gene in adata.var_names]\n",
    "        adata.obs['rp_frac'] = adata.X[:,rp_gene_mask].sum(1) / adata.obs['n_counts']\n",
    "\n",
    "    elif (genome == 'Mus_musculus') | (genome == 'mus_musculus'):\n",
    "        mt_gene_mask = [gene.startswith('mt-') for gene in adata.var_names]\n",
    "        adata.obs['mt_frac'] = adata.X[:, mt_gene_mask].sum(1)/adata.obs['n_counts']\n",
    "\n",
    "        rp_gene_mask = [gene.startswith(('Rps','Rpl')) for gene in adata.var_names]\n",
    "        adata.obs['rp_frac'] = adata.X[:,rp_gene_mask].sum(1) / adata.obs['n_counts']\n",
    "\n",
    "    elif (genome == 'Sus_scrofa') | (genome == 'sus_scrofa'):\n",
    "        mt_genes = [gene.split('-')[0] for gene in list(pd.read_csv(mt_genes_path , header=None, sep=\"\\t\")[1])]\n",
    "        mt_gene_mask = adata.var_names.isin(mt_genes)\n",
    "        adata.obs['mt_frac'] = adata.X[:, mt_gene_mask].sum(1)/adata.obs['n_counts']\n",
    "\n",
    "        rp_gene_mask = [gene.startswith(('RPS','RPL')) for gene in adata.var_names]\n",
    "        adata.obs['rp_frac'] = adata.X[:,rp_gene_mask].sum(1) / adata.obs['n_counts']\n",
    "\n",
    "    if ambient:\n",
    "        adata.obs['ambi_frac'] = adata.X[:,adata.var[is_ambi_key]=='True'].sum(1) / adata.obs['n_counts']\n",
    "\n",
    "    if plot:\n",
    "        sb.jointplot(\n",
    "            data=adata.obs,\n",
    "            x=\"log_counts\",\n",
    "            y=\"log_genes\",\n",
    "            kind=\"hist\", bins=100, cmap=\"rocket_r\", color=\"#f69c73\", space=0\n",
    "        )\n",
    "\n",
    "        fig, ax1 = plt.subplots()\n",
    "        ax1.scatter(x=adata.obs['n_counts_rank'], y=adata.obs['n_counts'], s=1, alpha=0.2, c='black', label='Total UMI Counts')\n",
    "        ax1.scatter(x=adata.obs['n_counts_rank'], y=adata.obs['n_genes'], s=1, alpha=0.2, c='tab:green', label='Gene Counts')\n",
    "        ax1.set(xscale='log', yscale='log')\n",
    "        ax1.set_ylabel('Total UMI/Gene Counts')\n",
    "        ax1.set_xlabel('Ranked Droplets')\n",
    "        #ax1.vlines(x=[max_rank], color=\"black\", lw=0.5).set_linestyle(\"--\")\n",
    "\n",
    "        ax2 = ax1.twinx()\n",
    "        ax2.scatter(x=adata.obs['n_counts_rank'], y=adata.obs['mt_frac']*100, s=1, alpha=0.2, c='tab:red', label='% Mito. Counts')\n",
    "        ax2.set_ylabel('%')\n",
    "\n",
    "        fig.legend(loc='center left', fontsize='xx-small', bbox_to_anchor=(0.2, 0.35))\n",
    "        \n",
    "\n",
    "###################################################################################################################\n",
    "###################################################################################################################\n",
    "###################################################################################################################\n",
    "    \n",
    "\n",
    "        \n",
    "def filter_qc(adata, counts_filter=None, genes_filter=None, mito_filter=None, qc_filter=None):\n",
    "    \"\"\"\\\n",
    "    counts_filter, genes_filter, mito_filter: array of booleans. E.g. genes_filter = adata.obs['n_genes'] > min_genes\n",
    "    \"\"\"\n",
    "    if ((qc_filter is None) & ((counts_filter is None) | (genes_filter is None) | (mito_filter is None))):\n",
    "        print('Specify QC filter.')\n",
    "        return\n",
    "    \n",
    "    pre_filter_n_obs = adata.n_obs\n",
    "    if ((counts_filter is not None) & (genes_filter is not None) & (mito_filter is not None)):\n",
    "        adata = adata[counts_filter & genes_filter & mito_filter]\n",
    "    elif (qc_filter is not None):\n",
    "        adata = adata[qc_filter]\n",
    "    \n",
    "    pct = (pre_filter_n_obs - adata.n_obs) / pre_filter_n_obs * 100\n",
    "    print('Filtered out {:d}'.format(pre_filter_n_obs - adata.n_obs),'cells ({:.1f}'.format(pct) ,'%).')\n",
    "    print('Number of cells after filter: {:d}'.format(adata.n_obs))\n",
    "    return adata\n",
    "    \n",
    "\n",
    "\n",
    "\n",
    "\n",
    "###################################################################################################################\n",
    "###################################################################################################################\n",
    "###################################################################################################################\n",
    "    \n",
    "    \n",
    "    \n",
    "def prefilter_barcodes(adata, barcodes=None, plot=True):\n",
    "    all_barcodes = pd.Series(adata.obs.index)\n",
    "    adata=adata[all_barcodes[all_barcodes.isin(barcodes)]].copy()\n",
    "    \n",
    "    if plot:\n",
    "        sb.jointplot(\n",
    "            data=adata.obs,\n",
    "            x=\"log_counts\",\n",
    "            y=\"log_genes\",\n",
    "            kind=\"hist\", bins=100, cmap=\"rocket_r\", color=\"#f69c73\", space=0\n",
    "        )\n",
    "        \n",
    "        #############################\n",
    "\n",
    "        fig, ax1 = plt.subplots()\n",
    "        ax1.scatter(x=adata.obs['n_counts_rank'], y=adata.obs['n_counts'], s=1, alpha=0.2, c='black', label='Total UMI Counts')\n",
    "        ax1.scatter(x=adata.obs['n_counts_rank'], y=adata.obs['n_genes'], s=1, alpha=0.2, c='tab:green', label='Gene Counts')\n",
    "        ax1.set(xscale='log', yscale='log')\n",
    "        ax1.set_ylabel('Total UMI/Gene Counts')\n",
    "        ax1.set_xlabel('Ranked Droplets')\n",
    "        #ax1.vlines(x=[max_rank], color=\"black\", lw=0.5).set_linestyle(\"--\")\n",
    "\n",
    "        ax2 = ax1.twinx()\n",
    "        ax2.scatter(x=adata.obs['n_counts_rank'], y=adata.obs['mt_frac']*100, s=1, alpha=0.2, c='tab:red', label='% Mito. Counts')\n",
    "        ax2.set_ylabel('%')\n",
    "\n",
    "        fig.legend(loc='center left', fontsize='xx-small', bbox_to_anchor=(0.2, 0.35))\n",
    "        \n",
    "        plt.show()\n",
    "        \n",
    "        ###################################\n",
    "        \n",
    "        cell_probs_key = 'log_cell_probs' #'log_cell_probs_' + adata.obs['sample'][0]\n",
    "        fig, ax1 = plt.subplots()\n",
    "        ax1.scatter(x=adata.obs['n_counts_rank'], y=adata.obs['n_counts'], s=1, alpha=0.2, c='black', label='Total UMI Counts')\n",
    "        ax1.scatter(x=adata.obs['n_counts_rank'], y=adata.obs['n_genes'], s=1, alpha=0.2, c='tab:green', label='Gene Counts')\n",
    "        ax1.set(xscale='log', yscale='log')\n",
    "        ax1.set_ylabel('Total UMI/Gene Counts')\n",
    "        ax1.set_xlabel('Ranked Droplets')\n",
    "        #ax1.vlines(x=[max_rank], color=\"black\", lw=0.5).set_linestyle(\"--\")\n",
    "\n",
    "        ax2 = ax1.twinx()\n",
    "        ax2.scatter(x=adata.obs['n_counts_rank'], y=adata.obs[cell_probs_key], s=1, alpha=0.2, c='tab:blue', label='Log Cell Probabilities')\n",
    "        ax2.set_ylabel('Cell Probabilities')\n",
    "\n",
    "        fig.legend(loc='center left', fontsize='xx-small', bbox_to_anchor=(0.2, 0.35))\n",
    "        \n",
    "        plt.show()\n",
    "        \n",
    "        ##############################\n",
    "        \n",
    "        sb.distplot(adata.obs[cell_probs_key][~np.isnan(list(adata.obs[cell_probs_key]))], kde=True, bins=60)\n",
    "        plt.title(label='Log Cell Probabilities', fontweight='bold')\n",
    "    \n",
    "    return adata\n",
    "\n",
    "\n",
    "\n",
    "\n",
    "###################################################################################################################\n",
    "###################################################################################################################\n",
    "###################################################################################################################\n",
    "    \n",
    "    \n",
    "    \n",
    "def sparsify_all_layers(adata):\n",
    "    \"\"\"\n",
    "    Loop trough all layers and make dense matrices sparse.\n",
    "    \"\"\"\n",
    "          \n",
    "    if not sci.sparse.issparse(adata.X):\n",
    "        print('Sparsify .X...')\n",
    "        adata.X = sci.sparse.csr_matrix(adata.X)\n",
    "    else:\n",
    "        print('.X already spase...')  \n",
    "        \n",
    "    for layer in list(adata.layers):\n",
    "        if not sci.sparse.issparse(adata.layers[layer]):\n",
    "            print('Sparsify ', layer)\n",
    "            adata.layers[layer] = sci.sparse.csr_matrix(adata.layers[layer])\n",
    "        else:\n",
    "            print('Layer', layer, 'already spase...')"
   ]
  },
  {
   "cell_type": "markdown",
   "metadata": {},
   "source": [
    "# Preprocessing"
   ]
  },
  {
   "cell_type": "markdown",
   "metadata": {},
   "source": [
    "## Ambient Genes"
   ]
  },
  {
   "cell_type": "code",
   "execution_count": null,
   "metadata": {},
   "outputs": [],
   "source": [
    "add_droplet_utils_results(adata, ambient_probs=ambient_genes, cell_probs=cell_probs)"
   ]
  },
  {
   "cell_type": "code",
   "execution_count": null,
   "metadata": {},
   "outputs": [],
   "source": [
    "set_ambient_threshold(adata, threshold=0.0007)"
   ]
  },
  {
   "cell_type": "markdown",
   "metadata": {},
   "source": [
    "## Filter Cell Droplets"
   ]
  },
  {
   "cell_type": "code",
   "execution_count": null,
   "metadata": {},
   "outputs": [],
   "source": [
    "qc_metrics(adata, make_dense=True)"
   ]
  },
  {
   "cell_type": "code",
   "execution_count": null,
   "metadata": {},
   "outputs": [],
   "source": [
    "adata = prefilter_barcodes(adata, barcodes=cell_barcodes_cr)"
   ]
  },
  {
   "cell_type": "markdown",
   "metadata": {},
   "source": [
    "## QC & Filtering"
   ]
  },
  {
   "cell_type": "markdown",
   "metadata": {},
   "source": [
    "### QC & Thresholding Decisions"
   ]
  },
  {
   "cell_type": "code",
   "execution_count": null,
   "metadata": {},
   "outputs": [],
   "source": [
    "get_umap_leiden(adata)"
   ]
  },
  {
   "cell_type": "code",
   "execution_count": null,
   "metadata": {},
   "outputs": [],
   "source": [
    "sc.pl.umap(adata, color=['leiden','n_counts','log_counts','n_genes','log_genes','mt_frac','rp_frac', 'ambi_frac'], size=20, add_outline=True, alpha=1, outline_width=(0.3, 0.0), ncols=4)"
   ]
  },
  {
   "cell_type": "code",
   "execution_count": null,
   "metadata": {},
   "outputs": [],
   "source": [
    "# Quality control - plot QC metrics\n",
    "#Sample quality plots\n",
    "sc.pl.violin(adata, 'n_counts', groupby='sample', log=True, cut=0, palette='Set1')\n",
    "sc.pl.violin(adata, 'mt_frac', groupby='sample', palette='Set1')\n",
    "sc.pl.violin(adata, 'mt_frac', groupby='sample', palette='Set1', log=True)"
   ]
  },
  {
   "cell_type": "markdown",
   "metadata": {},
   "source": [
    "#### Mitochondrial Gene Fraction"
   ]
  },
  {
   "cell_type": "markdown",
   "metadata": {},
   "source": [
    "##### High & Low MT-Gene Fraction"
   ]
  },
  {
   "cell_type": "code",
   "execution_count": null,
   "metadata": {},
   "outputs": [],
   "source": [
    "sc.pl.scatter(adata, 'mt_frac', 'n_genes', color='n_counts', color_map=michi_bk_bl_gn_yl)\n",
    "sc.pl.scatter(adata, 'mt_frac', 'log_counts', color='n_genes', color_map=michi_bk_bl_gn_yl)\n",
    "sc.pl.scatter(adata, 'mt_frac', 'rp_frac', color='n_genes', color_map=michi_bk_bl_gn_yl)\n",
    "sb.distplot(adata.obs['mt_frac'], kde=True, bins=60)"
   ]
  },
  {
   "cell_type": "code",
   "execution_count": null,
   "metadata": {},
   "outputs": [],
   "source": [
    "max_mito = 0.4\n",
    "min_mito = 0.025"
   ]
  },
  {
   "cell_type": "code",
   "execution_count": null,
   "metadata": {},
   "outputs": [],
   "source": [
    "sb.jointplot(x=adata.obs['mt_frac'], y=adata.obs['n_genes'], n_levels=15, thresh=0.05, kind=\"kde\", space=0, fill=True, cmap=\"rocket_r\", color=\"#f69c73\").plot_joint(\n",
    "    sb.scatterplot, alpha=0).ax_joint.vlines(x=[min_mito,max_mito], ymin=[0,0], ymax=[max(adata.obs['n_genes']),max(adata.obs['n_genes'])], color=\"black\", lw=0.5).set_linestyle(\"--\")\n",
    "\n",
    "sb.jointplot(x=adata.obs['mt_frac'], y=adata.obs['log_counts'], n_levels=15, thresh=0.05, kind=\"kde\", space=0, fill=True, cmap=\"rocket_r\", color=\"#f69c73\").plot_joint(\n",
    "    sb.scatterplot, alpha=0).ax_joint.vlines(x=[min_mito,max_mito], ymin=[0,0], ymax=[max(adata.obs['log_counts']),max(adata.obs['log_counts'])], color=\"black\", lw=0.5).set_linestyle(\"--\")"
   ]
  },
  {
   "cell_type": "code",
   "execution_count": null,
   "metadata": {},
   "outputs": [],
   "source": [
    "adata.obs['filter_mt_frac']=pd.Categorical(list(map(str,list((adata.obs['mt_frac'] < max_mito) & (adata.obs['mt_frac'] > min_mito)))))"
   ]
  },
  {
   "cell_type": "code",
   "execution_count": null,
   "metadata": {},
   "outputs": [],
   "source": [
    "sc.pl.umap(adata, color=['filter_mt_frac','mt_frac'], size=20, add_outline=True, alpha=1, outline_width=(0.3, 0.0))"
   ]
  },
  {
   "cell_type": "code",
   "execution_count": null,
   "metadata": {},
   "outputs": [],
   "source": [
    "with rc_context({'figure.figsize': (8, 3)}):\n",
    "    p=sc.pl.scatter(adata, 'mt_frac', 'n_genes', color='filter_mt_frac', color_map=michi_bk_bl_gn_yl, show=False)\n",
    "    p.vlines(x=[min_mito, max_mito], ymin=[0,0], ymax=[max(adata.obs['n_genes']),max(adata.obs['n_genes'])], color=\"black\", lw=0.5).set_linestyle(\"--\")\n",
    "    plt.show()"
   ]
  },
  {
   "cell_type": "code",
   "execution_count": null,
   "metadata": {},
   "outputs": [],
   "source": [
    "#Thresholding decision: MT-gene fraction\n",
    "with rc_context({'figure.figsize': (8, 3)}):\n",
    "    sb.distplot(adata.obs['mt_frac'], kde=True, bins=60)\n",
    "    plt.axvline(max_mito, 0, 1)\n",
    "    plt.axvline(min_mito, 0, 1)"
   ]
  },
  {
   "cell_type": "code",
   "execution_count": null,
   "metadata": {},
   "outputs": [],
   "source": [
    "mito_filter = (adata.obs['mt_frac'] < max_mito) & (adata.obs['mt_frac'] > min_mito)"
   ]
  },
  {
   "cell_type": "markdown",
   "metadata": {},
   "source": [
    "#### Ribosomal Gene Fraction"
   ]
  },
  {
   "cell_type": "code",
   "execution_count": null,
   "metadata": {},
   "outputs": [],
   "source": [
    "sc.pl.scatter(adata, 'rp_frac', 'n_genes', color='n_counts', color_map=michi_bk_bl_gn_yl)\n",
    "sc.pl.scatter(adata, 'rp_frac', 'log_counts', color='n_genes', color_map=michi_bk_bl_gn_yl)\n",
    "sc.pl.scatter(adata, 'rp_frac', 'mt_frac', color='n_genes', color_map=michi_bk_bl_gn_yl)"
   ]
  },
  {
   "cell_type": "code",
   "execution_count": null,
   "metadata": {},
   "outputs": [],
   "source": [
    "sb.jointplot(x=adata[mito_filter].obs['rp_frac'], y=adata[mito_filter].obs['n_genes'], n_levels=30, thresh=0.05, kind=\"kde\", space=0, fill=True, cmap=\"rocket_r\", color=\"#f69c73\").plot_joint(\n",
    "    sb.scatterplot, alpha=0)\n",
    "\n",
    "sb.jointplot(x=adata[mito_filter].obs['rp_frac'], y=adata[mito_filter].obs['log_counts'], n_levels=30, thresh=0.05, kind=\"kde\", space=0, fill=True, cmap=\"rocket_r\", color=\"#f69c73\").plot_joint(\n",
    "    sb.scatterplot, alpha=0)\n",
    "\n",
    "sb.jointplot(x=adata[mito_filter].obs['rp_frac'], y=adata[mito_filter].obs['mt_frac'], n_levels=30, thresh=0.05, kind=\"kde\", space=0, fill=True, cmap=\"rocket_r\", color=\"#f69c73\").plot_joint(\n",
    "    sb.scatterplot, alpha=0)"
   ]
  },
  {
   "cell_type": "markdown",
   "metadata": {},
   "source": [
    "#### Counts"
   ]
  },
  {
   "cell_type": "code",
   "execution_count": null,
   "metadata": {},
   "outputs": [],
   "source": [
    "sb.jointplot(x=adata[mito_filter].obs['log_counts'], y=adata[mito_filter].obs['log_genes'], n_levels=30, thresh=0.05, kind=\"kde\", space=0, fill=True, cmap=\"rocket_r\", color=\"#f69c73\").plot_joint(\n",
    "    sb.scatterplot, alpha=0)"
   ]
  },
  {
   "cell_type": "code",
   "execution_count": null,
   "metadata": {},
   "outputs": [],
   "source": [
    "#Thresholding decision: counts\n",
    "sb.distplot(adata[mito_filter].obs['n_counts'], kde=True)\n",
    "sb.distplot(adata.obs['n_counts'], kde=True)"
   ]
  },
  {
   "cell_type": "code",
   "execution_count": null,
   "metadata": {},
   "outputs": [],
   "source": [
    "min_counts = 3500\n",
    "x_lim = [0,7000]\n",
    "sb.distplot(adata.obs['n_counts'][(adata.obs['n_counts']<x_lim[1]) & mito_filter], kde=True, bins=60)\n",
    "sb.distplot(adata.obs['n_counts'][(adata.obs['n_counts']<x_lim[1])], kde=True, bins=60)\n",
    "plt.axvline(min_counts, 0, 1)"
   ]
  },
  {
   "cell_type": "code",
   "execution_count": null,
   "metadata": {},
   "outputs": [],
   "source": [
    "x_lim = [100,6000]\n",
    "sb.distplot(adata.obs['n_counts'][(adata.obs['n_counts']>x_lim[0]) & (adata.obs['n_counts']<x_lim[1]) & mito_filter], kde=True, bins=60)\n",
    "sb.distplot(adata.obs['n_counts'][(adata.obs['n_counts']>x_lim[0]) & (adata.obs['n_counts']<x_lim[1])], kde=True, bins=60)\n",
    "plt.axvline(min_counts, 0, 1)"
   ]
  },
  {
   "cell_type": "code",
   "execution_count": null,
   "metadata": {},
   "outputs": [],
   "source": [
    "max_counts = 40000\n",
    "x_lim = [8000,100000]\n",
    "sb.distplot(adata.obs['n_counts'][(adata.obs['n_counts']>x_lim[0]) & (adata.obs['n_counts']<x_lim[1]) & mito_filter], kde=True, bins=60)\n",
    "sb.distplot(adata.obs['n_counts'][(adata.obs['n_counts']>x_lim[0]) & (adata.obs['n_counts']<x_lim[1])], kde=True, bins=60)\n",
    "plt.axvline(max_counts, 0, 1)"
   ]
  },
  {
   "cell_type": "code",
   "execution_count": 31,
   "metadata": {},
   "outputs": [],
   "source": [
    "counts_filter = (adata.obs['n_counts'] > min_counts) & (adata.obs['n_counts'] < max_counts)"
   ]
  },
  {
   "cell_type": "code",
   "execution_count": null,
   "metadata": {},
   "outputs": [],
   "source": [
    "sc.pl.scatter(adata, 'n_counts', 'n_genes', color='mt_frac', color_map=michi_bk_bl_gn_yl, show=False).vlines(x=[min_counts, max_counts], ymin=[0,0], ymax=[max(adata.obs['n_genes']),max(adata.obs['n_genes'])], color=\"black\", lw=0.5).set_linestyle(\"--\")\n",
    "sc.pl.scatter(adata, 'log_counts', 'log_genes', color='mt_frac', color_map=michi_bk_bl_gn_yl, show=False).vlines(x=[np.log(min_counts), np.log(max_counts)], ymin=[np.log(min(adata.obs['n_genes'])),np.log(min(adata.obs['n_genes']))], ymax=[np.log(max(adata.obs['n_genes'])),np.log(max(adata.obs['n_genes']))], color=\"black\", lw=0.5).set_linestyle(\"--\")"
   ]
  },
  {
   "cell_type": "markdown",
   "metadata": {},
   "source": [
    "#### Genes"
   ]
  },
  {
   "cell_type": "code",
   "execution_count": null,
   "metadata": {},
   "outputs": [],
   "source": [
    "sb.jointplot(x=adata[mito_filter].obs['log_counts'], y=adata[mito_filter].obs['log_genes'], n_levels=30, thresh=0.05, kind=\"kde\", space=0, fill=True, cmap=\"rocket_r\", color=\"#f69c73\").plot_joint(\n",
    "    sb.scatterplot, alpha=0).ax_joint.vlines(x=[np.log(min_counts), np.log(max_counts)], ymin=[np.log(min(adata.obs['n_genes'])),np.log(min(adata.obs['n_genes']))], ymax=[np.log(max(adata.obs['n_genes'])),np.log(max(adata.obs['n_genes']))], color=\"black\", lw=0.5).set_linestyle(\"--\")"
   ]
  },
  {
   "cell_type": "code",
   "execution_count": null,
   "metadata": {},
   "outputs": [],
   "source": [
    "#Thresholding decision: genes\n",
    "sb.distplot(adata.obs['n_genes'][mito_filter & counts_filter], kde=True, bins=60)\n",
    "sb.distplot(adata.obs['n_genes'][mito_filter], kde=True, bins=60)\n",
    "sb.distplot(adata.obs['n_genes'], kde=True, bins=60)"
   ]
  },
  {
   "cell_type": "code",
   "execution_count": null,
   "metadata": {},
   "outputs": [],
   "source": [
    "min_genes = 1500\n",
    "x_lim = [100,3000]\n",
    "sb.distplot(adata.obs['n_genes'][(adata.obs['n_genes']>x_lim[0]) & (adata.obs['n_genes']<x_lim[1])& mito_filter & counts_filter], kde=True, bins=60)\n",
    "sb.distplot(adata.obs['n_genes'][(adata.obs['n_genes']>x_lim[0]) & (adata.obs['n_genes']<x_lim[1])& mito_filter], kde=True, bins=60)\n",
    "sb.distplot(adata.obs['n_genes'][(adata.obs['n_genes']>x_lim[0]) & (adata.obs['n_genes']<x_lim[1])], kde=True, bins=60)\n",
    "plt.axvline(min_genes, 0, 1)"
   ]
  },
  {
   "cell_type": "code",
   "execution_count": null,
   "metadata": {},
   "outputs": [],
   "source": [
    "x_lim = [1000,2000]\n",
    "sb.distplot(adata.obs['n_genes'][(adata.obs['n_genes']>x_lim[0]) & (adata.obs['n_genes']<x_lim[1]) & mito_filter & counts_filter], kde=True, bins=100)\n",
    "sb.distplot(adata.obs['n_genes'][(adata.obs['n_genes']>x_lim[0]) & (adata.obs['n_genes']<x_lim[1]) & mito_filter], kde=True, bins=100)\n",
    "sb.distplot(adata.obs['n_genes'][(adata.obs['n_genes']>x_lim[0]) & (adata.obs['n_genes']<x_lim[1])], kde=True, bins=100)\n",
    "plt.axvline(min_genes, 0, 1)"
   ]
  },
  {
   "cell_type": "code",
   "execution_count": 37,
   "metadata": {},
   "outputs": [],
   "source": [
    "genes_filter = (adata.obs['n_genes'] > min_genes)"
   ]
  },
  {
   "cell_type": "code",
   "execution_count": null,
   "metadata": {},
   "outputs": [],
   "source": [
    "p=sc.pl.scatter(adata, 'n_counts', 'n_genes', color='mt_frac', color_map=michi_bk_bl_gn_yl, show=False)\n",
    "p.vlines(x=[min_counts, max_counts], ymin=[0,0], ymax=[max(adata.obs['n_genes']),max(adata.obs['n_genes'])], color=\"black\", lw=0.5).set_linestyle(\"--\")\n",
    "p.axhline(y=min_genes, xmin=0, xmax=max(adata.obs['n_counts']), color=\"black\", lw=0.5).set_linestyle(\"--\")\n",
    "plt.show()\n",
    "\n",
    "p=sc.pl.scatter(adata, 'log_counts', 'log_genes', color='mt_frac', color_map=michi_bk_bl_gn_yl, show=False)\n",
    "p.vlines(x=[np.log(min_counts), np.log(max_counts)], ymin=[np.log(min(adata.obs['n_genes'])),np.log(min(adata.obs['n_genes']))], ymax=[np.log(max(adata.obs['n_genes'])),np.log(max(adata.obs['n_genes']))], color=\"black\", lw=0.5).set_linestyle(\"--\")\n",
    "p.axhline(y=np.log(min_genes), color=\"black\", lw=0.5).set_linestyle(\"--\")\n",
    "plt.show()"
   ]
  },
  {
   "cell_type": "markdown",
   "metadata": {},
   "source": [
    "### Filtering"
   ]
  },
  {
   "cell_type": "code",
   "execution_count": 39,
   "metadata": {},
   "outputs": [],
   "source": [
    "qc_filter = counts_filter & genes_filter & mito_filter"
   ]
  },
  {
   "cell_type": "code",
   "execution_count": 40,
   "metadata": {},
   "outputs": [],
   "source": [
    "adata.obs['filtered_cells']=pd.Categorical(list(map(str,list(qc_filter))))"
   ]
  },
  {
   "cell_type": "code",
   "execution_count": null,
   "metadata": {},
   "outputs": [],
   "source": [
    "for col in ['log_cell_probs', 'log_counts', 'n_counts_rank', 'log_genes', 'mt_frac', 'rp_frac', 'ambi_frac']:\n",
    "    fig, axes = plt.subplots(1,2, figsize=(10, 4), gridspec_kw=dict(width_ratios=[2,1],wspace = 0.3))\n",
    "    \n",
    "    sb.violinplot(x='leiden', y=col, data=adata.obs, ax=axes[0])\n",
    "    \n",
    "    sb.violinplot(x='filtered_cells', y=col, data=adata.obs, ax=axes[1])\n",
    "    axes[1].set_ylabel(None)\n",
    "    fig.suptitle(col)"
   ]
  },
  {
   "cell_type": "code",
   "execution_count": null,
   "metadata": {},
   "outputs": [],
   "source": [
    "sc.pl.umap(adata, color=['log_counts','log_genes','mt_frac','rp_frac','ambi_frac','log_cell_probs'], size=20, add_outline=True, alpha=1, outline_width=(0.3, 0.0), ncols=3)\n",
    "sc.pl.umap(adata, color=['filtered_cells','leiden'], size=20, add_outline=True, alpha=1, outline_width=(0.3, 0.0), ncols=6)\n",
    "\n",
    "###############################################################################\n",
    "###############################################################################\n",
    "\n",
    "with rc_context({'figure.figsize': (6, 4)}): #rcParams['figure.figsize']=(6,4)\n",
    "    key = 'leiden'\n",
    "    labels = list(adata.obs[key].cat.categories)\n",
    "    keep_pct = []\n",
    "    filter_pct = []\n",
    "    width = 0.85       # the width of the bars: can also be len(x) sequence\n",
    "\n",
    "    for label in labels:\n",
    "        keep_pct = keep_pct + [adata.obs['filtered_cells'][adata.obs[key]==label].value_counts()['True']/adata.obs['filtered_cells'][adata.obs[key]==label].value_counts().sum()*100]\n",
    "        filter_pct = filter_pct + [adata.obs['filtered_cells'][adata.obs[key]==label].value_counts()['False']/adata.obs['filtered_cells'][adata.obs[key]==label].value_counts().sum()*100]\n",
    "\n",
    "    fig, ax = plt.subplots()\n",
    "\n",
    "    ax.bar(labels, filter_pct, width, label='Filter Out', edgecolor='0', linewidth=0.5)\n",
    "    ax.bar(labels, keep_pct, width, bottom=filter_pct, label='Keep', edgecolor='0', linewidth=0.5)\n",
    "\n",
    "    ax.set_ylabel('%')\n",
    "    ax.set_title('Percentage of Filtered Cells')\n",
    "    ax.axes.set_xticklabels(labels=labels, rotation=90)\n",
    "    ax.legend(bbox_to_anchor=(1, .5),loc='center left', edgecolor='1')\n",
    "\n",
    "    plt.ylim([-2.5,100+2.5])\n",
    "    plt.xlim([-1+0.25,len(labels)-0.25])\n",
    "\n",
    "    plt.show()\n",
    "\n",
    "#################################################################################\n",
    "#################################################################################\n",
    "\n",
    "sc.pl.scatter(adata, 'mt_frac', 'n_genes', color='filtered_cells')\n",
    "sc.pl.scatter(adata, 'log_counts', 'log_genes', color='filtered_cells')"
   ]
  },
  {
   "cell_type": "markdown",
   "metadata": {},
   "source": [
    "#### Filter"
   ]
  },
  {
   "cell_type": "code",
   "execution_count": 43,
   "metadata": {},
   "outputs": [
    {
     "name": "stdout",
     "output_type": "stream",
     "text": [
      "Filtered out 1760 cells (20.1 %).\n",
      "Number of cells after filter: 6980\n"
     ]
    }
   ],
   "source": [
    "# Filter cells according to identified QC thresholds:\n",
    "adata = filter_qc(adata, qc_filter=qc_filter)"
   ]
  },
  {
   "cell_type": "code",
   "execution_count": 44,
   "metadata": {},
   "outputs": [],
   "source": [
    "del adata.obs['filtered_cells']\n",
    "del adata.obs['filter_mt_frac']\n",
    "#del adata.obs['low_mt_frac']"
   ]
  },
  {
   "cell_type": "markdown",
   "metadata": {},
   "source": [
    "#### Plot Results"
   ]
  },
  {
   "cell_type": "code",
   "execution_count": 45,
   "metadata": {
    "scrolled": true
   },
   "outputs": [
    {
     "name": "stdout",
     "output_type": "stream",
     "text": [
      "normalizing counts per cell\n",
      "    finished (0:00:00)\n",
      "computing PCA\n",
      "    with n_comps=50\n",
      "    finished (0:00:04)\n",
      "computing neighbors\n",
      "    using 'X_pca' with n_pcs = 50\n",
      "    finished: added to `.uns['neighbors']`\n",
      "    `.obsp['distances']`, distances for each pair of neighbors\n",
      "    `.obsp['connectivities']`, weighted adjacency matrix (0:00:00)\n",
      "running Leiden clustering\n",
      "    finished: found 12 clusters and added\n",
      "    'leiden', the cluster labels (adata.obs, categorical) (0:00:00)\n",
      "computing UMAP\n",
      "    finished: added\n",
      "    'X_umap', UMAP coordinates (adata.obsm) (0:00:06)\n"
     ]
    }
   ],
   "source": [
    "get_umap_leiden(adata)"
   ]
  },
  {
   "cell_type": "code",
   "execution_count": null,
   "metadata": {},
   "outputs": [],
   "source": [
    "sc.pl.umap(adata, color=['log_counts','log_genes','mt_frac','rp_frac'], size=20, add_outline=True, alpha=1, outline_width=(0.3, 0.0), ncols=5)"
   ]
  },
  {
   "cell_type": "code",
   "execution_count": null,
   "metadata": {},
   "outputs": [],
   "source": [
    "sb.jointplot(\n",
    "    data=adata.obs,\n",
    "    x=\"log_counts\",\n",
    "    y=\"log_genes\",\n",
    "    kind=\"hist\", bins=100, cmap=\"rocket_r\", color=\"#f69c73\", space=0\n",
    ")"
   ]
  },
  {
   "cell_type": "markdown",
   "metadata": {},
   "source": [
    "# Save"
   ]
  },
  {
   "cell_type": "code",
   "execution_count": null,
   "metadata": {},
   "outputs": [],
   "source": [
    "sparsify_all_layers(adata)"
   ]
  },
  {
   "cell_type": "code",
   "execution_count": 49,
   "metadata": {},
   "outputs": [],
   "source": [
    "# Save\n",
    "sc.write('/storage/scRNA-seq/scRNA-seq_iPSC_IGFRL-KO/cellranger/MUC18396/count_matrices/MUC18396_raw_feature_bc_matrix_filtered.h5ad', adata)"
   ]
  },
  {
   "cell_type": "code",
   "execution_count": null,
   "metadata": {},
   "outputs": [],
   "source": []
  }
 ],
 "metadata": {
  "celltoolbar": "Initialization Cell",
  "kernelspec": {
   "display_name": "scAnalysis_sc1.9_ad0.8_mu0.1.2_md0.2_R4.1_FVF",
   "language": "python",
   "name": "scanalysis_sc1.9_ad0.8_mu0.1.2_md0.2_r4.1_fvf"
  },
  "language_info": {
   "codemirror_mode": {
    "name": "ipython",
    "version": 3
   },
   "file_extension": ".py",
   "mimetype": "text/x-python",
   "name": "python",
   "nbconvert_exporter": "python",
   "pygments_lexer": "ipython3",
   "version": "3.8.12"
  },
  "toc": {
   "base_numbering": 1,
   "nav_menu": {},
   "number_sections": true,
   "sideBar": true,
   "skip_h1_title": false,
   "title_cell": "Table of Contents",
   "title_sidebar": "Contents",
   "toc_cell": false,
   "toc_position": {
    "height": "calc(100% - 180px)",
    "left": "10px",
    "top": "150px",
    "width": "353.367px"
   },
   "toc_section_display": true,
   "toc_window_display": true
  },
  "varInspector": {
   "cols": {
    "lenName": 16,
    "lenType": 16,
    "lenVar": 40
   },
   "kernels_config": {
    "python": {
     "delete_cmd_postfix": "",
     "delete_cmd_prefix": "del ",
     "library": "var_list.py",
     "varRefreshCmd": "print(var_dic_list())"
    },
    "r": {
     "delete_cmd_postfix": ") ",
     "delete_cmd_prefix": "rm(",
     "library": "var_list.r",
     "varRefreshCmd": "cat(var_dic_list()) "
    }
   },
   "types_to_exclude": [
    "module",
    "function",
    "builtin_function_or_method",
    "instance",
    "_Feature"
   ],
   "window_display": false
  }
 },
 "nbformat": 4,
 "nbformat_minor": 4
}
