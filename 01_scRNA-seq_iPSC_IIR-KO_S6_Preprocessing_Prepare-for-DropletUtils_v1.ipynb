{
 "cells": [
  {
   "cell_type": "markdown",
   "metadata": {},
   "source": [
    "# IIR-KO iPSC Differentiations - S6 - Preprocessing - Prepare Data for DropletUtils\n",
    "\n",
    "2022-09-15 15:20:44   "
   ]
  },
  {
   "cell_type": "code",
   "execution_count": 1,
   "metadata": {
    "scrolled": true
   },
   "outputs": [
    {
     "data": {
      "text/html": [
       "<style>.container { width:85% !important; }</style>"
      ],
      "text/plain": [
       "<IPython.core.display.HTML object>"
      ]
     },
     "metadata": {},
     "output_type": "display_data"
    }
   ],
   "source": [
    "from IPython.core.display import display, HTML\n",
    "display(HTML(\"<style>.container { width:85% !important; }</style>\"))"
   ]
  },
  {
   "cell_type": "code",
   "execution_count": 2,
   "metadata": {
    "ExecuteTime": {
     "end_time": "2019-04-15T09:23:27.277106Z",
     "start_time": "2019-04-15T09:23:25.653400Z"
    }
   },
   "outputs": [],
   "source": [
    "# General\n",
    "import scipy as sci\n",
    "import numpy as np\n",
    "import pandas as pd\n",
    "import logging\n",
    "import gc # Free memory #gc.collect()\n",
    "\n",
    "# Analysis\n",
    "import scanpy as sc"
   ]
  },
  {
   "cell_type": "code",
   "execution_count": 3,
   "metadata": {
    "scrolled": false
   },
   "outputs": [
    {
     "name": "stdout",
     "output_type": "stream",
     "text": [
      "-----\n",
      "anndata     0.8.0\n",
      "scanpy      1.9.1\n",
      "-----\n",
      "PIL                         8.4.0\n",
      "anyio                       NA\n",
      "attr                        21.2.0\n",
      "babel                       2.9.1\n",
      "backcall                    0.2.0\n",
      "beta_ufunc                  NA\n",
      "binom_ufunc                 NA\n",
      "bottleneck                  1.3.2\n",
      "certifi                     2022.06.15\n",
      "cffi                        1.15.0\n",
      "chardet                     4.0.0\n",
      "charset_normalizer          2.0.7\n",
      "cloudpickle                 2.0.0\n",
      "colorama                    0.4.4\n",
      "cupy                        10.1.0\n",
      "cupy_backends               NA\n",
      "cupyx                       NA\n",
      "cycler                      0.10.0\n",
      "cython_runtime              NA\n",
      "dask                        2021.10.0\n",
      "dateutil                    2.8.2\n",
      "debugpy                     1.4.1\n",
      "decorator                   5.1.0\n",
      "defusedxml                  0.7.1\n",
      "entrypoints                 0.3\n",
      "fastrlock                   0.8\n",
      "fsspec                      2021.10.1\n",
      "google                      NA\n",
      "h5py                        3.6.0\n",
      "idna                        3.3\n",
      "igraph                      0.9.8\n",
      "importlib_resources         NA\n",
      "ipykernel                   6.4.2\n",
      "ipython_genutils            0.2.0\n",
      "jedi                        0.18.0\n",
      "jinja2                      3.0.2\n",
      "joblib                      1.1.0\n",
      "json5                       NA\n",
      "jsonschema                  4.2.0\n",
      "jupyter_server              1.11.2\n",
      "jupyterlab_server           2.8.2\n",
      "kiwisolver                  1.3.2\n",
      "leidenalg                   0.8.8\n",
      "llvmlite                    0.37.0\n",
      "louvain                     0.7.0\n",
      "markupsafe                  2.0.1\n",
      "matplotlib                  3.5.2\n",
      "mpl_toolkits                NA\n",
      "natsort                     8.0.0\n",
      "nbclassic                   NA\n",
      "nbformat                    5.1.3\n",
      "nbinom_ufunc                NA\n",
      "numba                       0.54.1\n",
      "numexpr                     2.7.3\n",
      "numpy                       1.20.0\n",
      "packaging                   21.3\n",
      "pandas                      1.4.3\n",
      "parso                       0.8.2\n",
      "pexpect                     4.8.0\n",
      "pickleshare                 0.7.5\n",
      "pkg_resources               NA\n",
      "prometheus_client           NA\n",
      "prompt_toolkit              3.0.21\n",
      "psutil                      5.8.0\n",
      "ptyprocess                  0.7.0\n",
      "pvectorc                    NA\n",
      "pydev_ipython               NA\n",
      "pydevconsole                NA\n",
      "pydevd                      2.4.1\n",
      "pydevd_concurrency_analyser NA\n",
      "pydevd_file_utils           NA\n",
      "pydevd_plugins              NA\n",
      "pydevd_tracing              NA\n",
      "pygments                    2.10.0\n",
      "pyparsing                   2.4.7\n",
      "pyrsistent                  NA\n",
      "pytz                        2021.3\n",
      "requests                    2.26.0\n",
      "scipy                       1.7.1\n",
      "send2trash                  NA\n",
      "session_info                1.0.0\n",
      "six                         1.16.0\n",
      "sklearn                     1.0.1\n",
      "sniffio                     1.2.0\n",
      "sparse                      0.13.0\n",
      "sphinxcontrib               NA\n",
      "storemagic                  NA\n",
      "terminado                   0.12.1\n",
      "texttable                   1.6.4\n",
      "threadpoolctl               3.0.0\n",
      "tlz                         0.11.1\n",
      "toolz                       0.11.1\n",
      "tornado                     6.1\n",
      "traitlets                   5.1.1\n",
      "typing_extensions           NA\n",
      "urllib3                     1.26.7\n",
      "wcwidth                     0.2.5\n",
      "websocket                   1.2.1\n",
      "yaml                        5.4.1\n",
      "zipp                        NA\n",
      "zmq                         22.3.0\n",
      "-----\n",
      "IPython             7.29.0\n",
      "jupyter_client      7.0.6\n",
      "jupyter_core        4.9.1\n",
      "jupyterlab          3.2.4\n",
      "notebook            6.4.5\n",
      "-----\n",
      "Python 3.8.12 | packaged by conda-forge | (default, Oct 12 2021, 21:57:06) [GCC 9.4.0]\n",
      "Linux-5.15.0-46-generic-x86_64-with-glibc2.10\n",
      "-----\n",
      "Session information updated at 2022-09-15 15:26\n"
     ]
    }
   ],
   "source": [
    "# Settings\n",
    "\n",
    "## Scanpy settings\n",
    "sc.settings.verbosity = 3\n",
    "sc.logging.print_versions()"
   ]
  },
  {
   "cell_type": "markdown",
   "metadata": {},
   "source": [
    "# Prepare Data for DropletUtils\n",
    "\n",
    "Load raw data (raw_gene_bc_matrices/mm10/matrix.mtx) filter out droplets with less than 1 counts and save."
   ]
  },
  {
   "cell_type": "raw",
   "metadata": {},
   "source": [
    "MUC18396\t394\tWT\n",
    "MUC18397\t395\tIIR-KO\n",
    "MUC20660\t405\tPost_Transplantation_WT\n",
    "MUC20661\t406\tPost_Transplantation_IIR-KO\n",
    "MUC28175\t435\tS5_WT_v3.1\n",
    "MUC28176\t436\tS5_IIR-KO_v3.1"
   ]
  },
  {
   "cell_type": "code",
   "execution_count": 4,
   "metadata": {
    "scrolled": false
   },
   "outputs": [
    {
     "name": "stdout",
     "output_type": "stream",
     "text": [
      "Loading /storage/scRNA-seq/scRNA-seq_iPSC_IGFRL-KO/cellranger/MUC18396/count_matrices\n",
      "reading /storage/scRNA-seq/scRNA-seq_iPSC_IGFRL-KO/cellranger/MUC18396/count_matrices/raw_feature_bc_matrix.h5\n",
      " (0:00:06)\n"
     ]
    },
    {
     "name": "stderr",
     "output_type": "stream",
     "text": [
      "/home/michi/Software/venvs/scAnalysis_sc1.9_ad0.8_mu0.1.2_md0.2_R4.1_FVF/lib/python3.8/site-packages/anndata/_core/anndata.py:1830: UserWarning: Variable names are not unique. To make them unique, call `.var_names_make_unique`.\n",
      "  utils.warn_names_duplicates(\"var\")\n"
     ]
    },
    {
     "name": "stdout",
     "output_type": "stream",
     "text": [
      "(6794880, 20613)\n",
      "filtered out 5230935 cells that have less than 1 counts\n",
      "filtered out 2725 genes that are detected in less than 1 cells\n"
     ]
    },
    {
     "name": "stderr",
     "output_type": "stream",
     "text": [
      "/home/michi/Software/venvs/scAnalysis_sc1.9_ad0.8_mu0.1.2_md0.2_R4.1_FVF/lib/python3.8/site-packages/anndata/_core/anndata.py:1830: UserWarning: Variable names are not unique. To make them unique, call `.var_names_make_unique`.\n",
      "  utils.warn_names_duplicates(\"var\")\n",
      "/home/michi/Software/venvs/scAnalysis_sc1.9_ad0.8_mu0.1.2_md0.2_R4.1_FVF/lib/python3.8/site-packages/anndata/_core/anndata.py:1830: UserWarning: Variable names are not unique. To make them unique, call `.var_names_make_unique`.\n",
      "  utils.warn_names_duplicates(\"var\")\n",
      "... storing 'feature_types' as categorical\n",
      "... storing 'genome' as categorical\n"
     ]
    },
    {
     "name": "stdout",
     "output_type": "stream",
     "text": [
      "(1563945, 17888) \n",
      "\n",
      "\n",
      "Loading /storage/scRNA-seq/scRNA-seq_iPSC_IGFRL-KO/cellranger/MUC18397/count_matrices\n",
      "reading /storage/scRNA-seq/scRNA-seq_iPSC_IGFRL-KO/cellranger/MUC18397/count_matrices/raw_feature_bc_matrix.h5\n",
      " (0:00:05)\n",
      "(6794880, 20613)\n",
      "filtered out 5572605 cells that have less than 1 counts\n"
     ]
    },
    {
     "name": "stderr",
     "output_type": "stream",
     "text": [
      "/home/michi/Software/venvs/scAnalysis_sc1.9_ad0.8_mu0.1.2_md0.2_R4.1_FVF/lib/python3.8/site-packages/anndata/_core/anndata.py:1830: UserWarning: Variable names are not unique. To make them unique, call `.var_names_make_unique`.\n",
      "  utils.warn_names_duplicates(\"var\")\n"
     ]
    },
    {
     "name": "stdout",
     "output_type": "stream",
     "text": [
      "filtered out 3114 genes that are detected in less than 1 cells\n"
     ]
    },
    {
     "name": "stderr",
     "output_type": "stream",
     "text": [
      "/home/michi/Software/venvs/scAnalysis_sc1.9_ad0.8_mu0.1.2_md0.2_R4.1_FVF/lib/python3.8/site-packages/anndata/_core/anndata.py:1830: UserWarning: Variable names are not unique. To make them unique, call `.var_names_make_unique`.\n",
      "  utils.warn_names_duplicates(\"var\")\n",
      "/home/michi/Software/venvs/scAnalysis_sc1.9_ad0.8_mu0.1.2_md0.2_R4.1_FVF/lib/python3.8/site-packages/anndata/_core/anndata.py:1830: UserWarning: Variable names are not unique. To make them unique, call `.var_names_make_unique`.\n",
      "  utils.warn_names_duplicates(\"var\")\n",
      "... storing 'feature_types' as categorical\n",
      "... storing 'genome' as categorical\n"
     ]
    },
    {
     "name": "stdout",
     "output_type": "stream",
     "text": [
      "(1222275, 17499) \n",
      "\n",
      "\n"
     ]
    }
   ],
   "source": [
    "samples = ['MUC18396','MUC18397'] #,'MUC20660','MUC20661','MUC28175','MUC28176']\n",
    "base_path = '/storage/scRNA-seq/scRNA-seq_iPSC_IGFRL-KO/cellranger/'\n",
    "outs_path = '/count_matrices'\n",
    "\n",
    "for sample in samples:\n",
    "    print('Loading ' + base_path + sample + outs_path)\n",
    "    path = base_path + sample + outs_path\n",
    "    adata = sc.read_10x_h5(path + '/raw_feature_bc_matrix.h5')\n",
    "    print(adata.shape)\n",
    "    sc.pp.filter_cells(adata, min_counts=1)\n",
    "    sc.pp.filter_genes(adata, min_cells=1)\n",
    "    print(adata.shape,'\\n\\n')\n",
    "    sc.write(path + '/' + sample + '_raw_feature_bc_matrix', adata)\n",
    "    del adata\n",
    "    gc.collect()\n",
    "\n"
   ]
  },
  {
   "cell_type": "code",
   "execution_count": null,
   "metadata": {},
   "outputs": [],
   "source": []
  }
 ],
 "metadata": {
  "kernelspec": {
   "display_name": "scAnalysis_sc1.9_ad0.8_mu0.1.2_md0.2_R4.1_FVF",
   "language": "python",
   "name": "scanalysis_sc1.9_ad0.8_mu0.1.2_md0.2_r4.1_fvf"
  },
  "language_info": {
   "codemirror_mode": {
    "name": "ipython",
    "version": 3
   },
   "file_extension": ".py",
   "mimetype": "text/x-python",
   "name": "python",
   "nbconvert_exporter": "python",
   "pygments_lexer": "ipython3",
   "version": "3.8.12"
  },
  "toc": {
   "base_numbering": 1,
   "nav_menu": {},
   "number_sections": true,
   "sideBar": true,
   "skip_h1_title": false,
   "title_cell": "Table of Contents",
   "title_sidebar": "Contents",
   "toc_cell": false,
   "toc_position": {
    "height": "calc(100% - 180px)",
    "left": "10px",
    "top": "150px",
    "width": "375.533px"
   },
   "toc_section_display": true,
   "toc_window_display": true
  },
  "varInspector": {
   "cols": {
    "lenName": 16,
    "lenType": 16,
    "lenVar": 40
   },
   "kernels_config": {
    "python": {
     "delete_cmd_postfix": "",
     "delete_cmd_prefix": "del ",
     "library": "var_list.py",
     "varRefreshCmd": "print(var_dic_list())"
    },
    "r": {
     "delete_cmd_postfix": ") ",
     "delete_cmd_prefix": "rm(",
     "library": "var_list.r",
     "varRefreshCmd": "cat(var_dic_list()) "
    }
   },
   "types_to_exclude": [
    "module",
    "function",
    "builtin_function_or_method",
    "instance",
    "_Feature"
   ],
   "window_display": false
  }
 },
 "nbformat": 4,
 "nbformat_minor": 2
}
