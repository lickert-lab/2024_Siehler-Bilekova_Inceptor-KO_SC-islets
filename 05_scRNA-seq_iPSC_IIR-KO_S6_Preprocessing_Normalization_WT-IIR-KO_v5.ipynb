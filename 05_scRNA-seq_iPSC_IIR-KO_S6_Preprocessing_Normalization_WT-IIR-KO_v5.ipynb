{
 "cells": [
  {
   "cell_type": "markdown",
   "metadata": {},
   "source": [
    "\n",
    "# Preprocessing - SCT & Scran Normalization\n",
    "Michael Sterr\n",
    "\n",
    "2021-06-02 11:41:56     \n",
    "\n",
    "\n",
    "# Setup\n",
    "\n",
    "Run following scripts before:\n",
    " * scRNA-seq_iPCS_IIR-KO_Preprocessing_Doublet-Detection_XXX_XXX"
   ]
  },
  {
   "cell_type": "code",
   "execution_count": 1,
   "metadata": {},
   "outputs": [
    {
     "data": {
      "text/html": [
       "<style>.container { width:85% !important; }</style>"
      ],
      "text/plain": [
       "<IPython.core.display.HTML object>"
      ]
     },
     "metadata": {},
     "output_type": "display_data"
    }
   ],
   "source": [
    "from IPython.core.display import display, HTML\n",
    "display(HTML(\"<style>.container { width:85% !important; }</style>\"))"
   ]
  },
  {
   "cell_type": "code",
   "execution_count": 2,
   "metadata": {
    "ExecuteTime": {
     "end_time": "2019-04-15T09:23:27.277106Z",
     "start_time": "2019-04-15T09:23:25.653400Z"
    }
   },
   "outputs": [],
   "source": [
    "# General\n",
    "import scipy as sci\n",
    "import numpy as np\n",
    "import pandas as pd\n",
    "import logging\n",
    "import time\n",
    "import pickle\n",
    "from itertools import chain\n",
    "import session_info\n",
    "\n",
    "# Plotting\n",
    "import matplotlib.pyplot as plt\n",
    "import matplotlib as mpl\n",
    "from matplotlib import rcParams\n",
    "from matplotlib import cm\n",
    "import seaborn as sb\n",
    "\n",
    "# Analysis\n",
    "import scanpy as sc"
   ]
  },
  {
   "cell_type": "code",
   "execution_count": 3,
   "metadata": {},
   "outputs": [
    {
     "name": "stdout",
     "output_type": "stream",
     "text": [
      "-----\n",
      "anndata     0.8.0\n",
      "scanpy      1.9.1\n",
      "-----\n",
      "PIL                         8.4.0\n",
      "anyio                       NA\n",
      "attr                        21.2.0\n",
      "babel                       2.9.1\n",
      "backcall                    0.2.0\n",
      "beta_ufunc                  NA\n",
      "binom_ufunc                 NA\n",
      "bottleneck                  1.3.2\n",
      "certifi                     2022.06.15\n",
      "cffi                        1.15.0\n",
      "chardet                     4.0.0\n",
      "charset_normalizer          2.0.7\n",
      "cloudpickle                 2.0.0\n",
      "colorama                    0.4.4\n",
      "cupy                        10.1.0\n",
      "cupy_backends               NA\n",
      "cupyx                       NA\n",
      "cycler                      0.10.0\n",
      "cython_runtime              NA\n",
      "dask                        2021.10.0\n",
      "dateutil                    2.8.2\n",
      "debugpy                     1.4.1\n",
      "decorator                   5.1.0\n",
      "defusedxml                  0.7.1\n",
      "entrypoints                 0.3\n",
      "fastrlock                   0.8\n",
      "fsspec                      2021.10.1\n",
      "google                      NA\n",
      "h5py                        3.6.0\n",
      "idna                        3.3\n",
      "igraph                      0.9.8\n",
      "importlib_resources         NA\n",
      "ipykernel                   6.4.2\n",
      "ipython_genutils            0.2.0\n",
      "ipywidgets                  7.6.5\n",
      "jedi                        0.18.0\n",
      "jinja2                      3.0.2\n",
      "joblib                      1.1.0\n",
      "json5                       NA\n",
      "jsonschema                  4.2.0\n",
      "jupyter_server              1.11.2\n",
      "jupyterlab_server           2.8.2\n",
      "kiwisolver                  1.3.2\n",
      "leidenalg                   0.8.8\n",
      "llvmlite                    0.37.0\n",
      "louvain                     0.7.0\n",
      "markupsafe                  2.0.1\n",
      "matplotlib                  3.5.2\n",
      "mpl_toolkits                NA\n",
      "natsort                     8.0.0\n",
      "nbclassic                   NA\n",
      "nbformat                    5.1.3\n",
      "nbinom_ufunc                NA\n",
      "numba                       0.54.1\n",
      "numexpr                     2.7.3\n",
      "numpy                       1.20.0\n",
      "packaging                   21.3\n",
      "pandas                      1.4.3\n",
      "parso                       0.8.2\n",
      "pexpect                     4.8.0\n",
      "pickleshare                 0.7.5\n",
      "pkg_resources               NA\n",
      "prometheus_client           NA\n",
      "prompt_toolkit              3.0.21\n",
      "psutil                      5.8.0\n",
      "ptyprocess                  0.7.0\n",
      "pvectorc                    NA\n",
      "pydev_ipython               NA\n",
      "pydevconsole                NA\n",
      "pydevd                      2.4.1\n",
      "pydevd_concurrency_analyser NA\n",
      "pydevd_file_utils           NA\n",
      "pydevd_plugins              NA\n",
      "pydevd_tracing              NA\n",
      "pygments                    2.10.0\n",
      "pyparsing                   2.4.7\n",
      "pyrsistent                  NA\n",
      "pytz                        2021.3\n",
      "requests                    2.26.0\n",
      "scipy                       1.7.1\n",
      "seaborn                     0.11.2\n",
      "send2trash                  NA\n",
      "session_info                1.0.0\n",
      "six                         1.16.0\n",
      "sklearn                     1.0.1\n",
      "sniffio                     1.2.0\n",
      "sparse                      0.13.0\n",
      "sphinxcontrib               NA\n",
      "statsmodels                 0.13.2\n",
      "storemagic                  NA\n",
      "terminado                   0.12.1\n",
      "texttable                   1.6.4\n",
      "threadpoolctl               3.0.0\n",
      "tlz                         0.11.1\n",
      "toolz                       0.11.1\n",
      "tornado                     6.1\n",
      "traitlets                   5.1.1\n",
      "typing_extensions           NA\n",
      "urllib3                     1.26.7\n",
      "wcwidth                     0.2.5\n",
      "websocket                   1.2.1\n",
      "yaml                        5.4.1\n",
      "zipp                        NA\n",
      "zmq                         22.3.0\n",
      "-----\n",
      "IPython             7.29.0\n",
      "jupyter_client      7.0.6\n",
      "jupyter_core        4.9.1\n",
      "jupyterlab          3.2.4\n",
      "notebook            6.4.5\n",
      "-----\n",
      "Python 3.8.12 | packaged by conda-forge | (default, Oct 12 2021, 21:57:06) [GCC 9.4.0]\n",
      "Linux-5.15.0-48-generic-x86_64-with-glibc2.10\n",
      "-----\n",
      "Session information updated at 2022-10-05 13:21\n"
     ]
    },
    {
     "data": {
      "text/html": [
       "<details>\n",
       "<summary>Click to view session information</summary>\n",
       "<pre>\n",
       "-----\n",
       "matplotlib          3.5.2\n",
       "numpy               1.20.0\n",
       "pandas              1.4.3\n",
       "scanpy              1.9.1\n",
       "scipy               1.7.1\n",
       "seaborn             0.11.2\n",
       "session_info        1.0.0\n",
       "-----\n",
       "</pre>\n",
       "<details>\n",
       "<summary>Click to view modules imported as dependencies</summary>\n",
       "<pre>\n",
       "PIL                         8.4.0\n",
       "anndata                     0.8.0\n",
       "anyio                       NA\n",
       "attr                        21.2.0\n",
       "babel                       2.9.1\n",
       "backcall                    0.2.0\n",
       "beta_ufunc                  NA\n",
       "binom_ufunc                 NA\n",
       "bottleneck                  1.3.2\n",
       "certifi                     2022.06.15\n",
       "cffi                        1.15.0\n",
       "chardet                     4.0.0\n",
       "charset_normalizer          2.0.7\n",
       "cloudpickle                 2.0.0\n",
       "colorama                    0.4.4\n",
       "cupy                        10.1.0\n",
       "cupy_backends               NA\n",
       "cupyx                       NA\n",
       "cycler                      0.10.0\n",
       "cython_runtime              NA\n",
       "dask                        2021.10.0\n",
       "dateutil                    2.8.2\n",
       "debugpy                     1.4.1\n",
       "decorator                   5.1.0\n",
       "defusedxml                  0.7.1\n",
       "entrypoints                 0.3\n",
       "fastrlock                   0.8\n",
       "fsspec                      2021.10.1\n",
       "google                      NA\n",
       "h5py                        3.6.0\n",
       "idna                        3.3\n",
       "igraph                      0.9.8\n",
       "importlib_resources         NA\n",
       "ipykernel                   6.4.2\n",
       "ipython_genutils            0.2.0\n",
       "ipywidgets                  7.6.5\n",
       "jedi                        0.18.0\n",
       "jinja2                      3.0.2\n",
       "joblib                      1.1.0\n",
       "json5                       NA\n",
       "jsonschema                  4.2.0\n",
       "jupyter_server              1.11.2\n",
       "jupyterlab_server           2.8.2\n",
       "kiwisolver                  1.3.2\n",
       "leidenalg                   0.8.8\n",
       "llvmlite                    0.37.0\n",
       "louvain                     0.7.0\n",
       "markupsafe                  2.0.1\n",
       "mpl_toolkits                NA\n",
       "natsort                     8.0.0\n",
       "nbclassic                   NA\n",
       "nbformat                    5.1.3\n",
       "nbinom_ufunc                NA\n",
       "numba                       0.54.1\n",
       "numexpr                     2.7.3\n",
       "packaging                   21.3\n",
       "parso                       0.8.2\n",
       "pexpect                     4.8.0\n",
       "pickleshare                 0.7.5\n",
       "pkg_resources               NA\n",
       "prometheus_client           NA\n",
       "prompt_toolkit              3.0.21\n",
       "psutil                      5.8.0\n",
       "ptyprocess                  0.7.0\n",
       "pvectorc                    NA\n",
       "pydev_ipython               NA\n",
       "pydevconsole                NA\n",
       "pydevd                      2.4.1\n",
       "pydevd_concurrency_analyser NA\n",
       "pydevd_file_utils           NA\n",
       "pydevd_plugins              NA\n",
       "pydevd_tracing              NA\n",
       "pygments                    2.10.0\n",
       "pyparsing                   2.4.7\n",
       "pyrsistent                  NA\n",
       "pytz                        2021.3\n",
       "requests                    2.26.0\n",
       "send2trash                  NA\n",
       "six                         1.16.0\n",
       "sklearn                     1.0.1\n",
       "sniffio                     1.2.0\n",
       "sparse                      0.13.0\n",
       "sphinxcontrib               NA\n",
       "statsmodels                 0.13.2\n",
       "storemagic                  NA\n",
       "terminado                   0.12.1\n",
       "texttable                   1.6.4\n",
       "threadpoolctl               3.0.0\n",
       "tlz                         0.11.1\n",
       "toolz                       0.11.1\n",
       "tornado                     6.1\n",
       "traitlets                   5.1.1\n",
       "typing_extensions           NA\n",
       "urllib3                     1.26.7\n",
       "wcwidth                     0.2.5\n",
       "websocket                   1.2.1\n",
       "yaml                        5.4.1\n",
       "zipp                        NA\n",
       "zmq                         22.3.0\n",
       "</pre>\n",
       "</details> <!-- seems like this ends pre, so might as well be explicit -->\n",
       "<pre>\n",
       "-----\n",
       "IPython             7.29.0\n",
       "jupyter_client      7.0.6\n",
       "jupyter_core        4.9.1\n",
       "jupyterlab          3.2.4\n",
       "notebook            6.4.5\n",
       "-----\n",
       "Python 3.8.12 | packaged by conda-forge | (default, Oct 12 2021, 21:57:06) [GCC 9.4.0]\n",
       "Linux-5.15.0-48-generic-x86_64-with-glibc2.10\n",
       "-----\n",
       "Session information updated at 2022-10-05 13:21\n",
       "</pre>\n",
       "</details>"
      ],
      "text/plain": [
       "<IPython.core.display.HTML object>"
      ]
     },
     "execution_count": 3,
     "metadata": {},
     "output_type": "execute_result"
    }
   ],
   "source": [
    "# Settings\n",
    "\n",
    "## Scanpy settings\n",
    "sc.settings.verbosity = 3\n",
    "sc.logging.print_versions()\n",
    "session_info.show()"
   ]
  },
  {
   "cell_type": "code",
   "execution_count": 4,
   "metadata": {
    "ExecuteTime": {
     "end_time": "2019-04-15T09:23:29.016609Z",
     "start_time": "2019-04-15T09:23:28.667840Z"
    }
   },
   "outputs": [],
   "source": [
    "# Color maps\n",
    "exec(open(\"/home/michi/Software/viscm/maps/michi_bk_bl_gn_yl.py\").read())"
   ]
  },
  {
   "cell_type": "code",
   "execution_count": 5,
   "metadata": {
    "ExecuteTime": {
     "end_time": "2019-04-15T09:23:30.907616Z",
     "start_time": "2019-04-15T09:23:30.903744Z"
    }
   },
   "outputs": [],
   "source": [
    "# Plot settings\n",
    "%matplotlib inline\n",
    "\n",
    "## Directory\n",
    "sc.settings.figdir='/home/michi/Projects/scRNA-seq_iPSC_IGFRL-KO_Notebooks/Figures'\n",
    "\n",
    "## Plotting parameters\n",
    "rcParams['figure.figsize']=(20,20) #rescale figures\n",
    "#sc.set_figure_params(scanpy=True, frameon=False, vector_friendly=False, color_map='tab10' ,transparent=True, dpi=150, dpi_save=300)\n",
    "sc.set_figure_params(scanpy=True, frameon=False, vector_friendly=False ,transparent=True, dpi=150, dpi_save=300)\n",
    "\n",
    "## Font\n",
    "rcParams['font.family'] = 'sans-serif'\n",
    "rcParams['font.sans-serif'] = ['Source Sans 3']\n",
    "\n",
    "## Grid & Ticks\n",
    "rcParams['grid.alpha'] = 0\n",
    "rcParams['xtick.bottom'] = True\n",
    "rcParams['ytick.left'] = True\n",
    "\n",
    "## Embed font\n",
    "plt.rc('pdf', fonttype=42)\n",
    "\n",
    "## Define new default settings\n",
    "plt.rcParamsDefault = plt.rcParams"
   ]
  },
  {
   "cell_type": "markdown",
   "metadata": {},
   "source": [
    "# Setup R"
   ]
  },
  {
   "cell_type": "code",
   "execution_count": 6,
   "metadata": {},
   "outputs": [],
   "source": [
    "#R\n",
    "import os\n",
    "os.environ['R_HOME'] = '/home/michi/Software/venvs/scAnalysis_sc1.9_ad0.8_mu0.1.2_md0.2_R4.1_FVF/lib/R' #path to your R installation\n",
    "\n",
    "import rpy2\n",
    "import rpy2.robjects as ro\n",
    "import rpy2.rinterface_lib.callbacks\n",
    "from rpy2.robjects import pandas2ri\n",
    "import anndata2ri\n",
    "\n",
    "## R settings\n",
    "\n",
    "### Ignore R warning messages\n",
    "#### Note: this can be commented out to get more verbose R output\n",
    "rpy2.rinterface_lib.callbacks.logger.setLevel(logging.ERROR)\n",
    "\n",
    "### Automatically convert rpy2 outputs to pandas dataframes\n",
    "pandas2ri.activate()\n",
    "anndata2ri.activate()\n",
    "%load_ext rpy2.ipython"
   ]
  },
  {
   "cell_type": "code",
   "execution_count": 7,
   "metadata": {},
   "outputs": [
    {
     "name": "stdout",
     "output_type": "stream",
     "text": [
      "[1] \"/home/michi/Software/venvs/scAnalysis_sc1.9_ad0.8_mu0.1.2_md0.2_R4.1_FVF/lib/R/library\"\n"
     ]
    }
   ],
   "source": [
    "%%R\n",
    "\n",
    ".libPaths()"
   ]
  },
  {
   "cell_type": "code",
   "execution_count": 8,
   "metadata": {},
   "outputs": [
    {
     "name": "stdout",
     "output_type": "stream",
     "text": [
      "R version 4.1.1 (2021-08-10)\n",
      "Platform: x86_64-pc-linux-gnu (64-bit)\n",
      "Running under: Ubuntu 20.04.5 LTS\n",
      "\n",
      "Matrix products: default\n",
      "BLAS/LAPACK: /home/michi/Software/venvs/scAnalysis_sc1.9_ad0.8_mu0.1.2_md0.2_R4.1_FVF/lib/libopenblasp-r0.3.18.so\n",
      "\n",
      "locale:\n",
      " [1] LC_CTYPE=en_US.UTF-8       LC_NUMERIC=C              \n",
      " [3] LC_TIME=de_DE.UTF-8        LC_COLLATE=en_US.UTF-8    \n",
      " [5] LC_MONETARY=de_DE.UTF-8    LC_MESSAGES=en_US.UTF-8   \n",
      " [7] LC_PAPER=de_DE.UTF-8       LC_NAME=C                 \n",
      " [9] LC_ADDRESS=C               LC_TELEPHONE=C            \n",
      "[11] LC_MEASUREMENT=de_DE.UTF-8 LC_IDENTIFICATION=C       \n",
      "\n",
      "attached base packages:\n",
      "[1] tools     stats     graphics  grDevices utils     datasets  methods  \n",
      "[8] base     \n",
      "\n",
      "loaded via a namespace (and not attached):\n",
      "[1] compiler_4.1.1\n"
     ]
    }
   ],
   "source": [
    "%%R\n",
    "# # Parallelization\n",
    "# library(\"BiocParallel.FutureParam\")\n",
    "# register(FutureParam())\n",
    "# plan(multicore, workers=8)\n",
    "# options(future.globals.maxSize = 2 * 1024 ^ 3) # for 50 Gb RAM\n",
    "\n",
    "sessionInfo()"
   ]
  },
  {
   "cell_type": "markdown",
   "metadata": {},
   "source": [
    "# Functions"
   ]
  },
  {
   "cell_type": "code",
   "execution_count": 9,
   "metadata": {},
   "outputs": [],
   "source": [
    "def qc_metrics(adata, ambient=True, plot=True, counts_per_gene=True, make_dense=False, genome='auto', mt_genes_path='/mnt/ssd/Resources/sus_scrofa_mt_ens101_ext.txt'):\n",
    "    \"\"\"\\\n",
    "    Calculate QC metrics.\n",
    "    genome: {'auto','Mus_musculus','Homo_sapiens','Sus_scrofa'}\n",
    "    mt_genes_path: Path to mitochondrial genes for sus scrofa. Tab delimited file without header and with gene symbols in column 2. default: '/mnt/ssd/Resources/sus_scrofa_mt_ens101_ext.txt'\n",
    "    ambient: Requires adata.var['is_ambient'] = pd.Categorical(list(map(str,list(adata.var['ambient_genes'] > cut_off))))\n",
    "    \"\"\"\n",
    "    \n",
    "    is_ambi_key = 'is_ambient_' + adata.obs['sample'][0]\n",
    "    \n",
    "    if genome=='auto':\n",
    "        genome = '_'.join(adata.var.loc[:,'genome'][0].split('_')[0:2])\n",
    "        print('Genome is', genome)\n",
    "\n",
    "    if make_dense:\n",
    "        adata.X = adata.X.toarray()\n",
    "\n",
    "    if counts_per_gene:\n",
    "        # counts per gene\n",
    "        adata.var['n_counts'] = adata.X.sum(0)\n",
    "\n",
    "    # counts per cell\n",
    "    adata.obs['n_counts'] = adata.X.sum(1)\n",
    "    # log counts per cell\n",
    "    adata.obs['log_counts'] = np.log(adata.obs['n_counts'])\n",
    "    # rank by counts\n",
    "    adata.obs['n_counts_rank'] = adata.obs['n_counts'].rank(method='first',ascending=False)\n",
    "    # genes per cell\n",
    "    adata.obs['n_genes'] = (adata.X > 0).sum(1)\n",
    "    # log genes per cell\n",
    "    adata.obs['log_genes'] = np.log(adata.obs['n_genes'])\n",
    "    # fraction of mitochondrial genes\n",
    "    if (genome == 'Homo_sapiens') | (genome == 'homo_sapiens'):\n",
    "        mt_gene_mask = [gene.startswith('MT-') for gene in adata.var_names]\n",
    "        adata.obs['mt_frac'] = adata.X[:, mt_gene_mask].sum(1)/adata.obs['n_counts']\n",
    "\n",
    "        rp_gene_mask = [gene.startswith(('RPS','RPL')) for gene in adata.var_names]\n",
    "        adata.obs['rp_frac'] = adata.X[:,rp_gene_mask].sum(1) / adata.obs['n_counts']\n",
    "\n",
    "    elif (genome == 'Mus_musculus') | (genome == 'mus_musculus'):\n",
    "        mt_gene_mask = [gene.startswith('mt-') for gene in adata.var_names]\n",
    "        adata.obs['mt_frac'] = adata.X[:, mt_gene_mask].sum(1)/adata.obs['n_counts']\n",
    "\n",
    "        rp_gene_mask = [gene.startswith(('Rps','Rpl')) for gene in adata.var_names]\n",
    "        adata.obs['rp_frac'] = adata.X[:,rp_gene_mask].sum(1) / adata.obs['n_counts']\n",
    "\n",
    "    elif (genome == 'Sus_scrofa') | (genome == 'sus_scrofa'):\n",
    "        mt_genes = [gene.split('-')[0] for gene in list(pd.read_csv(mt_genes_path , header=None, sep=\"\\t\")[1])]\n",
    "        mt_gene_mask = adata.var_names.isin(mt_genes)\n",
    "        adata.obs['mt_frac'] = adata.X[:, mt_gene_mask].sum(1)/adata.obs['n_counts']\n",
    "\n",
    "        rp_gene_mask = [gene.startswith(('RPS','RPL')) for gene in adata.var_names]\n",
    "        adata.obs['rp_frac'] = adata.X[:,rp_gene_mask].sum(1) / adata.obs['n_counts']\n",
    "\n",
    "    if ambient:\n",
    "        adata.obs['ambi_frac'] = adata.X[:,adata.var[is_ambi_key]=='True'].sum(1) / adata.obs['n_counts']\n",
    "\n",
    "    if plot:\n",
    "        sb.jointplot(\n",
    "            data=adata.obs,\n",
    "            x=\"log_counts\",\n",
    "            y=\"log_genes\",\n",
    "            kind=\"hist\", bins=100, cmap=\"rocket_r\", color=\"#f69c73\", space=0\n",
    "        )\n",
    "\n",
    "        fig, ax1 = plt.subplots()\n",
    "        ax1.scatter(x=adata.obs['n_counts_rank'], y=adata.obs['n_counts'], s=1, alpha=0.2, c='black', label='Total UMI Counts')\n",
    "        ax1.scatter(x=adata.obs['n_counts_rank'], y=adata.obs['n_genes'], s=1, alpha=0.2, c='tab:green', label='Gene Counts')\n",
    "        ax1.set(xscale='log', yscale='log')\n",
    "        ax1.set_ylabel('Total UMI/Gene Counts')\n",
    "        ax1.set_xlabel('Ranked Droplets')\n",
    "        #ax1.vlines(x=[max_rank], color=\"black\", lw=0.5).set_linestyle(\"--\")\n",
    "\n",
    "        ax2 = ax1.twinx()\n",
    "        ax2.scatter(x=adata.obs['n_counts_rank'], y=adata.obs['mt_frac']*100, s=1, alpha=0.2, c='tab:red', label='% Mito. Counts')\n",
    "        ax2.set_ylabel('%')\n",
    "\n",
    "        fig.legend(loc='center left', fontsize='xx-small', bbox_to_anchor=(0.2, 0.35))\n",
    "        \n",
    "####################################################################################################################################################################################################################################\n",
    "####################################################################################################################################################################################################################################\n",
    "####################################################################################################################################################################################################################################\n",
    "####################################################################################################################################################################################################################################\n",
    "\n",
    "\n",
    "def sparsify_all_layers(adata):\n",
    "    \"\"\"\n",
    "    Loop trough all layers and make dense matrices sparse.\n",
    "    \"\"\"\n",
    "          \n",
    "    if not sci.sparse.issparse(adata.X):\n",
    "        print('Sparsify .X...')\n",
    "        adata.X = sci.sparse.csr_matrix(adata.X)\n",
    "    else:\n",
    "        print('.X already spase...')  \n",
    "        \n",
    "    for layer in list(adata.layers):\n",
    "        if not sci.sparse.issparse(adata.layers[layer]):\n",
    "            print('Sparsify ', layer)\n",
    "            adata.layers[layer] = sci.sparse.csr_matrix(adata.layers[layer])\n",
    "        else:\n",
    "            print('Layer', layer, 'already spase...')\n",
    "\n",
    "####################################################################################################################################################################################################################################\n",
    "####################################################################################################################################################################################################################################\n",
    "####################################################################################################################################################################################################################################\n",
    "####################################################################################################################################################################################################################################\n",
    "\n",
    "            \n",
    "def normalize_scran(adata, r=0.5):\n",
    "    import rpy2\n",
    "    import rpy2.robjects as ro\n",
    "    import gc\n",
    "    \n",
    "    print('Normalization with Scran:')\n",
    "    print('\\n-----------------------------------\\n\\nPreprocess data... ')\n",
    "    adata_pp = adata.copy()\n",
    "    sc.pp.normalize_total(adata_pp, target_sum=1e4)#, exclude_highly_expressed=True) #sc.pp.normalize_per_cell(adata_pp, counts_per_cell_after=1e6)\n",
    "    sc.pp.log1p(adata_pp)\n",
    "    sc.pp.pca(adata_pp)\n",
    "    sc.pp.neighbors(adata_pp)\n",
    "    sc.tl.leiden(adata_pp, key_added='groups', resolution=r) #sc.tl.louvain(adata_pp, key_added='groups', resolution=0.5)\n",
    "    \n",
    "    \n",
    "    print('\\n-----------------------------------\\n\\nTransfer data... ')\n",
    "    ro.globalenv['data_mat'] = adata_pp.X.T\n",
    "    ro.globalenv['input_groups'] = adata_pp.obs['groups']\n",
    "    \n",
    "    print('\\n-----------------------------------\\n\\nCalculate size factors... ')\n",
    "    ro.r('library(\"scran\")')\n",
    "    # calculate size factors\n",
    "    ro.r('''\n",
    "    size_factors = calculateSumFactors(data_mat, clusters=input_groups, min.mean=0.1)\n",
    "    ''')\n",
    "    \n",
    "    print('\\n-----------------------------------\\n\\nTransfer data... ')\n",
    "    # add to andata.obs\n",
    "    adata.obs['size_factors'] = ro.r['size_factors']\n",
    "    \n",
    "    print('\\n-----------------------------------\\n\\nPlot results... ')\n",
    "    # plot results\n",
    "    sc.pl.scatter(adata, 'size_factors', 'n_counts', color='leiden')\n",
    "    sc.pl.scatter(adata, 'size_factors', 'n_genes', color='leiden')\n",
    "\n",
    "    sb.distplot(adata.obs['size_factors'], bins=100, kde=True)\n",
    "    \n",
    "    print('\\n-----------------------------------\\n\\nAdd results to anndata... ')\n",
    "    #Keep the count data in a counts layer\n",
    "    adata.layers['raw_counts'] = adata.X.copy()\n",
    "\n",
    "    #Logarithmize raw counts\n",
    "    adata.layers['log_raw_counts'] = sc.pp.log1p(adata.layers['raw_counts'], copy=True)\n",
    "\n",
    "    #Normalize adata \n",
    "    adata.X /= adata.obs['size_factors'].values[:,None]\n",
    "    sc.pp.log1p(adata)\n",
    "\n",
    "    #Keep the normalized count data in a counts layer\n",
    "    adata.layers['scran_counts'] = adata.X.copy()\n",
    "    \n",
    "    # delete\n",
    "    print('\\n-----------------------------------\\n\\nClean up... ')\n",
    "    del adata_pp\n",
    "    gc.collect()\n",
    "\n",
    "    \n",
    "    \n",
    "####################################################################################################################################################################################################################################\n",
    "####################################################################################################################################################################################################################################\n",
    "####################################################################################################################################################################################################################################\n",
    "####################################################################################################################################################################################################################################    \n",
    "    \n",
    "\n",
    "\n",
    "def normalize_sct(adata, batch=None, layer=None, results_to_X=None, min_cells=None, clip_range_denominator=1, n_core=64, max_memory_gb=128):\n",
    "    '''\n",
    "    adata: adata object to normalize\n",
    "    layer: layer to use for normalization. Default = None -> use .X\n",
    "    results_to_X: Set results layer to adata.X (e.g. 'sct_logcounts')\n",
    "    '''\n",
    "    \n",
    "    import rpy2\n",
    "    import rpy2.robjects as ro\n",
    "    import gc\n",
    "\n",
    "       \n",
    "    print('Normalization with SCT:')\n",
    "    # load packages\n",
    "    ro.globalenv['clip_range_denominator'] = clip_range_denominator\n",
    "    ro.globalenv['n_core'] = n_core\n",
    "    ro.globalenv['max_memory'] = max_memory_gb#/64\n",
    "    ro.r('''\n",
    "    print(paste0(\"Cores: \", n_core))\n",
    "    print(paste0(\"Memory: \", max_memory))\n",
    "    ''')\n",
    "    ro.r('''\n",
    "    # Packages\n",
    "    library(Seurat)\n",
    "    library(sctransform)\n",
    "    library(SingleCellExperiment)\n",
    "\n",
    "    # Parallelization\n",
    "    library(\"BiocParallel.FutureParam\")\n",
    "    register(FutureParam())\n",
    "    plan(multicore, workers=n_core)\n",
    "    options(future.globals.maxSize = max_memory * 1024^3)\n",
    "    ''')\n",
    "    # transfer data\n",
    "    print('\\tTransfer data...')\n",
    "    if layer is None:\n",
    "        ro.globalenv['data_mat'] = adata.X.T#.toarray()\n",
    "        ro.globalenv['obs_names'] = adata.obs_names\n",
    "        ro.globalenv['var_names'] = adata.var_names\n",
    "    else:\n",
    "        print('\\tNormalizing layer \\'', layer,'\\'...')\n",
    "        ro.globalenv['data_mat'] = adata.layers[layer].T#.toarray()\n",
    "        ro.globalenv['obs_names'] = adata.obs_names\n",
    "        ro.globalenv['var_names'] = adata.var_names\n",
    "        \n",
    "    ro.r('''\n",
    "    rownames(data_mat) <- var_names\n",
    "    colnames(data_mat) <- obs_names\n",
    "    seurat <- CreateSeuratObject(counts = data_mat, project = \"0\", min.cells = 0, min.features = 0)\n",
    "    ''')   \n",
    "    # perform sct\n",
    "    print('\\tPerform SCT...')\n",
    "    if batch is None:\n",
    "        ro.r('''\n",
    "        # SCTransform\n",
    "        seurat <- SCTransform(seurat, verbose = FALSE, return.only.var.genes = FALSE, variable.features.n = NULL, vst.flavor = \"v2\", clip.range = c(-sqrt(x = ncol(x = seurat[[\"RNA\"]])/clip_range_denominator), sqrt(x = ncol(x = seurat[[\"RNA\"]])/clip_range_denominator)))\n",
    "        ''') \n",
    "    else:\n",
    "        ro.globalenv['batch_obs'] = adata.obs[batch]\n",
    "        ro.globalenv['batch_key'] = batch\n",
    "        ro.r('''\n",
    "        batch_df <- data.frame(batch_obs, row.names = obs_names)\n",
    "        colnames(batch_df) <- batch_key\n",
    "        seurat <- AddMetaData(seurat, batch_df)\n",
    "        Idents(seurat) <- batch_key\n",
    "        print(head(seurat@meta.data))\n",
    "        ''')\n",
    "        ro.r('''\n",
    "        # SCTransform\n",
    "        seurat <- SCTransform(seurat, batch_var=batch_key, verbose = FALSE, return.only.var.genes = FALSE, variable.features.n = NULL, vst.flavor = \"v2\", clip.range = c(-sqrt(x = ncol(x = seurat[[\"RNA\"]])/clip_range_denominator), sqrt(x = ncol(x = seurat[[\"RNA\"]])/clip_range_denominator)))\n",
    "        ''') \n",
    "    # convert to singleCellExperiment\n",
    "    print('\\tConvert data...')\n",
    "    ro.r('''\n",
    "    # Add feature meta data (since Seurat v4 -> will be fixed?)\n",
    "    var <- c('detection_rate','gmean', 'variance', 'residual_variance')\n",
    "    seurat[[\"SCT\"]]@meta.features <- SCTResults(seurat[[\"SCT\"]], slot = \"feature.attributes\")[, var]\n",
    "    seurat[[\"SCT\"]]@meta.features$variable <- FALSE\n",
    "    seurat[[\"SCT\"]]@meta.features[VariableFeatures(seurat[[\"SCT\"]] ), \"variable\"] <- TRUE\n",
    "    colnames(seurat[[\"SCT\"]]@meta.features) <- paste0(\"sct.\", colnames(seurat[[\"SCT\"]]@meta.features) )\n",
    "\n",
    "    # Convert to SingleCellExperiment\n",
    "    sce <- as.SingleCellExperiment(seurat)\n",
    "\n",
    "    # Add feature meta data (since Seurat v4 -> will be fixed?)\n",
    "    rowData(sce) <- seurat[[\"SCT\"]]@meta.features\n",
    "\n",
    "    # Rename and add layers\n",
    "    SummarizedExperiment::assay(sce, i = 1) <- seurat[[\"SCT\"]]@counts\n",
    "    SummarizedExperiment::assay(sce, i = 2) <- seurat[[\"SCT\"]]@data\n",
    "    SummarizedExperiment::assay(sce, i = 3) <- seurat[[\"SCT\"]]@scale.data\n",
    "    #SummarizedExperiment::assay(sce, i = 4) <- seurat[[\"RNA\"]]@counts\n",
    "    SummarizedExperiment::assayNames(sce) <- c(\"sct_counts\", \"sct_logcounts\", \"sct_scale_data\")#, \"raw_counts\")\n",
    "    ''')\n",
    "    \n",
    "    # transfer data\n",
    "    print('\\tTransfer data...')\n",
    "    \n",
    "    # add to andata.obs\n",
    "    adata_sct = ro.globalenv['sce']\n",
    "    adata_sct.layers['sct_counts'] = adata_sct.X.copy()\n",
    "    \n",
    "    \n",
    "    \n",
    "    # Harmonize var_names\n",
    "    ## Remove underscores\n",
    "    adata.var_names = ['-'.join(var_name.split('_')) for var_name in adata.var_names]\n",
    "    var_adata = set(adata.var_names)\n",
    "    var_sct = set(adata_sct.var_names)\n",
    "    var_intersect = list(var_adata.intersection(var_sct))\n",
    "    # Subset adata\n",
    "    adata = adata[:,var_intersect]\n",
    "    adata_sct = adata_sct[:,var_intersect]\n",
    "    \n",
    "    # Add SCT data\n",
    "    print('\\tAdd results to anndata...')\n",
    "    adata.layers['sct_counts'] = adata_sct.layers['sct_counts'].copy()\n",
    "    adata.layers['sct_logcounts'] = adata_sct.layers['sct_logcounts'].copy()\n",
    "    adata.layers['sct_scale_data'] = adata_sct.layers['sct_scale_data'].copy()\n",
    "    adata.var[['sct.detection_rate', 'sct.gmean', 'sct.variance', 'sct.residual_variance', 'sct.variable']] = adata_sct.var[['sct.detection_rate', 'sct.gmean', 'sct.variance', 'sct.residual_variance', 'sct.variable']].copy()\n",
    "\n",
    "    if results_to_X is not None:\n",
    "        print('\\tSet',results_to_X,' anndata.X...')\n",
    "        adata.X = adata.layers[results_to_X].copy()\n",
    "        \n",
    "    # Set HVGs\n",
    "    print('\\tSet HVGs...')\n",
    "    adata.var.loc[:,'highly_variable'] = [bool(i) for i in adata_sct.var['sct.variable']]\n",
    "    #hvgs = pd.Series(adata.var['sct.variable'][adata.var['sct.variable'] > 0].index) # use HVGs from sct\n",
    "    #adata.var['highly_variable']= False\n",
    "    #adata.var.loc[hvgs,'highly_variable'] = True\n",
    "    \n",
    "    if min_cells is not None:\n",
    "        # Filter genes: Min 20 cells - filters out 0 count genes\n",
    "        print('\\tFilter genes...')\n",
    "        sc.pp.filter_genes(adata, min_cells=min_cells)\n",
    "    \n",
    "    # delete\n",
    "    ro.r('''\n",
    "    rm(list = ls())\n",
    "    gc()\n",
    "    ''')\n",
    "      \n",
    "    del adata_sct\n",
    "    gc.collect()\n",
    "    \n",
    "    return adata\n",
    "\n",
    "####################################################################################################################################################################################################################################\n",
    "####################################################################################################################################################################################################################################\n",
    "####################################################################################################################################################################################################################################\n",
    "####################################################################################################################################################################################################################################\n",
    "\n",
    " \n",
    "\n",
    "    \n",
    "def print_r_session():\n",
    "    ro.r('print(sessionInfo())')"
   ]
  },
  {
   "cell_type": "markdown",
   "metadata": {},
   "source": [
    "# Load Data"
   ]
  },
  {
   "cell_type": "code",
   "execution_count": 10,
   "metadata": {},
   "outputs": [],
   "source": [
    "adata_1=sc.read('/storage/scRNA-seq/scRNA-seq_iPSC_IGFRL-KO/cellranger/MUC18396/count_matrices/MUC18396_raw_feature_bc_matrix_filtered_markedDoublets.h5ad')\n",
    "adata_2=sc.read('/storage/scRNA-seq/scRNA-seq_iPSC_IGFRL-KO/cellranger/MUC18397/count_matrices/MUC18397_raw_feature_bc_matrix_filtered_markedDoublets.h5ad')"
   ]
  },
  {
   "cell_type": "code",
   "execution_count": 11,
   "metadata": {},
   "outputs": [
    {
     "name": "stderr",
     "output_type": "stream",
     "text": [
      "/home/michi/Software/venvs/scAnalysis_sc1.9_ad0.8_mu0.1.2_md0.2_R4.1_FVF/lib/python3.8/site-packages/anndata/_core/anndata.py:1830: UserWarning: Variable names are not unique. To make them unique, call `.var_names_make_unique`.\n",
      "  utils.warn_names_duplicates(\"var\")\n",
      "/home/michi/Software/venvs/scAnalysis_sc1.9_ad0.8_mu0.1.2_md0.2_R4.1_FVF/lib/python3.8/site-packages/anndata/_core/anndata.py:1830: UserWarning: Variable names are not unique. To make them unique, call `.var_names_make_unique`.\n",
      "  utils.warn_names_duplicates(\"var\")\n"
     ]
    }
   ],
   "source": [
    "adata_1_velo=sc.read_loom('/storage/scRNA-seq/scRNA-seq_iPSC_IGFRL-KO/velocyto/MUC18396/possorted_genome_bam_5KIVH.loom')\n",
    "adata_2_velo=sc.read_loom('/storage/scRNA-seq/scRNA-seq_iPSC_IGFRL-KO/velocyto/MUC18397/possorted_genome_bam_7YBY3.loom')"
   ]
  },
  {
   "cell_type": "markdown",
   "metadata": {},
   "source": [
    "## Add Velocyto Results"
   ]
  },
  {
   "cell_type": "code",
   "execution_count": 13,
   "metadata": {},
   "outputs": [],
   "source": [
    "adata_1_velo.obs_names = [name[27:43] + '-1' for name in adata_1_velo.obs_names]\n",
    "adata_1_velo.var_names_make_unique()\n",
    "\n",
    "adata_2_velo.obs_names = [name[27:43] + '-1' for name in adata_2_velo.obs_names]\n",
    "adata_2_velo.var_names_make_unique()"
   ]
  },
  {
   "cell_type": "code",
   "execution_count": 14,
   "metadata": {},
   "outputs": [],
   "source": [
    "adata_1.layers = adata_1_velo[adata_1.obs_names,adata_1.var_names].layers.copy()\n",
    "adata_2.layers = adata_2_velo[adata_2.obs_names,adata_2.var_names].layers.copy()"
   ]
  },
  {
   "cell_type": "markdown",
   "metadata": {},
   "source": [
    "## Concatenate Samples, Filter Genes & Doublets, & Save"
   ]
  },
  {
   "cell_type": "code",
   "execution_count": 15,
   "metadata": {
    "scrolled": true
   },
   "outputs": [
    {
     "name": "stderr",
     "output_type": "stream",
     "text": [
      "/home/michi/Software/venvs/scAnalysis_sc1.9_ad0.8_mu0.1.2_md0.2_R4.1_FVF/lib/python3.8/site-packages/anndata/_core/anndata.py:1785: FutureWarning: X.dtype being converted to np.float32 from float64. In the next version of anndata (0.9) conversion will not be automatic. Pass dtype explicitly to avoid this warning. Pass `AnnData(X, dtype=X.dtype, ...)` to get the future behavour.\n",
      "  [AnnData(sparse.csr_matrix(a.shape), obs=a.obs) for a in all_adatas],\n"
     ]
    }
   ],
   "source": [
    "# Concatenate\n",
    "adata=adata_1.concatenate(adata_2).copy()"
   ]
  },
  {
   "cell_type": "code",
   "execution_count": 16,
   "metadata": {},
   "outputs": [],
   "source": [
    "# Ambient genes\n",
    "ambi_cols = adata.var.columns[[column.startswith('is_ambient_') for column in adata.var.columns]]\n",
    "ambi_bool = [False] * adata.var.shape[0] #np.array()\n",
    "for col in ambi_cols:\n",
    "    ambi_bool = list(np.add(ambi_bool, [string in ('True') for string in adata.var[ambi_cols].loc[:,col]]))\n",
    "    \n",
    "adata.var['is_ambient'] = ambi_bool"
   ]
  },
  {
   "cell_type": "code",
   "execution_count": 17,
   "metadata": {},
   "outputs": [
    {
     "name": "stdout",
     "output_type": "stream",
     "text": [
      "normalizing counts per cell\n",
      "    finished (0:00:00)\n",
      "computing PCA\n",
      "    with n_comps=50\n",
      "    finished (0:00:27)\n",
      "computing neighbors\n",
      "    using 'X_pca' with n_pcs = 50\n"
     ]
    },
    {
     "name": "stderr",
     "output_type": "stream",
     "text": [
      "2022-10-05 13:22:35.672547: I tensorflow/stream_executor/platform/default/dso_loader.cc:49] Successfully opened dynamic library libcudart.so.11.0\n"
     ]
    },
    {
     "name": "stdout",
     "output_type": "stream",
     "text": [
      "    finished: added to `.uns['neighbors']`\n",
      "    `.obsp['distances']`, distances for each pair of neighbors\n",
      "    `.obsp['connectivities']`, weighted adjacency matrix (0:01:25)\n",
      "running Leiden clustering\n",
      "    finished: found 11 clusters and added\n",
      "    'leiden', the cluster labels (adata.obs, categorical) (0:00:00)\n",
      "computing UMAP\n",
      "    finished: added\n",
      "    'X_umap', UMAP coordinates (adata.obsm) (0:00:04)\n"
     ]
    }
   ],
   "source": [
    "get_umap_leiden(adata)"
   ]
  },
  {
   "cell_type": "code",
   "execution_count": 18,
   "metadata": {},
   "outputs": [
    {
     "name": "stdout",
     "output_type": "stream",
     "text": [
      "Total number of genes: 17255\n",
      "filtered out 1596 genes that are detected in less than 20 cells\n",
      "Number of genes after cell filter: 15659\n"
     ]
    }
   ],
   "source": [
    "#Filter genes:\n",
    "print('Total number of genes: {:d}'.format(adata.n_vars))\n",
    "\n",
    "# Min 20 cells - filters out 0 count genes\n",
    "sc.pp.filter_genes(adata, min_cells=20)\n",
    "print('Number of genes after cell filter: {:d}'.format(adata.n_vars))"
   ]
  },
  {
   "cell_type": "code",
   "execution_count": null,
   "metadata": {},
   "outputs": [],
   "source": [
    "sc.pl.umap(adata, color=['sample','reporter','n_counts','log_counts','n_genes','log_genes','mt_frac','rp_frac'], size=20, add_outline=True, alpha=1, outline_width=(0.3, 0.0), ncols=4)"
   ]
  },
  {
   "cell_type": "code",
   "execution_count": null,
   "metadata": {},
   "outputs": [],
   "source": [
    "sc.pl.umap(adata, color=['final_doublets_cat','doublet_calls'], size=20, add_outline=True, alpha=1, outline_width=(0.3, 0.0), ncols=2)"
   ]
  },
  {
   "cell_type": "code",
   "execution_count": null,
   "metadata": {},
   "outputs": [],
   "source": [
    "# Number of doublet calls calls\n",
    "print(adata.obs['doublet_calls'].value_counts())"
   ]
  },
  {
   "cell_type": "code",
   "execution_count": null,
   "metadata": {},
   "outputs": [],
   "source": [
    "# Number of final doublets\n",
    "print('Number of doublets:')\n",
    "print(adata.obs['final_doublets'].value_counts())\n",
    "\n",
    "# Percentage:\n",
    "print('\\nOverall doublet rate:\\t\\t',round(adata.obs['final_doublets'].value_counts()[1]/len(adata.obs['final_doublets'])*100,2),'%')\n",
    "\n",
    "for sample in adata.obs['sample'].cat.categories:\n",
    "    print(f\"\\n{sample} doublet rate:\\t\\t{round(adata.obs['final_doublets'][adata.obs['sample']==sample].value_counts()[1]/len(adata.obs['final_doublets'][adata.obs['sample']==sample])*100,2)} % \")"
   ]
  },
  {
   "cell_type": "code",
   "execution_count": null,
   "metadata": {},
   "outputs": [],
   "source": [
    "# Annotate the data sets\n",
    "print(adata.obs['sample'].value_counts())\n",
    "\n",
    "# Checking the total size of the data set\n",
    "adata.shape"
   ]
  },
  {
   "cell_type": "code",
   "execution_count": null,
   "metadata": {},
   "outputs": [],
   "source": [
    "# Save\n",
    "sc.write('/home/michi/Projects/scRNA-seq_iPSC_IGFRL-KO_Notebooks/Files/scRNA-seq_IIR-KO_S6_adata_markedDoublets', adata)"
   ]
  },
  {
   "cell_type": "code",
   "execution_count": null,
   "metadata": {},
   "outputs": [],
   "source": [
    "adata_rmD = adata[adata.obs['final_doublets'] == False].copy()"
   ]
  },
  {
   "cell_type": "code",
   "execution_count": null,
   "metadata": {},
   "outputs": [],
   "source": [
    "# Annotate the data sets\n",
    "print(adata_rmD.obs['sample'].value_counts())\n",
    "\n",
    "# Checking the total size of the data set\n",
    "adata_rmD.shape"
   ]
  },
  {
   "cell_type": "code",
   "execution_count": null,
   "metadata": {},
   "outputs": [],
   "source": [
    "# Save\n",
    "sc.write('/home/michi/Projects/scRNA-seq_iPSC_IGFRL-KO_Notebooks/Files/scRNA-seq_IIR-KO_S6_adata_rmDoublets', adata_rmD)"
   ]
  },
  {
   "cell_type": "markdown",
   "metadata": {},
   "source": [
    "# Doublets Removed"
   ]
  },
  {
   "cell_type": "code",
   "execution_count": null,
   "metadata": {},
   "outputs": [],
   "source": [
    "adata = adata_rmD.copy()"
   ]
  },
  {
   "cell_type": "markdown",
   "metadata": {},
   "source": [
    "## Normalization with Scran"
   ]
  },
  {
   "cell_type": "code",
   "execution_count": null,
   "metadata": {},
   "outputs": [],
   "source": [
    "#adata.layers['raw_counts'] = adata.X.copy()"
   ]
  },
  {
   "cell_type": "code",
   "execution_count": null,
   "metadata": {},
   "outputs": [],
   "source": [
    "normalize_scran(adata)"
   ]
  },
  {
   "cell_type": "markdown",
   "metadata": {},
   "source": [
    "## Normalization with Seurat SCT \n"
   ]
  },
  {
   "cell_type": "code",
   "execution_count": null,
   "metadata": {},
   "outputs": [],
   "source": [
    "adata = normalize_sct(adata, layer='raw_counts', results_to_X='sct_logcounts')"
   ]
  },
  {
   "cell_type": "code",
   "execution_count": null,
   "metadata": {},
   "outputs": [],
   "source": [
    "# Get HVGs and overlap with cell cycle & ambient genes\n",
    "\n",
    "## HVGs from SCT\n",
    "hvgs = pd.Series(adata.var_names[adata.var['highly_variable']])\n",
    "print('\\nHighly variable genes before filtering:',adata.var.loc[:,'highly_variable'].value_counts()[1])\n",
    "\n",
    "# overlap HVGs with CC genes\n",
    "hvcc = list(hvgs[hvgs.isin(all_cc_genes)])\n",
    "print('\\nHighly variable cell cycle genes:',len(hvcc),'\\n',hvcc)\n",
    "\n",
    "# overlap HVGs with ambient genes\n",
    "hvambi = list(hvgs[hvgs.isin(list(adata[:,adata.var['is_ambient'] == True].var_names))])\n",
    "print('\\nHighly variable ambient genes:',len(hvambi),'\\n',hvambi)\n",
    "\n",
    "# remove cell cycle genes\n",
    "adata.var.loc[hvcc,'highly_variable'] = False\n",
    "\n",
    "# remove ambient genes\n",
    "adata.var.loc[hvambi,'highly_variable'] = False\n",
    "\n",
    "print('\\nHighly variable genes after filtering:',adata.var.loc[:,'highly_variable'].value_counts()[1])"
   ]
  },
  {
   "cell_type": "code",
   "execution_count": null,
   "metadata": {},
   "outputs": [],
   "source": [
    "# Calc umap\n",
    "sc.pp.pca(adata, svd_solver='arpack', use_highly_variable=True)\n",
    "sc.pp.neighbors(adata)\n",
    "sc.tl.leiden(adata, resolution=0.5)\n",
    "\n",
    "sc.tl.umap(adata)"
   ]
  },
  {
   "cell_type": "raw",
   "metadata": {},
   "source": [
    "print('\\n','Number of highly variable genes: {:d}'.format(np.sum(adata.var['highly_variable'])))"
   ]
  },
  {
   "cell_type": "raw",
   "metadata": {},
   "source": [
    "adata.X = adata.layers['sct_logcounts']"
   ]
  },
  {
   "cell_type": "code",
   "execution_count": null,
   "metadata": {},
   "outputs": [],
   "source": [
    "fig, ax = plt.subplots()\n",
    "ax.scatter(x=adata.var['sct.gmean'], y=adata.var['sct.residual_variance'], c=adata.var['highly_variable'], s=1, alpha=0.8)\n",
    "#ax.set_yscale('log')\n",
    "ax.set_ylim((0,500)) \n",
    "ax.set_xscale('log')\n",
    "ax.set_xlabel('Mean UMI Counts')\n",
    "ax.set_ylabel('Residual Variance')"
   ]
  },
  {
   "cell_type": "code",
   "execution_count": null,
   "metadata": {},
   "outputs": [],
   "source": [
    "fig, ax = plt.subplots()\n",
    "ax.scatter(x=adata.var['sct.gmean'], y=adata.var['sct.residual_variance'], c=adata.var['highly_variable'], s=1, alpha=0.8)\n",
    "ax.set_yscale('log')\n",
    "#ax.set_ylim((0,500)) \n",
    "ax.set_xscale('log')\n",
    "ax.set_xlabel('Mean UMI Counts')\n",
    "ax.set_ylabel('Residual Variance')"
   ]
  },
  {
   "cell_type": "code",
   "execution_count": null,
   "metadata": {},
   "outputs": [],
   "source": [
    "qc_metrics(adata, ambient=False, make_dense=True)"
   ]
  },
  {
   "cell_type": "markdown",
   "metadata": {},
   "source": [
    "## Nomalization Results"
   ]
  },
  {
   "cell_type": "code",
   "execution_count": null,
   "metadata": {},
   "outputs": [],
   "source": [
    "genes = ['INS','GCG','TPH1','SST','ARX','NKX6-1','LMX1A','LMX1B','SLC18A1','ASCL1','GAP43']"
   ]
  },
  {
   "cell_type": "raw",
   "metadata": {},
   "source": [
    "adata.X = adata.layers['sct_logcounts'].copy()"
   ]
  },
  {
   "cell_type": "code",
   "execution_count": null,
   "metadata": {},
   "outputs": [],
   "source": [
    "sc.pl.umap(adata, color=['n_counts', 'log_counts','n_genes','log_genes','mt_frac','rp_frac','sample','leiden'], size=10, add_outline=True, alpha=1, outline_width=(0.3, 0.0), ncols=4)"
   ]
  },
  {
   "cell_type": "code",
   "execution_count": null,
   "metadata": {},
   "outputs": [],
   "source": [
    "sc.pl.umap(adata, color=['sample','leiden'] + genes, size=10, add_outline=True, alpha=1, outline_width=(0.3, 0.0), ncols=4)"
   ]
  },
  {
   "cell_type": "code",
   "execution_count": null,
   "metadata": {
    "scrolled": true
   },
   "outputs": [],
   "source": [
    "sc.pl.violin(adata, use_raw=False, keys=['n_counts', 'log_counts','n_genes','log_genes','mt_frac','rp_frac'], groupby='leiden', rotation=90)"
   ]
  },
  {
   "cell_type": "code",
   "execution_count": null,
   "metadata": {},
   "outputs": [],
   "source": [
    "sc.pl.violin(adata, use_raw=False, keys=genes, groupby='leiden', layer='raw_counts', rotation=90)"
   ]
  },
  {
   "cell_type": "code",
   "execution_count": null,
   "metadata": {
    "scrolled": true
   },
   "outputs": [],
   "source": [
    "sc.pl.violin(adata, use_raw=False, keys=genes, groupby='leiden', layer='sct_counts', rotation=90)"
   ]
  },
  {
   "cell_type": "code",
   "execution_count": null,
   "metadata": {},
   "outputs": [],
   "source": [
    "sc.pl.violin(adata, use_raw=False, keys=genes, groupby='leiden', layer='sct_logcounts', rotation=90)"
   ]
  },
  {
   "cell_type": "code",
   "execution_count": null,
   "metadata": {},
   "outputs": [],
   "source": [
    "sc.pl.violin(adata, use_raw=False, keys=genes, groupby='leiden', layer='scran_counts', rotation=90)"
   ]
  },
  {
   "cell_type": "code",
   "execution_count": null,
   "metadata": {},
   "outputs": [],
   "source": [
    "sc.pl.violin(adata, use_raw=False, keys=genes, groupby='leiden', layer='sct_scale_data', rotation=90)"
   ]
  },
  {
   "cell_type": "code",
   "execution_count": null,
   "metadata": {},
   "outputs": [],
   "source": [
    "#genes = ['Lgr5','Sis','Pou2f3','Spdef','Defa24','Chga','Neurog3','Tph1','Isl1','Foxa2']\n",
    "for gene in genes:\n",
    "    df = pd.DataFrame({'sct':list(chain.from_iterable(adata[:,gene].layers['sct_logcounts'].toarray())), 'scran':list(chain.from_iterable(adata[:,gene].layers['scran_counts'].toarray())), 'raw':list(chain.from_iterable(adata[:,gene].layers['log_raw_counts'].toarray())), 'leiden':list(adata.obs['leiden'].astype(int))})\n",
    "    df = df.sort_values(by=['leiden'])\n",
    "    df.loc[:,'leiden'] = df.loc[:,'leiden'].astype('category')\n",
    "    lims_x = []\n",
    "    lims_y = []\n",
    "    lims_line = []\n",
    "\n",
    "    fig, axs = plt.subplots(1, 3, constrained_layout=True, figsize=(10, 3))\n",
    "    # Plots\n",
    "    axs[0].scatter(df.loc[:,'sct'], y=df.loc[:,'scran'], s=2, alpha=0.2, c=df.loc[:,'leiden'], cmap=ListedColormap(adata.uns['leiden_colors']))\n",
    "    axs[1].scatter(df.loc[:,'raw'], y=df.loc[:,'sct'], s=2, alpha=0.2, c=df.loc[:,'leiden'], cmap=ListedColormap(adata.uns['leiden_colors']))\n",
    "    axs[2].scatter(df.loc[:,'raw'], y=df.loc[:,'scran'], s=2, alpha=0.2, c=df.loc[:,'leiden'], cmap=ListedColormap(adata.uns['leiden_colors']))\n",
    "\n",
    "    # Aesthetics\n",
    "    for i,ax in enumerate(axs):\n",
    "        lims_x.append(ax.get_xlim())\n",
    "        lims_y.append(ax.get_ylim())\n",
    "        lims_line.append([np.min([ax.get_xlim(), ax.get_ylim()]), np.max([ax.get_xlim(), ax.get_ylim()])])\n",
    "\n",
    "    axs[0].set_xlabel('SCT Normalized')\n",
    "    axs[0].set_ylabel('SCRAN Normalized')\n",
    "    #axs[0].set_aspect('equal')\n",
    "    axs[0].plot(lims_line[0], lims_line[0], 'k-', alpha=1, zorder=0, ls='--', lw=1)\n",
    "    axs[0].set_xlim(lims_x[0])\n",
    "    axs[0].set_ylim(lims_y[0])\n",
    "\n",
    "    axs[1].set_xlabel('Raw')\n",
    "    axs[1].set_ylabel('SCT Normalized')\n",
    "    axs[1].set_title(gene, fontweight='bold')\n",
    "    #axs[1].set_aspect('equal')\n",
    "    axs[1].plot(lims_line[1], lims_line[1], 'k-', alpha=1, zorder=0, ls='--', lw=1)\n",
    "    axs[1].set_xlim(lims_x[1])\n",
    "    axs[1].set_ylim(lims_y[1])\n",
    "\n",
    "    axs[2].set_xlabel('Raw')\n",
    "    axs[2].set_ylabel('SCRAN Normalized')\n",
    "    #axs[2].set_aspect('equal')\n",
    "    axs[2].plot(lims_line[2], lims_line[2], 'k-', alpha=1, zorder=0, ls='--', lw=1)\n",
    "    axs[2].set_xlim(lims_x[2])\n",
    "    axs[2].set_ylim(lims_y[2])\n",
    "\n",
    "    plt.show()"
   ]
  },
  {
   "cell_type": "markdown",
   "metadata": {},
   "source": [
    "## Save"
   ]
  },
  {
   "cell_type": "code",
   "execution_count": 68,
   "metadata": {},
   "outputs": [
    {
     "name": "stdout",
     "output_type": "stream",
     "text": [
      "Sparsify .X...\n",
      "Layer matrix already spase...\n",
      "Layer ambiguous already spase...\n",
      "Layer spliced already spase...\n",
      "Layer unspliced already spase...\n",
      "Layer raw_counts already spase...\n",
      "Layer log_raw_counts already spase...\n",
      "Sparsify  scran_counts\n",
      "Layer sct_counts already spase...\n",
      "Layer sct_logcounts already spase...\n",
      "Sparsify  sct_scale_data\n"
     ]
    }
   ],
   "source": [
    "sparsify_all_layers(adata)"
   ]
  },
  {
   "cell_type": "code",
   "execution_count": 69,
   "metadata": {},
   "outputs": [],
   "source": [
    "# Save\n",
    "sc.write('/home/michi/Projects/scRNA-seq_iPSC_IGFRL-KO_Notebooks/Files/scRNA-seq_iPSC_IIR-KO_S6_adata_rmDoublets_normalized', adata)"
   ]
  },
  {
   "cell_type": "markdown",
   "metadata": {},
   "source": [
    "# Session Info"
   ]
  },
  {
   "cell_type": "code",
   "execution_count": 70,
   "metadata": {},
   "outputs": [
    {
     "data": {
      "text/html": [
       "<details>\n",
       "<summary>Click to view session information</summary>\n",
       "<pre>\n",
       "-----\n",
       "anndata             0.8.0\n",
       "anndata2ri          1.0.6\n",
       "matplotlib          3.5.2\n",
       "numpy               1.20.0\n",
       "pandas              1.4.3\n",
       "rpy2                3.4.2\n",
       "scanpy              1.9.1\n",
       "scipy               1.7.1\n",
       "seaborn             0.11.2\n",
       "session_info        1.0.0\n",
       "-----\n",
       "</pre>\n",
       "<details>\n",
       "<summary>Click to view modules imported as dependencies</summary>\n",
       "<pre>\n",
       "PIL                                 8.4.0\n",
       "absl                                NA\n",
       "anyio                               NA\n",
       "astunparse                          1.6.3\n",
       "attr                                21.2.0\n",
       "babel                               2.9.1\n",
       "backcall                            0.2.0\n",
       "backports                           NA\n",
       "beta_ufunc                          NA\n",
       "binom_ufunc                         NA\n",
       "bottleneck                          1.3.2\n",
       "certifi                             2022.06.15\n",
       "cffi                                1.15.0\n",
       "chardet                             4.0.0\n",
       "charset_normalizer                  2.0.7\n",
       "cloudpickle                         2.0.0\n",
       "colorama                            0.4.4\n",
       "cupy                                10.1.0\n",
       "cupy_backends                       NA\n",
       "cupyx                               NA\n",
       "cycler                              0.10.0\n",
       "cython_runtime                      NA\n",
       "dask                                2021.10.0\n",
       "dateutil                            2.8.2\n",
       "debugpy                             1.4.1\n",
       "decorator                           5.1.0\n",
       "defusedxml                          0.7.1\n",
       "dot_parser                          NA\n",
       "dunamai                             1.7.0\n",
       "entrypoints                         0.3\n",
       "fastrlock                           0.8\n",
       "fe17a9cb4bdaf05853229027e5fef937    NA\n",
       "flatbuffers                         NA\n",
       "fsspec                              2021.10.1\n",
       "gast                                NA\n",
       "get_version                         3.5.3\n",
       "google                              NA\n",
       "h5py                                3.6.0\n",
       "idna                                3.3\n",
       "igraph                              0.9.8\n",
       "importlib_resources                 NA\n",
       "ipykernel                           6.4.2\n",
       "ipython_genutils                    0.2.0\n",
       "ipywidgets                          7.6.5\n",
       "jedi                                0.18.0\n",
       "jinja2                              3.0.2\n",
       "joblib                              1.1.0\n",
       "json5                               NA\n",
       "jsonschema                          4.2.0\n",
       "jupyter_server                      1.11.2\n",
       "jupyterlab_server                   2.8.2\n",
       "keras_preprocessing                 1.1.2\n",
       "kiwisolver                          1.3.2\n",
       "leidenalg                           0.8.8\n",
       "llvmlite                            0.37.0\n",
       "loompy                              3.0.6\n",
       "louvain                             0.7.0\n",
       "markupsafe                          2.0.1\n",
       "matplotlib_inline                   NA\n",
       "mpl_toolkits                        NA\n",
       "natsort                             8.0.0\n",
       "nbclassic                           NA\n",
       "nbformat                            5.1.3\n",
       "nbinom_ufunc                        NA\n",
       "numba                               0.54.1\n",
       "numexpr                             2.7.3\n",
       "numpy_groupies                      0.9.14\n",
       "opt_einsum                          v3.3.0\n",
       "packaging                           21.3\n",
       "parso                               0.8.2\n",
       "pexpect                             4.8.0\n",
       "pickleshare                         0.7.5\n",
       "pkg_resources                       NA\n",
       "prometheus_client                   NA\n",
       "prompt_toolkit                      3.0.21\n",
       "psutil                              5.8.0\n",
       "ptyprocess                          0.7.0\n",
       "pvectorc                            NA\n",
       "pycparser                           2.20\n",
       "pydev_ipython                       NA\n",
       "pydevconsole                        NA\n",
       "pydevd                              2.4.1\n",
       "pydevd_concurrency_analyser         NA\n",
       "pydevd_file_utils                   NA\n",
       "pydevd_plugins                      NA\n",
       "pydevd_tracing                      NA\n",
       "pydot                               1.4.2\n",
       "pygments                            2.10.0\n",
       "pynndescent                         0.5.5\n",
       "pyparsing                           2.4.7\n",
       "pyrsistent                          NA\n",
       "pytz                                2021.3\n",
       "pytz_deprecation_shim               NA\n",
       "requests                            2.26.0\n",
       "send2trash                          NA\n",
       "six                                 1.16.0\n",
       "sklearn                             1.0.1\n",
       "sniffio                             1.2.0\n",
       "sparse                              0.13.0\n",
       "sphinxcontrib                       NA\n",
       "statsmodels                         0.13.2\n",
       "storemagic                          NA\n",
       "tensorboard                         2.7.0\n",
       "tensorflow                          2.4.4\n",
       "termcolor                           1.1.0\n",
       "terminado                           0.12.1\n",
       "texttable                           1.6.4\n",
       "threadpoolctl                       3.0.0\n",
       "tlz                                 0.11.1\n",
       "toolz                               0.11.1\n",
       "tornado                             6.1\n",
       "tqdm                                4.62.3\n",
       "traitlets                           5.1.1\n",
       "typing_extensions                   NA\n",
       "tzlocal                             NA\n",
       "umap                                0.5.2\n",
       "urllib3                             1.26.7\n",
       "wcwidth                             0.2.5\n",
       "websocket                           1.2.1\n",
       "wrapt                               1.12.1\n",
       "yaml                                5.4.1\n",
       "zipp                                NA\n",
       "zmq                                 22.3.0\n",
       "</pre>\n",
       "</details> <!-- seems like this ends pre, so might as well be explicit -->\n",
       "<pre>\n",
       "-----\n",
       "IPython             7.29.0\n",
       "jupyter_client      7.0.6\n",
       "jupyter_core        4.9.1\n",
       "jupyterlab          3.2.4\n",
       "notebook            6.4.5\n",
       "-----\n",
       "Python 3.8.12 | packaged by conda-forge | (default, Oct 12 2021, 21:57:06) [GCC 9.4.0]\n",
       "Linux-5.15.0-48-generic-x86_64-with-glibc2.10\n",
       "-----\n",
       "Session information updated at 2022-10-05 13:40\n",
       "</pre>\n",
       "</details>"
      ],
      "text/plain": [
       "<IPython.core.display.HTML object>"
      ]
     },
     "execution_count": 70,
     "metadata": {},
     "output_type": "execute_result"
    }
   ],
   "source": [
    "session_info.show()"
   ]
  },
  {
   "cell_type": "code",
   "execution_count": 71,
   "metadata": {},
   "outputs": [
    {
     "name": "stdout",
     "output_type": "stream",
     "text": [
      "R version 4.1.1 (2021-08-10)\n",
      "Platform: x86_64-pc-linux-gnu (64-bit)\n",
      "Running under: Ubuntu 20.04.5 LTS\n",
      "\n",
      "Matrix products: default\n",
      "BLAS/LAPACK: /home/michi/Software/venvs/scAnalysis_sc1.9_ad0.8_mu0.1.2_md0.2_R4.1_FVF/lib/libopenblasp-r0.3.18.so\n",
      "\n",
      "locale:\n",
      " [1] LC_CTYPE=en_US.UTF-8       LC_NUMERIC=C              \n",
      " [3] LC_TIME=de_DE.UTF-8        LC_COLLATE=en_US.UTF-8    \n",
      " [5] LC_MONETARY=de_DE.UTF-8    LC_MESSAGES=en_US.UTF-8   \n",
      " [7] LC_PAPER=de_DE.UTF-8       LC_NAME=C                 \n",
      " [9] LC_ADDRESS=C               LC_TELEPHONE=C            \n",
      "[11] LC_MEASUREMENT=de_DE.UTF-8 LC_IDENTIFICATION=C       \n",
      "\n",
      "attached base packages:\n",
      "[1] stats4    tools     stats     graphics  grDevices utils     datasets \n",
      "[8] methods   base     \n",
      "\n",
      "other attached packages:\n",
      " [1] BiocParallel.FutureParam_0.2.1 BiocParallel_1.28.3           \n",
      " [3] future_1.27.0                  sctransform_0.3.3             \n",
      " [5] sp_1.5-0                       SeuratObject_4.1.0            \n",
      " [7] Seurat_4.1.1                   scran_1.22.1                  \n",
      " [9] scuttle_1.4.0                  SingleCellExperiment_1.16.0   \n",
      "[11] SummarizedExperiment_1.24.0    Biobase_2.54.0                \n",
      "[13] GenomicRanges_1.46.1           GenomeInfoDb_1.30.1           \n",
      "[15] IRanges_2.28.0                 S4Vectors_0.32.4              \n",
      "[17] BiocGenerics_0.40.0            MatrixGenerics_1.6.0          \n",
      "[19] matrixStats_0.62.0             Matrix_1.4-1                  \n",
      "\n",
      "loaded via a namespace (and not attached):\n",
      "  [1] plyr_1.8.7                igraph_1.3.4             \n",
      "  [3] lazyeval_0.2.2            splines_4.1.1            \n",
      "  [5] listenv_0.8.0             scattermore_0.8          \n",
      "  [7] ggplot2_3.3.6             digest_0.6.29            \n",
      "  [9] htmltools_0.5.3           fansi_1.0.3              \n",
      " [11] magrittr_2.0.3            ScaledMatrix_1.2.0       \n",
      " [13] tensor_1.5                cluster_2.1.3            \n",
      " [15] ROCR_1.0-11               limma_3.50.3             \n",
      " [17] globals_0.16.0            spatstat.sparse_2.1-1    \n",
      " [19] colorspace_2.0-3          ggrepel_0.9.1            \n",
      " [21] dplyr_1.0.9               RCurl_1.98-1.8           \n",
      " [23] jsonlite_1.8.0            progressr_0.10.1         \n",
      " [25] spatstat.data_2.2-0       survival_3.4-0           \n",
      " [27] zoo_1.8-10                glue_1.6.2               \n",
      " [29] polyclip_1.10-0           gtable_0.3.0             \n",
      " [31] zlibbioc_1.40.0           XVector_0.34.0           \n",
      " [33] leiden_0.4.2              DelayedArray_0.20.0      \n",
      " [35] BiocSingular_1.10.0       future.apply_1.9.0       \n",
      " [37] abind_1.4-5               scales_1.2.0             \n",
      " [39] DBI_1.1.3                 edgeR_3.36.0             \n",
      " [41] spatstat.random_2.2-0     miniUI_0.1.1.1           \n",
      " [43] Rcpp_1.0.9                viridisLite_0.4.0        \n",
      " [45] xtable_1.8-4              reticulate_1.25-9000     \n",
      " [47] spatstat.core_2.4-4       dqrng_0.3.0              \n",
      " [49] rsvd_1.0.5                metapod_1.2.0            \n",
      " [51] htmlwidgets_1.5.4         httr_1.4.3               \n",
      " [53] RColorBrewer_1.1-3        ellipsis_0.3.2           \n",
      " [55] ica_1.0-3                 pkgconfig_2.0.3          \n",
      " [57] uwot_0.1.11               deldir_1.0-6             \n",
      " [59] locfit_1.5-9.6            utf8_1.2.2               \n",
      " [61] tidyselect_1.1.2          rlang_1.0.4              \n",
      " [63] reshape2_1.4.4            later_1.3.0              \n",
      " [65] munsell_0.5.0             cli_3.3.0                \n",
      " [67] generics_0.1.3            ggridges_0.5.3           \n",
      " [69] stringr_1.4.0             fastmap_1.1.0            \n",
      " [71] goftest_1.2-3             fitdistrplus_1.1-8       \n",
      " [73] purrr_0.3.4               RANN_2.6.1               \n",
      " [75] pbapply_1.5-0             nlme_3.1-159             \n",
      " [77] sparseMatrixStats_1.6.0   mime_0.12                \n",
      " [79] compiler_4.1.1            plotly_4.10.0            \n",
      " [81] png_0.1-7                 spatstat.utils_2.3-1     \n",
      " [83] tibble_3.1.8              statmod_1.4.36           \n",
      " [85] glmGamPoi_1.6.0           stringi_1.7.8            \n",
      " [87] rgeos_0.5-9               lattice_0.20-45          \n",
      " [89] bluster_1.4.0             vctrs_0.4.1              \n",
      " [91] pillar_1.8.0              lifecycle_1.0.1          \n",
      " [93] spatstat.geom_2.4-0       lmtest_0.9-40            \n",
      " [95] RcppAnnoy_0.0.19          BiocNeighbors_1.12.0     \n",
      " [97] data.table_1.14.2         cowplot_1.1.1            \n",
      " [99] bitops_1.0-7              irlba_2.3.5              \n",
      "[101] httpuv_1.6.5              patchwork_1.1.1          \n",
      "[103] R6_2.5.1                  promises_1.2.0.1         \n",
      "[105] KernSmooth_2.23-20        gridExtra_2.3            \n",
      "[107] parallelly_1.32.1         codetools_0.2-18         \n",
      "[109] MASS_7.3-58.1             assertthat_0.2.1         \n",
      "[111] GenomeInfoDbData_1.2.7    mgcv_1.8-40              \n",
      "[113] parallel_4.1.1            grid_4.1.1               \n",
      "[115] rpart_4.1.16              beachmat_2.10.0          \n",
      "[117] tidyr_1.2.0               DelayedMatrixStats_1.16.0\n",
      "[119] Rtsne_0.16                shiny_1.7.2              \n"
     ]
    }
   ],
   "source": [
    "print_r_session()"
   ]
  }
 ],
 "metadata": {
  "kernelspec": {
   "display_name": "scAnalysis_sc1.9_ad0.8_mu0.1.2_md0.2_R4.1_FVF",
   "language": "python",
   "name": "scanalysis_sc1.9_ad0.8_mu0.1.2_md0.2_r4.1_fvf"
  },
  "language_info": {
   "codemirror_mode": {
    "name": "ipython",
    "version": 3
   },
   "file_extension": ".py",
   "mimetype": "text/x-python",
   "name": "python",
   "nbconvert_exporter": "python",
   "pygments_lexer": "ipython3",
   "version": "3.8.12"
  },
  "toc": {
   "base_numbering": 1,
   "nav_menu": {},
   "number_sections": true,
   "sideBar": true,
   "skip_h1_title": false,
   "title_cell": "Table of Contents",
   "title_sidebar": "Contents",
   "toc_cell": false,
   "toc_position": {
    "height": "calc(100% - 180px)",
    "left": "10px",
    "top": "150px",
    "width": "374.533px"
   },
   "toc_section_display": true,
   "toc_window_display": true
  },
  "varInspector": {
   "cols": {
    "lenName": 16,
    "lenType": 16,
    "lenVar": 40
   },
   "kernels_config": {
    "python": {
     "delete_cmd_postfix": "",
     "delete_cmd_prefix": "del ",
     "library": "var_list.py",
     "varRefreshCmd": "print(var_dic_list())"
    },
    "r": {
     "delete_cmd_postfix": ") ",
     "delete_cmd_prefix": "rm(",
     "library": "var_list.r",
     "varRefreshCmd": "cat(var_dic_list()) "
    }
   },
   "types_to_exclude": [
    "module",
    "function",
    "builtin_function_or_method",
    "instance",
    "_Feature"
   ],
   "window_display": false
  }
 },
 "nbformat": 4,
 "nbformat_minor": 4
}
