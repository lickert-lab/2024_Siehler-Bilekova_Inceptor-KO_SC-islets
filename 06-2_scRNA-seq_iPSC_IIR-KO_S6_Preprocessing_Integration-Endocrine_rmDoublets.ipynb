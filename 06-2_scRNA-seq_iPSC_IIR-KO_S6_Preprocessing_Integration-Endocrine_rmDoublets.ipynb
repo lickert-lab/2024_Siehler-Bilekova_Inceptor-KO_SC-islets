{
 "cells": [
  {
   "cell_type": "markdown",
   "metadata": {},
   "source": [
    "\n",
    "# Preprocessing - Integration\n",
    "Michael Sterr\n",
    "\n",
    "2022-09-21 13:29:49 \n",
    "\n",
    "\n",
    "# Setup\n",
    "\n",
    "Run following scripts before:\n",
    " * 05-2_scRNA-seq_iPSC_IIR-KO_S6_Preprocessing_Normalization_WT-IIR-KO_v5"
   ]
  },
  {
   "cell_type": "code",
   "execution_count": 1,
   "metadata": {},
   "outputs": [
    {
     "data": {
      "text/html": [
       "<style>.container { width:85% !important; }</style>"
      ],
      "text/plain": [
       "<IPython.core.display.HTML object>"
      ]
     },
     "metadata": {},
     "output_type": "display_data"
    }
   ],
   "source": [
    "from IPython.core.display import display, HTML\n",
    "display(HTML(\"<style>.container { width:85% !important; }</style>\"))"
   ]
  },
  {
   "cell_type": "code",
   "execution_count": 2,
   "metadata": {
    "ExecuteTime": {
     "end_time": "2019-04-15T09:23:27.277106Z",
     "start_time": "2019-04-15T09:23:25.653400Z"
    }
   },
   "outputs": [
    {
     "name": "stderr",
     "output_type": "stream",
     "text": [
      "Global seed set to 0\n"
     ]
    }
   ],
   "source": [
    "# General\n",
    "import scipy as sci\n",
    "import numpy as np\n",
    "import pandas as pd\n",
    "import logging\n",
    "import time\n",
    "import pickle\n",
    "from itertools import chain\n",
    "import session_info\n",
    "import gc # Free memory #gc.collect()\n",
    "import scipy.stats as stats\n",
    "\n",
    "# Plotting\n",
    "import matplotlib.pyplot as plt\n",
    "import matplotlib as mpl\n",
    "from matplotlib import rcParams\n",
    "from matplotlib import cm\n",
    "from matplotlib.pyplot import rc_context\n",
    "import seaborn as sb\n",
    "from adjustText import adjust_text\n",
    "\n",
    "# Analysis\n",
    "import anndata as ad\n",
    "import scanpy as sc\n",
    "import scvi\n",
    "import scanpy.external as sce"
   ]
  },
  {
   "cell_type": "code",
   "execution_count": 3,
   "metadata": {},
   "outputs": [
    {
     "name": "stdout",
     "output_type": "stream",
     "text": [
      "-----\n",
      "anndata     0.8.0\n",
      "scanpy      1.9.1\n",
      "-----\n",
      "PIL                         8.4.0\n",
      "absl                        NA\n",
      "adjustText                  NA\n",
      "anyio                       NA\n",
      "astunparse                  1.6.3\n",
      "attr                        21.2.0\n",
      "babel                       2.9.1\n",
      "backcall                    0.2.0\n",
      "beta_ufunc                  NA\n",
      "binom_ufunc                 NA\n",
      "bottleneck                  1.3.2\n",
      "certifi                     2022.06.15\n",
      "cffi                        1.15.0\n",
      "chardet                     4.0.0\n",
      "charset_normalizer          2.0.7\n",
      "chex                        0.1.1\n",
      "cloudpickle                 2.0.0\n",
      "colorama                    0.4.4\n",
      "cupy                        10.1.0\n",
      "cupy_backends               NA\n",
      "cupyx                       NA\n",
      "cycler                      0.10.0\n",
      "cython_runtime              NA\n",
      "dask                        2021.10.0\n",
      "dateutil                    2.8.2\n",
      "debugpy                     1.4.1\n",
      "decorator                   5.1.0\n",
      "defusedxml                  0.7.1\n",
      "deprecate                   0.3.1\n",
      "docrep                      0.3.2\n",
      "entrypoints                 0.3\n",
      "fastrlock                   0.8\n",
      "flatbuffers                 NA\n",
      "flax                        0.4.0\n",
      "fsspec                      2021.10.1\n",
      "google                      NA\n",
      "h5py                        3.6.0\n",
      "idna                        3.3\n",
      "igraph                      0.9.8\n",
      "importlib_resources         NA\n",
      "ipykernel                   6.4.2\n",
      "ipython_genutils            0.2.0\n",
      "ipywidgets                  7.6.5\n",
      "jax                         0.3.4\n",
      "jaxlib                      0.3.2\n",
      "jedi                        0.18.0\n",
      "jinja2                      3.0.2\n",
      "joblib                      1.1.0\n",
      "json5                       NA\n",
      "jsonschema                  4.2.0\n",
      "jupyter_server              1.11.2\n",
      "jupyterlab_server           2.8.2\n",
      "kiwisolver                  1.3.2\n",
      "leidenalg                   0.8.8\n",
      "llvmlite                    0.37.0\n",
      "louvain                     0.7.0\n",
      "markupsafe                  2.0.1\n",
      "matplotlib                  3.5.2\n",
      "mpl_toolkits                NA\n",
      "msgpack                     1.0.3\n",
      "mudata                      0.2.0\n",
      "multipledispatch            0.6.0\n",
      "natsort                     8.0.0\n",
      "nbclassic                   NA\n",
      "nbformat                    5.1.3\n",
      "nbinom_ufunc                NA\n",
      "numba                       0.54.1\n",
      "numexpr                     2.7.3\n",
      "numpy                       1.20.0\n",
      "numpyro                     0.9.1\n",
      "opt_einsum                  v3.3.0\n",
      "optax                       0.1.1\n",
      "packaging                   21.3\n",
      "pandas                      1.4.3\n",
      "parso                       0.8.2\n",
      "pexpect                     4.8.0\n",
      "pickleshare                 0.7.5\n",
      "pkg_resources               NA\n",
      "prometheus_client           NA\n",
      "prompt_toolkit              3.0.21\n",
      "psutil                      5.8.0\n",
      "ptyprocess                  0.7.0\n",
      "pvectorc                    NA\n",
      "pydev_ipython               NA\n",
      "pydevconsole                NA\n",
      "pydevd                      2.4.1\n",
      "pydevd_concurrency_analyser NA\n",
      "pydevd_file_utils           NA\n",
      "pydevd_plugins              NA\n",
      "pydevd_tracing              NA\n",
      "pygments                    2.10.0\n",
      "pyparsing                   2.4.7\n",
      "pyro                        1.7.0\n",
      "pyrsistent                  NA\n",
      "pytorch_lightning           1.6.5\n",
      "pytz                        2021.3\n",
      "requests                    2.26.0\n",
      "rich                        NA\n",
      "scipy                       1.7.1\n",
      "scvi                        0.17.1\n",
      "seaborn                     0.11.2\n",
      "send2trash                  NA\n",
      "session_info                1.0.0\n",
      "six                         1.16.0\n",
      "sklearn                     1.0.1\n",
      "sniffio                     1.2.0\n",
      "sparse                      0.13.0\n",
      "sphinxcontrib               NA\n",
      "statsmodels                 0.13.2\n",
      "storemagic                  NA\n",
      "tensorboard                 2.7.0\n",
      "terminado                   0.12.1\n",
      "texttable                   1.6.4\n",
      "threadpoolctl               3.0.0\n",
      "tlz                         0.11.1\n",
      "toolz                       0.11.1\n",
      "torch                       1.11.0+cu113\n",
      "torchmetrics                0.6.0\n",
      "torchvision                 0.12.0+cu113\n",
      "tornado                     6.1\n",
      "tqdm                        4.62.3\n",
      "traitlets                   5.1.1\n",
      "tree                        0.1.6\n",
      "typing_extensions           NA\n",
      "urllib3                     1.26.7\n",
      "wcwidth                     0.2.5\n",
      "websocket                   1.2.1\n",
      "wrapt                       1.12.1\n",
      "yaml                        5.4.1\n",
      "zipp                        NA\n",
      "zmq                         22.3.0\n",
      "-----\n",
      "IPython             7.29.0\n",
      "jupyter_client      7.0.6\n",
      "jupyter_core        4.9.1\n",
      "jupyterlab          3.2.4\n",
      "notebook            6.4.5\n",
      "-----\n",
      "Python 3.8.12 | packaged by conda-forge | (default, Oct 12 2021, 21:57:06) [GCC 9.4.0]\n",
      "Linux-5.15.0-48-generic-x86_64-with-glibc2.10\n",
      "-----\n",
      "Session information updated at 2022-10-07 21:23\n"
     ]
    },
    {
     "data": {
      "text/html": [
       "<details>\n",
       "<summary>Click to view session information</summary>\n",
       "<pre>\n",
       "-----\n",
       "adjustText          NA\n",
       "anndata             0.8.0\n",
       "matplotlib          3.5.2\n",
       "numpy               1.20.0\n",
       "pandas              1.4.3\n",
       "scanpy              1.9.1\n",
       "scipy               1.7.1\n",
       "scvi                0.17.1\n",
       "seaborn             0.11.2\n",
       "session_info        1.0.0\n",
       "-----\n",
       "</pre>\n",
       "<details>\n",
       "<summary>Click to view modules imported as dependencies</summary>\n",
       "<pre>\n",
       "PIL                         8.4.0\n",
       "absl                        NA\n",
       "anyio                       NA\n",
       "astunparse                  1.6.3\n",
       "attr                        21.2.0\n",
       "babel                       2.9.1\n",
       "backcall                    0.2.0\n",
       "beta_ufunc                  NA\n",
       "binom_ufunc                 NA\n",
       "bottleneck                  1.3.2\n",
       "certifi                     2022.06.15\n",
       "cffi                        1.15.0\n",
       "chardet                     4.0.0\n",
       "charset_normalizer          2.0.7\n",
       "chex                        0.1.1\n",
       "cloudpickle                 2.0.0\n",
       "colorama                    0.4.4\n",
       "cupy                        10.1.0\n",
       "cupy_backends               NA\n",
       "cupyx                       NA\n",
       "cycler                      0.10.0\n",
       "cython_runtime              NA\n",
       "dask                        2021.10.0\n",
       "dateutil                    2.8.2\n",
       "debugpy                     1.4.1\n",
       "decorator                   5.1.0\n",
       "defusedxml                  0.7.1\n",
       "deprecate                   0.3.1\n",
       "docrep                      0.3.2\n",
       "entrypoints                 0.3\n",
       "fastrlock                   0.8\n",
       "flatbuffers                 NA\n",
       "flax                        0.4.0\n",
       "fsspec                      2021.10.1\n",
       "google                      NA\n",
       "h5py                        3.6.0\n",
       "idna                        3.3\n",
       "igraph                      0.9.8\n",
       "importlib_resources         NA\n",
       "ipykernel                   6.4.2\n",
       "ipython_genutils            0.2.0\n",
       "ipywidgets                  7.6.5\n",
       "jax                         0.3.4\n",
       "jaxlib                      0.3.2\n",
       "jedi                        0.18.0\n",
       "jinja2                      3.0.2\n",
       "joblib                      1.1.0\n",
       "json5                       NA\n",
       "jsonschema                  4.2.0\n",
       "jupyter_server              1.11.2\n",
       "jupyterlab_server           2.8.2\n",
       "kiwisolver                  1.3.2\n",
       "leidenalg                   0.8.8\n",
       "llvmlite                    0.37.0\n",
       "louvain                     0.7.0\n",
       "markupsafe                  2.0.1\n",
       "mpl_toolkits                NA\n",
       "msgpack                     1.0.3\n",
       "mudata                      0.2.0\n",
       "multipledispatch            0.6.0\n",
       "natsort                     8.0.0\n",
       "nbclassic                   NA\n",
       "nbformat                    5.1.3\n",
       "nbinom_ufunc                NA\n",
       "numba                       0.54.1\n",
       "numexpr                     2.7.3\n",
       "numpyro                     0.9.1\n",
       "opt_einsum                  v3.3.0\n",
       "optax                       0.1.1\n",
       "packaging                   21.3\n",
       "parso                       0.8.2\n",
       "pexpect                     4.8.0\n",
       "pickleshare                 0.7.5\n",
       "pkg_resources               NA\n",
       "prometheus_client           NA\n",
       "prompt_toolkit              3.0.21\n",
       "psutil                      5.8.0\n",
       "ptyprocess                  0.7.0\n",
       "pvectorc                    NA\n",
       "pydev_ipython               NA\n",
       "pydevconsole                NA\n",
       "pydevd                      2.4.1\n",
       "pydevd_concurrency_analyser NA\n",
       "pydevd_file_utils           NA\n",
       "pydevd_plugins              NA\n",
       "pydevd_tracing              NA\n",
       "pygments                    2.10.0\n",
       "pyparsing                   2.4.7\n",
       "pyro                        1.7.0\n",
       "pyrsistent                  NA\n",
       "pytorch_lightning           1.6.5\n",
       "pytz                        2021.3\n",
       "requests                    2.26.0\n",
       "rich                        NA\n",
       "send2trash                  NA\n",
       "six                         1.16.0\n",
       "sklearn                     1.0.1\n",
       "sniffio                     1.2.0\n",
       "sparse                      0.13.0\n",
       "sphinxcontrib               NA\n",
       "statsmodels                 0.13.2\n",
       "storemagic                  NA\n",
       "tensorboard                 2.7.0\n",
       "terminado                   0.12.1\n",
       "texttable                   1.6.4\n",
       "threadpoolctl               3.0.0\n",
       "tlz                         0.11.1\n",
       "toolz                       0.11.1\n",
       "torch                       1.11.0+cu113\n",
       "torchmetrics                0.6.0\n",
       "torchvision                 0.12.0+cu113\n",
       "tornado                     6.1\n",
       "tqdm                        4.62.3\n",
       "traitlets                   5.1.1\n",
       "tree                        0.1.6\n",
       "typing_extensions           NA\n",
       "urllib3                     1.26.7\n",
       "wcwidth                     0.2.5\n",
       "websocket                   1.2.1\n",
       "wrapt                       1.12.1\n",
       "yaml                        5.4.1\n",
       "zipp                        NA\n",
       "zmq                         22.3.0\n",
       "</pre>\n",
       "</details> <!-- seems like this ends pre, so might as well be explicit -->\n",
       "<pre>\n",
       "-----\n",
       "IPython             7.29.0\n",
       "jupyter_client      7.0.6\n",
       "jupyter_core        4.9.1\n",
       "jupyterlab          3.2.4\n",
       "notebook            6.4.5\n",
       "-----\n",
       "Python 3.8.12 | packaged by conda-forge | (default, Oct 12 2021, 21:57:06) [GCC 9.4.0]\n",
       "Linux-5.15.0-48-generic-x86_64-with-glibc2.10\n",
       "-----\n",
       "Session information updated at 2022-10-07 21:23\n",
       "</pre>\n",
       "</details>"
      ],
      "text/plain": [
       "<IPython.core.display.HTML object>"
      ]
     },
     "execution_count": 3,
     "metadata": {},
     "output_type": "execute_result"
    }
   ],
   "source": [
    "# Settings\n",
    "\n",
    "## Scanpy settings\n",
    "sc.settings.verbosity = 3\n",
    "sc.logging.print_versions()\n",
    "session_info.show()"
   ]
  },
  {
   "cell_type": "code",
   "execution_count": 4,
   "metadata": {
    "ExecuteTime": {
     "end_time": "2019-04-15T09:23:29.016609Z",
     "start_time": "2019-04-15T09:23:28.667840Z"
    }
   },
   "outputs": [],
   "source": [
    "# Color maps\n",
    "exec(open(\"/home/michi/Software/viscm/maps/michi_bk_bl_gn_yl.py\").read())"
   ]
  },
  {
   "cell_type": "code",
   "execution_count": 5,
   "metadata": {
    "ExecuteTime": {
     "end_time": "2019-04-15T09:23:30.907616Z",
     "start_time": "2019-04-15T09:23:30.903744Z"
    }
   },
   "outputs": [],
   "source": [
    "# Plot settings\n",
    "%matplotlib inline\n",
    "\n",
    "## Directory\n",
    "sc.settings.figdir='/home/michi/Projects/scRNA-seq_iPSC_IGFRL-KO_Notebooks/Figures'\n",
    "\n",
    "## Plotting parameters\n",
    "rcParams['figure.figsize']=(20,20) #rescale figures\n",
    "#sc.set_figure_params(scanpy=True, frameon=False, vector_friendly=False, color_map='tab10' ,transparent=True, dpi=150, dpi_save=300)\n",
    "sc.set_figure_params(scanpy=True, frameon=False, vector_friendly=False ,transparent=True, dpi=150, dpi_save=300)\n",
    "\n",
    "## Font\n",
    "rcParams['font.family'] = 'sans-serif'\n",
    "rcParams['font.sans-serif'] = ['Source Sans 3']\n",
    "\n",
    "## Grid & Ticks\n",
    "rcParams['grid.alpha'] = 0\n",
    "rcParams['xtick.bottom'] = True\n",
    "rcParams['ytick.left'] = True\n",
    "\n",
    "## Embed font\n",
    "plt.rc('pdf', fonttype=42)\n",
    "\n",
    "## Define new default settings\n",
    "plt.rcParamsDefault = plt.rcParams"
   ]
  },
  {
   "cell_type": "code",
   "execution_count": 6,
   "metadata": {},
   "outputs": [],
   "source": [
    "# Color maps\n",
    "ch_YlRd=sb.cubehelix_palette(100, start=.7, rot=.25, gamma=0.6, hue=2, light=1, dark=0.05, as_cmap=True)\n",
    "ch_Bl=sb.cubehelix_palette(100, start=2.65, rot=0, gamma=0.8, hue=1.8, light=1, dark=0, as_cmap=True)\n",
    "ch_Bl2=sb.cubehelix_palette(100, start=2.75, rot=-.12, gamma=0.8, hue=1.8, light=1, dark=0, as_cmap=True)"
   ]
  },
  {
   "cell_type": "markdown",
   "metadata": {},
   "source": [
    "# Setup R"
   ]
  },
  {
   "cell_type": "code",
   "execution_count": 7,
   "metadata": {},
   "outputs": [],
   "source": [
    "#R\n",
    "import os\n",
    "os.environ['R_HOME'] = '/home/michi/Software/venvs/scAnalysis_sc1.9_ad0.8_mu0.1.2_md0.2_R4.1_FVF/lib/R' #path to your R installation\n",
    "\n",
    "import rpy2\n",
    "import rpy2.robjects as ro\n",
    "import rpy2.rinterface_lib.callbacks\n",
    "from rpy2.robjects import pandas2ri\n",
    "import anndata2ri\n",
    "\n",
    "## R settings\n",
    "\n",
    "### Ignore R warning messages\n",
    "#### Note: this can be commented out to get more verbose R output\n",
    "rpy2.rinterface_lib.callbacks.logger.setLevel(logging.ERROR)\n",
    "\n",
    "### Automatically convert rpy2 outputs to pandas dataframes\n",
    "pandas2ri.activate()\n",
    "anndata2ri.activate()\n",
    "%load_ext rpy2.ipython"
   ]
  },
  {
   "cell_type": "code",
   "execution_count": 8,
   "metadata": {
    "scrolled": true
   },
   "outputs": [
    {
     "name": "stdout",
     "output_type": "stream",
     "text": [
      "[1] \"/home/michi/Software/venvs/scAnalysis_sc1.9_ad0.8_mu0.1.2_md0.2_R4.1_FVF/lib/R/library\"\n"
     ]
    }
   ],
   "source": [
    "%%R\n",
    "\n",
    ".libPaths()"
   ]
  },
  {
   "cell_type": "code",
   "execution_count": 9,
   "metadata": {},
   "outputs": [
    {
     "name": "stdout",
     "output_type": "stream",
     "text": [
      "R version 4.1.1 (2021-08-10)\n",
      "Platform: x86_64-pc-linux-gnu (64-bit)\n",
      "Running under: Ubuntu 20.04.5 LTS\n",
      "\n",
      "Matrix products: default\n",
      "BLAS/LAPACK: /home/michi/Software/venvs/scAnalysis_sc1.9_ad0.8_mu0.1.2_md0.2_R4.1_FVF/lib/libopenblasp-r0.3.18.so\n",
      "\n",
      "locale:\n",
      " [1] LC_CTYPE=en_US.UTF-8       LC_NUMERIC=C              \n",
      " [3] LC_TIME=de_DE.UTF-8        LC_COLLATE=en_US.UTF-8    \n",
      " [5] LC_MONETARY=de_DE.UTF-8    LC_MESSAGES=en_US.UTF-8   \n",
      " [7] LC_PAPER=de_DE.UTF-8       LC_NAME=C                 \n",
      " [9] LC_ADDRESS=C               LC_TELEPHONE=C            \n",
      "[11] LC_MEASUREMENT=de_DE.UTF-8 LC_IDENTIFICATION=C       \n",
      "\n",
      "attached base packages:\n",
      "[1] tools     stats     graphics  grDevices utils     datasets  methods  \n",
      "[8] base     \n",
      "\n",
      "other attached packages:\n",
      "[1] BiocParallel.FutureParam_0.2.1 BiocParallel_1.28.3           \n",
      "[3] future_1.27.0                  scry_1.6.0                    \n",
      "\n",
      "loaded via a namespace (and not attached):\n",
      " [1] Rcpp_1.0.9                  parallelly_1.32.1          \n",
      " [3] BiocSingular_1.10.0         XVector_0.34.0             \n",
      " [5] GenomicRanges_1.46.1        BiocGenerics_0.40.0        \n",
      " [7] zlibbioc_1.40.0             IRanges_2.28.0             \n",
      " [9] lattice_0.20-45             ScaledMatrix_1.2.0         \n",
      "[11] GenomeInfoDb_1.30.1         globals_0.16.0             \n",
      "[13] rsvd_1.0.5                  SummarizedExperiment_1.24.0\n",
      "[15] parallel_4.1.1              grid_4.1.1                 \n",
      "[17] Biobase_2.54.0              irlba_2.3.5                \n",
      "[19] matrixStats_0.62.0          digest_0.6.29              \n",
      "[21] Matrix_1.4-1                GenomeInfoDbData_1.2.7     \n",
      "[23] codetools_0.2-18            S4Vectors_0.32.4           \n",
      "[25] bitops_1.0-7                RCurl_1.98-1.8             \n",
      "[27] SingleCellExperiment_1.16.0 DelayedArray_0.20.0        \n",
      "[29] compiler_4.1.1              MatrixGenerics_1.6.0       \n",
      "[31] beachmat_2.10.0             stats4_4.1.1               \n",
      "[33] listenv_0.8.0              \n"
     ]
    }
   ],
   "source": [
    "%%R\n",
    "library(scry)\n",
    "\n",
    "# Parallelization\n",
    "library(\"BiocParallel.FutureParam\")\n",
    "register(FutureParam())\n",
    "plan(multicore, workers=8)\n",
    "options(future.globals.maxSize = 2 * 1024 ^ 3) # for 50 Gb RAM\n",
    "\n",
    "sessionInfo()"
   ]
  },
  {
   "cell_type": "markdown",
   "metadata": {},
   "source": [
    "# Functions"
   ]
  },
  {
   "cell_type": "code",
   "execution_count": 10,
   "metadata": {},
   "outputs": [],
   "source": [
    "def sparsify_all_layers(adata):\n",
    "    \"\"\"\n",
    "    Loop trough all layers and make dense matrices sparse.\n",
    "    \"\"\"\n",
    "          \n",
    "    if not sci.sparse.issparse(adata.X):\n",
    "        print('Sparsify .X...')\n",
    "        adata.X = sci.sparse.csr_matrix(adata.X)\n",
    "    else:\n",
    "        print('.X already spase...')  \n",
    "        \n",
    "    for layer in list(adata.layers):\n",
    "        if not sci.sparse.issparse(adata.layers[layer]):\n",
    "            print('Sparsify ', layer)\n",
    "            adata.layers[layer] = sci.sparse.csr_matrix(adata.layers[layer])\n",
    "        else:\n",
    "            print('Layer', layer, 'already spase...')\n",
    "\n",
    "####################################################################################################################################################################################################################################\n",
    "####################################################################################################################################################################################################################################\n",
    "####################################################################################################################################################################################################################################\n",
    "####################################################################################################################################################################################################################################\n",
    "\n",
    "    \n",
    "def print_r_session():\n",
    "    ro.r('print(sessionInfo())')"
   ]
  },
  {
   "cell_type": "markdown",
   "metadata": {},
   "source": [
    "# Load Data"
   ]
  },
  {
   "cell_type": "code",
   "execution_count": 11,
   "metadata": {},
   "outputs": [],
   "source": [
    "adata=sc.read('/home/michi/Projects/scRNA-seq_iPSC_IGFRL-KO_Notebooks/Files/scRNA-seq_iPSC_IIR-KO_S6_adata_rmDoublets_normalized_integrated.h5ad')"
   ]
  },
  {
   "cell_type": "code",
   "execution_count": 13,
   "metadata": {},
   "outputs": [],
   "source": [
    "adata = adata[~adata.obs.initial_cell_type.isin(['Non-Endocrine','Non-Epithelial'])].copy()"
   ]
  },
  {
   "cell_type": "markdown",
   "metadata": {},
   "source": [
    "# Integration"
   ]
  },
  {
   "cell_type": "code",
   "execution_count": 14,
   "metadata": {},
   "outputs": [],
   "source": [
    "genes = ['INS','GCG','TPH1','SST','ARX','NKX6-1','LMX1A','LMX1B','SLC18A1','ASCL1','GAP43','MKI67','KRT19','VIM']\n",
    "marker_genes = ['INS','GCG','SST','ARX','TPH1','MKI67','CHGA','KRT19','VIM','EPCAM','GAP43','RPS26']"
   ]
  },
  {
   "cell_type": "code",
   "execution_count": 15,
   "metadata": {},
   "outputs": [],
   "source": [
    "batch_key = 'batch'\n",
    "labels_key = 'initial_cell_type'"
   ]
  },
  {
   "cell_type": "markdown",
   "metadata": {},
   "source": [
    "## HVG Overlap"
   ]
  },
  {
   "cell_type": "code",
   "execution_count": 16,
   "metadata": {},
   "outputs": [],
   "source": [
    "adata_hvg = adata.copy()"
   ]
  },
  {
   "cell_type": "code",
   "execution_count": 17,
   "metadata": {},
   "outputs": [],
   "source": [
    "adata_raw_0 = ad.AnnData(X=adata[adata.obs.batch.isin(['0'])].layers['raw_counts'])\n",
    "adata_raw_1 = ad.AnnData(X=adata[adata.obs.batch.isin(['1'])].layers['raw_counts'])"
   ]
  },
  {
   "cell_type": "code",
   "execution_count": 18,
   "metadata": {},
   "outputs": [
    {
     "name": "stderr",
     "output_type": "stream",
     "text": [
      "/home/michi/Software/venvs/scAnalysis_sc1.9_ad0.8_mu0.1.2_md0.2_R4.1_FVF/lib/python3.8/site-packages/anndata2ri/r2py.py:102: FutureWarning: X.dtype being converted to np.float32 from float64. In the next version of anndata (0.9) conversion will not be automatic. Pass dtype explicitly to avoid this warning. Pass `AnnData(X, dtype=X.dtype, ...)` to get the future behavour.\n",
      "  return AnnData(exprs, obs, var, uns, obsm or None, layers=layers)\n",
      "/home/michi/Software/venvs/scAnalysis_sc1.9_ad0.8_mu0.1.2_md0.2_R4.1_FVF/lib/python3.8/site-packages/anndata2ri/r2py.py:102: FutureWarning: X.dtype being converted to np.float32 from float64. In the next version of anndata (0.9) conversion will not be automatic. Pass dtype explicitly to avoid this warning. Pass `AnnData(X, dtype=X.dtype, ...)` to get the future behavour.\n",
      "  return AnnData(exprs, obs, var, uns, obsm or None, layers=layers)\n"
     ]
    }
   ],
   "source": [
    "%%R -i adata_raw_0\n",
    "sce = devianceFeatureSelection(adata_raw_0, assay='X')"
   ]
  },
  {
   "cell_type": "code",
   "execution_count": 19,
   "metadata": {},
   "outputs": [],
   "source": [
    "binomial_deviance_0 = ro.r('rowData(sce)$binomial_deviance').T"
   ]
  },
  {
   "cell_type": "code",
   "execution_count": 20,
   "metadata": {},
   "outputs": [],
   "source": [
    "idx = binomial_deviance_0.argsort()[-4000:]\n",
    "mask = np.zeros(adata_hvg.var_names.shape, dtype=bool)\n",
    "mask[idx] = True\n",
    "\n",
    "adata_hvg.var['highly_deviant_0'] = mask"
   ]
  },
  {
   "cell_type": "code",
   "execution_count": 21,
   "metadata": {},
   "outputs": [
    {
     "name": "stderr",
     "output_type": "stream",
     "text": [
      "/home/michi/Software/venvs/scAnalysis_sc1.9_ad0.8_mu0.1.2_md0.2_R4.1_FVF/lib/python3.8/site-packages/anndata2ri/r2py.py:102: FutureWarning: X.dtype being converted to np.float32 from float64. In the next version of anndata (0.9) conversion will not be automatic. Pass dtype explicitly to avoid this warning. Pass `AnnData(X, dtype=X.dtype, ...)` to get the future behavour.\n",
      "  return AnnData(exprs, obs, var, uns, obsm or None, layers=layers)\n",
      "/home/michi/Software/venvs/scAnalysis_sc1.9_ad0.8_mu0.1.2_md0.2_R4.1_FVF/lib/python3.8/site-packages/anndata2ri/r2py.py:102: FutureWarning: X.dtype being converted to np.float32 from float64. In the next version of anndata (0.9) conversion will not be automatic. Pass dtype explicitly to avoid this warning. Pass `AnnData(X, dtype=X.dtype, ...)` to get the future behavour.\n",
      "  return AnnData(exprs, obs, var, uns, obsm or None, layers=layers)\n"
     ]
    }
   ],
   "source": [
    "%%R -i adata_raw_1\n",
    "sce = devianceFeatureSelection(adata_raw_1, assay='X')"
   ]
  },
  {
   "cell_type": "code",
   "execution_count": 22,
   "metadata": {},
   "outputs": [],
   "source": [
    "binomial_deviance_1 = ro.r('rowData(sce)$binomial_deviance').T"
   ]
  },
  {
   "cell_type": "code",
   "execution_count": 23,
   "metadata": {},
   "outputs": [],
   "source": [
    "idx = binomial_deviance_1.argsort()[-4000:]\n",
    "mask = np.zeros(adata_hvg.var_names.shape, dtype=bool)\n",
    "mask[idx] = True\n",
    "\n",
    "adata_hvg.var['highly_deviant_1'] = mask"
   ]
  },
  {
   "cell_type": "code",
   "execution_count": 24,
   "metadata": {},
   "outputs": [],
   "source": [
    "hvg_list = list(set(adata_hvg.var[adata_hvg.var['highly_deviant_0']].index).intersection(set(adata_hvg.var[adata_hvg.var['highly_deviant_1']].index)))"
   ]
  },
  {
   "cell_type": "code",
   "execution_count": 25,
   "metadata": {},
   "outputs": [
    {
     "name": "stdout",
     "output_type": "stream",
     "text": [
      "\n",
      "Highly variable genes before filtering: 3638\n",
      "\n",
      "Highly variable cell cycle genes: 184 \n",
      " ['TOP1', 'VCL', 'MYCBP2', 'HMGB2', 'RHEB', 'TSC22D1', 'BRD7', 'TULP4', 'NT5DC1', 'CTSD', 'SEC62', 'CADM1', 'CFLAR', 'USP13', 'LNPEP', 'GNB1', 'TUBB', 'PHIP', 'KDM5B', 'NUMA1', 'NKTR', 'CEP57', 'CASP3', 'SSR3', 'BCLAF1', 'CBX5', 'CDC42', 'LARP7', 'GADD45A', 'MSL1', 'PTMS', 'EIF4E', 'TOP2A', 'DNAJB6', 'ZBTB7A', 'CCDC88A', 'TTLL7', 'DCAF16', 'CEP350', 'RAN', 'HMGCR', 'CENPF', 'CTR9', 'FXR1', 'TUBB4B', 'CTCF', 'DNAJA1', 'LARP1', 'TMPO', 'LMO4', 'POM121', 'RERE', 'TUBB2A', 'HIPK2', 'ZNF24', 'INSR', 'THRAP3', 'KLF6', 'NR3C1', 'NFIC', 'BUB3', 'REEP1', 'UBL3', 'AHI1', 'PPP6R3', 'KRAS', 'ZNF207', 'SFPQ', 'CALD1', 'ZBED5', 'EIF4EBP2', 'UBE2C', 'BTBD3', 'LMNA', 'NIPBL', 'AMD1', 'CCDC14', 'HMGB3', 'TXNRD1', 'ATF7IP', 'HP1BP3', 'DYNLL1', 'RSRC2', 'PSMD11', 'CAPN7', 'PPP2R2A', 'HSPA8', 'PPP1R2', 'ZNF593', 'YWHAH', 'PLIN3', 'RBM8A', 'ARL6IP1', 'SPTBN1', 'CYTH2', 'VPS25', 'PNN', 'KPNB1', 'SYNCRIP', 'TAF15', 'CERS6', 'STAT1', 'PCDH7', 'CREBZF', 'CALM2', 'NFE2L2', 'ANP32B', 'GSPT1', 'TUBA1A', 'G3BP1', 'MRPS18B', 'TAF9', 'DNAJB1', 'DCAF7', 'SMARCD1', 'ILF2', 'IFNAR1', 'MKI67', 'TIMP1', 'PCF11', 'CCDC107', 'HELLS', 'NASP', 'GAS2L3', 'ARMC1', 'HIF1A', 'KPNA2', 'PPP1R10', 'WSB1', 'CWC15', 'USP16', 'LUC7L3', 'PTTG1', 'SLC25A36', 'ZRANB2', 'RPL13A', 'GCLM', 'UBE2D3', 'RANGAP1', 'MAP3K2', 'SRSF3', 'NUCKS1', 'MRPL19', 'RRM2', 'JMJD1C', 'ARGLU1', 'NUFIP2', 'DYNC1LI2', 'DZIP3', 'RHOBTB3', 'DSP', 'CBX3', 'CKAP5', 'SRSF5', 'TSG101', 'DNAJC3', 'ESD', 'SS18', 'BRD8', 'TNPO1', 'SLC39A10', 'KIF5B', 'TRA2A', 'GTF3C4', 'AP3D1', 'YY1', 'TTC14', 'RNPS1', 'RDH11', 'CKS1B', 'PPP2CA', 'SRSF7', 'HRAS', 'AKAP13', 'MAN1A2', 'RAD21', 'SMARCB1', 'MORF4L2', 'CTNNA1', 'ZFX', 'SVIP', 'SMC4', 'MTPN', 'HSPA13']\n",
      "\n",
      "Highly variable ambient genes: 125 \n",
      " ['RPS23', 'CLU', 'TPT1', 'RPSA', 'SCGN', 'RPS3A', 'SST', 'RPS5', 'FTL', 'RPLP2', 'GAPDH', 'RPS11', 'HMGB1', 'TMSB4X', 'RPS26', 'RPL9', 'UBA52', 'RPS27', 'RPS29', 'S100A10', 'RPL10A', 'SERF2', 'EIF1', 'HINT1', 'PTMS', 'MAP1B', 'UBC', 'RPL19', 'HSP90AA1', 'MYL6', 'RPL10', 'RPL3', 'PTMA', 'RPL7', 'GCG', 'RPL35A', 'RPL22', 'MARCKS', 'GNAS', 'RPL28', 'ATP5F1E', 'C1QL1', 'INS', 'CADPS', 'RPS7', 'ACTB', 'RPS6', 'RPL6', 'RPLP1', 'RPL18A', 'RPL29', 'TTR', 'FTH1', 'RPS18', 'RPL11', 'RPL14', 'HNRNPA2B1', 'CFL1', 'PFDN5', 'ACTG1', 'RPS21', 'RPL32', 'CPE', 'RPS28', 'RPL30', 'NACA', 'RPL18', 'RPS2', 'DLK1', 'ERO1B', 'RPS12', 'UBB', 'RPS20', 'RACK1', 'FAU', 'VIM', 'RPL41', 'TUBA1A', 'CHGA', 'RPL27A', 'PRDX2', 'RPL7A', 'RPS15', 'PPIA', 'RPL37', 'PCSK1N', 'SSR4', 'RPS16', 'RPS15A', 'RPL13A', 'RPL12', 'RPL36', 'PLD3', 'RPS8', 'RPL35', 'RPL8', 'TMSB10', 'RPL13', 'RPS24', 'RPL37A', 'RPL21', 'STMN1', 'CRYBA2', 'RPS9', 'RPS19', 'RPS4X', 'RPL26', 'RPS14', 'EEF1A1', 'RPLP0', 'RPL15', 'RPS27A', 'SRP14', 'RPS13', 'RPL24', 'RPL23A', 'ALDH1A1', 'RPL39', 'RPL5', 'HSP90AB1', 'RPL34', 'RPS25', 'RPL31', 'RPS3', 'RPL23']\n",
      "\n",
      "Highly variable genes after filtering: 3454\n"
     ]
    }
   ],
   "source": [
    "# Get HVGs and overlap with cell cycle & ambient genes\n",
    "\n",
    "## HVGs\n",
    "adata_hvg.var['highly_variable'] = adata_hvg.var_names.isin(hvg_list)\n",
    "hvgs = pd.Series(adata_hvg.var_names[adata_hvg.var['highly_variable']])\n",
    "print('\\nHighly variable genes before filtering:',adata_hvg.var.loc[:,'highly_variable'].value_counts()[1])\n",
    "\n",
    "# overlap HVGs with CC genes\n",
    "hvcc = list(hvgs[hvgs.isin(all_cc_genes)])\n",
    "print('\\nHighly variable cell cycle genes:',len(hvcc),'\\n',hvcc)\n",
    "\n",
    "# overlap HVGs with ambient genes\n",
    "hvambi = list(hvgs[hvgs.isin(list(adata_hvg[:,adata_hvg.var['is_ambient'] == True].var_names))])\n",
    "print('\\nHighly variable ambient genes:',len(hvambi),'\\n',hvambi)\n",
    "\n",
    "# remove cell cycle genes\n",
    "adata_hvg.var.loc[hvcc,'highly_variable'] = False\n",
    "\n",
    "# # remove ambient genes\n",
    "# adata_hvg.var.loc[hvambi,'highly_variable'] = False\n",
    "\n",
    "print('\\nHighly variable genes after filtering:',adata_hvg.var.loc[:,'highly_variable'].value_counts()[1])"
   ]
  },
  {
   "cell_type": "code",
   "execution_count": 26,
   "metadata": {},
   "outputs": [
    {
     "name": "stdout",
     "output_type": "stream",
     "text": [
      "computing PCA\n",
      "    on highly variable genes\n",
      "    with n_comps=50\n",
      "    finished (0:00:07)\n"
     ]
    }
   ],
   "source": [
    "sc.pp.pca(adata_hvg, svd_solver='arpack', use_highly_variable=True)"
   ]
  },
  {
   "cell_type": "code",
   "execution_count": 27,
   "metadata": {},
   "outputs": [
    {
     "name": "stdout",
     "output_type": "stream",
     "text": [
      "computing neighbors\n",
      "    using 'X_pca' with n_pcs = 50\n",
      "    finished: added to `.uns['neighbors']`\n",
      "    `.obsp['distances']`, distances for each pair of neighbors\n",
      "    `.obsp['connectivities']`, weighted adjacency matrix (0:01:26)\n",
      "running Leiden clustering\n",
      "    finished: found 14 clusters and added\n",
      "    'leiden', the cluster labels (adata.obs, categorical) (0:00:00)\n"
     ]
    }
   ],
   "source": [
    "sc.pp.neighbors(adata_hvg)\n",
    "sc.tl.leiden(adata_hvg)"
   ]
  },
  {
   "cell_type": "code",
   "execution_count": 28,
   "metadata": {},
   "outputs": [
    {
     "name": "stdout",
     "output_type": "stream",
     "text": [
      "computing UMAP\n",
      "    finished: added\n",
      "    'X_umap', UMAP coordinates (adata.obsm) (0:00:07)\n"
     ]
    }
   ],
   "source": [
    "sc.tl.umap(adata_hvg)"
   ]
  },
  {
   "cell_type": "code",
   "execution_count": null,
   "metadata": {},
   "outputs": [],
   "source": [
    "sc.pl.umap(adata_hvg, color=['sample','leiden'] + genes, size=10, add_outline=True, alpha=1, outline_width=(0.3, 0.0), ncols=4, color_map=ch_YlRd)"
   ]
  },
  {
   "cell_type": "code",
   "execution_count": null,
   "metadata": {},
   "outputs": [],
   "source": [
    "for genotype in set(adata_hvg.obs['genotype']):\n",
    "    palette = list(adata_hvg.uns['initial_cell_type_colors'])#['#1f77b4','#7ba2cd','#becfe6', '#279e68','#7abf98','#bddfca','#d62728','#ff7f0e', '#8c564b','#aa40fc','#cd85ff', '#17becf',  '#b5bd61', '#dcddaf', '#c6c6c6', '#919191',  '#5e5e5e']\n",
    "    sc.pl.umap(adata_hvg[adata_hvg.obs['genotype']==genotype], color=['initial_cell_type'], title= genotype, size=12, add_outline=True, alpha=0.7, outline_width=(0.3, 0.0), ncols=4, show=True, palette=palette,\n",
    "                    ax=sc.pl.umap(adata_hvg, color=['initial_cell_type'], size=5, legend_loc=None, add_outline=False, alpha=0.3, outline_width=(0.3, 0.0), ncols=4, show=False))"
   ]
  },
  {
   "cell_type": "markdown",
   "metadata": {},
   "source": [
    "## SCVI Tools"
   ]
  },
  {
   "cell_type": "code",
   "execution_count": null,
   "metadata": {},
   "outputs": [],
   "source": [
    "adata_scvi = adata.copy()"
   ]
  },
  {
   "cell_type": "code",
   "execution_count": null,
   "metadata": {
    "scrolled": true
   },
   "outputs": [],
   "source": [
    "scvi.model.SCVI.setup_anndata(adata_scvi, layer='raw_counts', batch_key=batch_key)"
   ]
  },
  {
   "cell_type": "code",
   "execution_count": null,
   "metadata": {},
   "outputs": [],
   "source": [
    "model_scvi = scvi.model.SCVI(adata_scvi, n_hidden=512, n_layers=2, n_latent=30, gene_likelihood='nb', dispersion='gene-batch')\n",
    "print(model_scvi)\n",
    "model_scvi.view_anndata_setup()"
   ]
  },
  {
   "cell_type": "code",
   "execution_count": null,
   "metadata": {},
   "outputs": [],
   "source": [
    "model_scvi.train()"
   ]
  },
  {
   "cell_type": "code",
   "execution_count": null,
   "metadata": {},
   "outputs": [],
   "source": [
    "adata_scvi.obsm['X_scVI'] = model_scvi.get_latent_representation()"
   ]
  },
  {
   "cell_type": "code",
   "execution_count": null,
   "metadata": {},
   "outputs": [],
   "source": [
    "sc.pp.neighbors(adata_scvi, use_rep='X_scVI')\n",
    "sc.tl.leiden(adata_scvi)"
   ]
  },
  {
   "cell_type": "code",
   "execution_count": null,
   "metadata": {},
   "outputs": [],
   "source": [
    "sc.tl.umap(adata_scvi)"
   ]
  },
  {
   "cell_type": "code",
   "execution_count": null,
   "metadata": {},
   "outputs": [],
   "source": [
    "sc.pl.umap(adata_scvi, color=['sample','leiden'] + marker_genes, size=10, add_outline=True, alpha=1, outline_width=(0.3, 0.0), ncols=4)"
   ]
  },
  {
   "cell_type": "code",
   "execution_count": null,
   "metadata": {},
   "outputs": [],
   "source": [
    "for genotype in set(adata_scvi.obs['genotype']):\n",
    "    palette = list(adata_scvi.uns['initial_cell_type_colors'])#['#1f77b4','#7ba2cd','#becfe6', '#279e68','#7abf98','#bddfca','#d62728','#ff7f0e', '#8c564b','#aa40fc','#cd85ff', '#17becf',  '#b5bd61', '#dcddaf', '#c6c6c6', '#919191',  '#5e5e5e']\n",
    "    sc.pl.umap(adata_scvi[adata_scvi.obs['genotype']==genotype], color=['initial_cell_type'], title= genotype, size=12, add_outline=True, alpha=0.7, outline_width=(0.3, 0.0), ncols=4, show=True, palette=palette,\n",
    "                    ax=sc.pl.umap(adata_scvi, color=['initial_cell_type'], size=5, legend_loc=None, add_outline=False, alpha=0.3, outline_width=(0.3, 0.0), ncols=4, show=False))"
   ]
  },
  {
   "cell_type": "markdown",
   "metadata": {},
   "source": [
    "## scANVI"
   ]
  },
  {
   "cell_type": "code",
   "execution_count": null,
   "metadata": {},
   "outputs": [],
   "source": [
    "adata_scanvi = adata.copy()"
   ]
  },
  {
   "cell_type": "code",
   "execution_count": null,
   "metadata": {},
   "outputs": [],
   "source": [
    "model_scanvi = scvi.model.SCANVI.from_scvi_model(\n",
    "    model_scvi,\n",
    "    adata=adata_scanvi, \n",
    "    labels_key=labels_key, \n",
    "    unlabeled_category='unlabelled'\n",
    ")\n",
    "print(model_scanvi)\n",
    "model_scanvi.view_anndata_setup()"
   ]
  },
  {
   "cell_type": "code",
   "execution_count": null,
   "metadata": {},
   "outputs": [],
   "source": [
    "model_scanvi.train(max_epochs=30)"
   ]
  },
  {
   "cell_type": "code",
   "execution_count": null,
   "metadata": {},
   "outputs": [],
   "source": [
    "adata_scanvi.obsm['X_scANVI'] = model_scanvi.get_latent_representation()"
   ]
  },
  {
   "cell_type": "code",
   "execution_count": null,
   "metadata": {},
   "outputs": [],
   "source": [
    "sc.pp.neighbors(adata_scanvi, use_rep='X_scANVI')\n",
    "sc.tl.leiden(adata_scanvi)"
   ]
  },
  {
   "cell_type": "code",
   "execution_count": null,
   "metadata": {},
   "outputs": [],
   "source": [
    "sc.tl.umap(adata_scanvi)"
   ]
  },
  {
   "cell_type": "code",
   "execution_count": null,
   "metadata": {},
   "outputs": [],
   "source": [
    "sc.pl.umap(adata_scanvi, color=['sample','leiden'] + marker_genes, size=10, add_outline=True, alpha=1, outline_width=(0.3, 0.0), ncols=4)"
   ]
  },
  {
   "cell_type": "code",
   "execution_count": null,
   "metadata": {},
   "outputs": [],
   "source": [
    "for genotype in set(adata_scanvi.obs['genotype']):\n",
    "    palette = list(adata_scanvi.uns['initial_cell_type_colors'])#['#1f77b4','#7ba2cd','#becfe6', '#279e68','#7abf98','#bddfca','#d62728','#ff7f0e', '#8c564b','#aa40fc','#cd85ff', '#17becf',  '#b5bd61', '#dcddaf', '#c6c6c6', '#919191',  '#5e5e5e']\n",
    "    sc.pl.umap(adata_scanvi[adata_scanvi.obs['genotype']==genotype], color=['initial_cell_type'], title= genotype, size=12, add_outline=True, alpha=0.7, outline_width=(0.3, 0.0), ncols=4, show=True, palette=palette,\n",
    "                    ax=sc.pl.umap(adata_scanvi, color=['initial_cell_type'], size=5, legend_loc=None, add_outline=False, alpha=0.3, outline_width=(0.3, 0.0), ncols=4, show=False))"
   ]
  },
  {
   "cell_type": "markdown",
   "metadata": {},
   "source": [
    "### Label Prediction"
   ]
  },
  {
   "cell_type": "code",
   "execution_count": null,
   "metadata": {},
   "outputs": [],
   "source": [
    "adata_scanvi_label = adata.copy()"
   ]
  },
  {
   "cell_type": "raw",
   "metadata": {},
   "source": [
    "adata_scanvi_label.obs['wt_cell_type'] = 'unlabelled'\n",
    "adata_scanvi_label.obs.loc[adata_scanvi_label.obs.genotype.isin(['WT']),'wt_cell_type'] = adata_scanvi_label.obs.loc[adata_scanvi_label.obs.genotype.isin(['WT']),'initial_cell_type']\n",
    "adata_scanvi_label.obs['wt_cell_type'] = adata_scanvi_label.obs['wt_cell_type'].astype('category')"
   ]
  },
  {
   "cell_type": "code",
   "execution_count": null,
   "metadata": {},
   "outputs": [],
   "source": [
    "sc.pl.umap(adata_scanvi, color=['sample','wt_cell_type'], size=10, add_outline=True, alpha=1, outline_width=(0.3, 0.0), ncols=4)"
   ]
  },
  {
   "cell_type": "code",
   "execution_count": null,
   "metadata": {},
   "outputs": [],
   "source": [
    "model_scanvi = scvi.model.SCANVI.from_scvi_model(\n",
    "    model_scvi,\n",
    "    adata=adata_scanvi_label, \n",
    "    labels_key='wt_cell_type', \n",
    "    unlabeled_category='unlabelled'\n",
    ")\n",
    "print(model_scanvi)\n",
    "model_scanvi.view_anndata_setup()"
   ]
  },
  {
   "cell_type": "code",
   "execution_count": null,
   "metadata": {},
   "outputs": [],
   "source": [
    "model_scanvi.train(max_epochs=30)"
   ]
  },
  {
   "cell_type": "code",
   "execution_count": null,
   "metadata": {},
   "outputs": [],
   "source": [
    "adata_scanvi_label.obsm['X_scANVI'] = model_scanvi.get_latent_representation()"
   ]
  },
  {
   "cell_type": "code",
   "execution_count": null,
   "metadata": {},
   "outputs": [],
   "source": [
    "sc.pp.neighbors(adata_scanvi_label, use_rep='X_scANVI')\n",
    "sc.tl.leiden(adata_scanvi_label)"
   ]
  },
  {
   "cell_type": "code",
   "execution_count": null,
   "metadata": {},
   "outputs": [],
   "source": [
    "sc.tl.umap(adata_scanvi_label)"
   ]
  },
  {
   "cell_type": "code",
   "execution_count": null,
   "metadata": {},
   "outputs": [],
   "source": [
    "sc.pl.umap(adata_scanvi_label, color=['sample','leiden'] + marker_genes, size=10, add_outline=True, alpha=1, outline_width=(0.3, 0.0), ncols=4)"
   ]
  },
  {
   "cell_type": "code",
   "execution_count": null,
   "metadata": {},
   "outputs": [],
   "source": [
    "adata_scanvi_label.obs['predicted_cell_type'] = model_scanvi.predict()"
   ]
  },
  {
   "cell_type": "code",
   "execution_count": null,
   "metadata": {},
   "outputs": [],
   "source": [
    "sc.pl.umap(adata_scanvi_label, color=['initial_cell_type','predicted_cell_type'], size=10, add_outline=True, alpha=1, outline_width=(0.3, 0.0), ncols=4, wspace=0.6)"
   ]
  },
  {
   "cell_type": "code",
   "execution_count": null,
   "metadata": {},
   "outputs": [],
   "source": [
    "adata_scanvi_label.obs.initial_cell_type.value_counts()"
   ]
  },
  {
   "cell_type": "code",
   "execution_count": null,
   "metadata": {},
   "outputs": [],
   "source": [
    "adata_scanvi_label.obs.predicted_cell_type.value_counts()"
   ]
  },
  {
   "cell_type": "markdown",
   "metadata": {},
   "source": [
    "## Scanorama"
   ]
  },
  {
   "cell_type": "code",
   "execution_count": null,
   "metadata": {},
   "outputs": [],
   "source": [
    "adata_scanorama = adata.copy()"
   ]
  },
  {
   "cell_type": "code",
   "execution_count": null,
   "metadata": {},
   "outputs": [],
   "source": [
    "sce.pp.scanorama_integrate(adata_scanorama, key=batch_key,batch_size=50000)"
   ]
  },
  {
   "cell_type": "code",
   "execution_count": null,
   "metadata": {},
   "outputs": [],
   "source": [
    "sc.pp.neighbors(adata_scanorama, use_rep='X_scanorama')\n",
    "sc.tl.leiden(adata_scanorama)"
   ]
  },
  {
   "cell_type": "code",
   "execution_count": null,
   "metadata": {},
   "outputs": [],
   "source": [
    "sc.tl.umap(adata_scanorama)"
   ]
  },
  {
   "cell_type": "code",
   "execution_count": null,
   "metadata": {},
   "outputs": [],
   "source": [
    "sc.pl.umap(adata_scanorama, color=['sample','leiden'] + marker_genes, size=10, add_outline=True, alpha=1, outline_width=(0.3, 0.0), ncols=4)"
   ]
  },
  {
   "cell_type": "markdown",
   "metadata": {},
   "source": [
    "## Harmony"
   ]
  },
  {
   "cell_type": "code",
   "execution_count": null,
   "metadata": {},
   "outputs": [],
   "source": [
    "adata_harmony = adata.copy()"
   ]
  },
  {
   "cell_type": "code",
   "execution_count": null,
   "metadata": {},
   "outputs": [],
   "source": [
    "sce.pp.harmony_integrate(adata_harmony, key=batch_key, adjusted_basis='X_harmony')"
   ]
  },
  {
   "cell_type": "code",
   "execution_count": null,
   "metadata": {},
   "outputs": [],
   "source": [
    "sc.pp.neighbors(adata_harmony, use_rep='X_harmony')\n",
    "sc.tl.leiden(adata_harmony)"
   ]
  },
  {
   "cell_type": "code",
   "execution_count": null,
   "metadata": {},
   "outputs": [],
   "source": [
    "sc.tl.umap(adata_harmony)"
   ]
  },
  {
   "cell_type": "code",
   "execution_count": null,
   "metadata": {},
   "outputs": [],
   "source": [
    "sc.pl.umap(adata_harmony, color=['sample','leiden'] + marker_genes, size=10, add_outline=True, alpha=1, outline_width=(0.3, 0.0), ncols=4)"
   ]
  },
  {
   "cell_type": "markdown",
   "metadata": {},
   "source": [
    "# Benchmark"
   ]
  },
  {
   "cell_type": "code",
   "execution_count": null,
   "metadata": {},
   "outputs": [],
   "source": [
    "import scib\n",
    "sc.set_figure_params(scanpy=True, frameon=False, vector_friendly=False ,transparent=True, dpi=150, dpi_save=300)"
   ]
  },
  {
   "cell_type": "code",
   "execution_count": null,
   "metadata": {},
   "outputs": [],
   "source": [
    "metrics_scvi = scib.metrics.metrics_fast(\n",
    "    adata, adata_scvi, batch_key, labels_key, embed='X_scVI'\n",
    ")\n",
    "metrics_scanvi = scib.metrics.metrics_fast(\n",
    "    adata, adata_scanvi, batch_key, labels_key, embed='X_scANVI'\n",
    ")\n",
    "metrics_scanorama = scib.metrics.metrics_fast(\n",
    "    adata, adata_scanorama, batch_key, labels_key, embed='X_scanorama'\n",
    ")\n",
    "metrics_harmony = scib.metrics.metrics_fast(\n",
    "    adata, adata_harmony, batch_key, labels_key, embed='X_harmony'\n",
    ")\n",
    "metrics_hvg = scib.metrics.metrics_fast(adata, adata_hvg, batch_key, labels_key)\n",
    "metrics_unintegrated = scib.metrics.metrics_fast(adata, adata, batch_key, labels_key)"
   ]
  },
  {
   "cell_type": "code",
   "execution_count": null,
   "metadata": {},
   "outputs": [],
   "source": [
    "# Concatenate metrics results\n",
    "metrics = pd.concat(\n",
    "    [metrics_scvi, metrics_scanvi, metrics_scanorama, metrics_harmony, metrics_hvg, metrics_unintegrated],\n",
    "    axis='columns',\n",
    ")\n",
    "# Set methods as column names\n",
    "metrics = metrics.set_axis(\n",
    "    ['scVI', 'scANVI', 'Scanorama', 'Harmony', 'HVG Overlap', 'Unintegrated'], axis='columns'\n",
    ")\n",
    "# Select only the fast metrics\n",
    "metrics = metrics.loc[\n",
    "    [\n",
    "        'ASW_label',\n",
    "        'ASW_label/batch',\n",
    "        'PCR_batch',\n",
    "        'isolated_label_silhouette',\n",
    "        'graph_conn',\n",
    "        \"hvg_overlap\",\n",
    "    ],\n",
    "    :,\n",
    "]\n",
    "# Transpose so that metrics are columns and methods are rows\n",
    "metrics = metrics.T\n",
    "metrics"
   ]
  },
  {
   "cell_type": "code",
   "execution_count": null,
   "metadata": {},
   "outputs": [],
   "source": [
    "metrics_scaled = (metrics - metrics.min()) / (metrics.max() - metrics.min())\n",
    "metrics_scaled.style.background_gradient(cmap='Blues')"
   ]
  },
  {
   "cell_type": "code",
   "execution_count": null,
   "metadata": {},
   "outputs": [],
   "source": [
    "metrics.style.background_gradient(cmap='Blues')"
   ]
  },
  {
   "cell_type": "code",
   "execution_count": null,
   "metadata": {},
   "outputs": [],
   "source": [
    "metrics['Batch'] = metrics[\n",
    "    ['ASW_label/batch', 'PCR_batch', 'graph_conn']\n",
    "].mean(axis=1)\n",
    "metrics['Bio'] = metrics[\n",
    "    ['ASW_label', 'isolated_label_silhouette', \"hvg_overlap\",]\n",
    "].mean(axis=1)\n",
    "metrics.style.background_gradient(cmap='Blues')"
   ]
  },
  {
   "cell_type": "code",
   "execution_count": null,
   "metadata": {},
   "outputs": [],
   "source": [
    "fig, ax = plt.subplots()\n",
    "ax.set_xlim(0, 1)\n",
    "ax.set_ylim(0, 1)\n",
    "metrics.plot.scatter(\n",
    "    x='Batch',\n",
    "    y='Bio',\n",
    "    c=range(len(metrics)),\n",
    "    colormap=mpl.cm.get_cmap('Set1'),\n",
    "    ax=ax,\n",
    ")\n",
    "anno = []\n",
    "for k, v in metrics[['Batch', 'Bio']].iterrows():\n",
    "    anno.append(plt.text(\n",
    "        v['Batch'],\n",
    "        v['Bio'],\n",
    "        k,\n",
    "        fontsize=10,\n",
    "    ))\n",
    "adjust_text(anno, expand_points=(3,3), expand_text=(3,3), expand_objects=(3,3), precision=0.00001, lim=5000, autoalign='xy', arrowprops=dict(arrowstyle=\"-\",  color='k',  lw=0.5), ax=ax)"
   ]
  },
  {
   "cell_type": "code",
   "execution_count": null,
   "metadata": {},
   "outputs": [],
   "source": [
    "metrics[\"Overall\"] = 0.4 * metrics[\"Batch\"] + 0.6 * metrics[\"Bio\"]\n",
    "metrics.style.background_gradient(cmap=\"Blues\")"
   ]
  },
  {
   "cell_type": "code",
   "execution_count": null,
   "metadata": {},
   "outputs": [],
   "source": [
    "metrics.plot.bar(y='Overall')"
   ]
  },
  {
   "cell_type": "code",
   "execution_count": null,
   "metadata": {},
   "outputs": [],
   "source": [
    "metrics_scaled['Batch'] = metrics_scaled[\n",
    "    ['ASW_label/batch', 'PCR_batch', 'graph_conn']\n",
    "].mean(axis=1)\n",
    "metrics_scaled['Bio'] = metrics_scaled[\n",
    "    ['ASW_label', 'isolated_label_silhouette', \"hvg_overlap\",]\n",
    "].mean(axis=1)\n",
    "metrics_scaled.style.background_gradient(cmap='Blues')"
   ]
  },
  {
   "cell_type": "code",
   "execution_count": null,
   "metadata": {},
   "outputs": [],
   "source": [
    "fig, ax = plt.subplots()\n",
    "ax.set_xlim(0, 1)\n",
    "ax.set_ylim(0, 1)\n",
    "metrics_scaled.plot.scatter(\n",
    "    x='Batch',\n",
    "    y='Bio',\n",
    "    c=range(len(metrics_scaled)),\n",
    "    colormap=mpl.cm.get_cmap('Set1'),\n",
    "    ax=ax,\n",
    ")\n",
    "\n",
    "for k, v in metrics_scaled[['Batch', 'Bio']].iterrows():\n",
    "    ax.annotate(\n",
    "        k,\n",
    "        v,\n",
    "        xytext=(6, -3),\n",
    "        textcoords='offset points',\n",
    "        family='sans-serif',\n",
    "        fontsize=12,\n",
    "    )"
   ]
  },
  {
   "cell_type": "code",
   "execution_count": null,
   "metadata": {},
   "outputs": [],
   "source": [
    "metrics_scaled[\"Overall\"] = 0.4 * metrics_scaled[\"Batch\"] + 0.6 * metrics_scaled[\"Bio\"]\n",
    "metrics_scaled.style.background_gradient(cmap=\"Blues\")"
   ]
  },
  {
   "cell_type": "code",
   "execution_count": null,
   "metadata": {},
   "outputs": [],
   "source": [
    "metrics_scaled.plot.bar(y='Overall')"
   ]
  },
  {
   "cell_type": "markdown",
   "metadata": {},
   "source": [
    "# Collect Results"
   ]
  },
  {
   "cell_type": "code",
   "execution_count": 83,
   "metadata": {},
   "outputs": [],
   "source": [
    "# get latent representaions\n",
    "adata.obsm['X_scVI'] = model_scvi.get_latent_representation()\n",
    "adata.obsm['X_scANVI'] = model_scanvi.get_latent_representation()\n",
    "adata.obsm['X_scanorama'] = adata_scanorama.obsm['X_scanorama']\n",
    "adata.obsm['X_harmony'] = adata_harmony.obsm['X_harmony']"
   ]
  },
  {
   "cell_type": "code",
   "execution_count": 84,
   "metadata": {},
   "outputs": [],
   "source": [
    "# get denoised expression from scvi\n",
    "adata.layers['scvi_counts'] = model_scvi.get_normalized_expression(library_size=10e4, n_samples=10)"
   ]
  },
  {
   "cell_type": "code",
   "execution_count": 85,
   "metadata": {},
   "outputs": [],
   "source": [
    "# get label predictions for KO\n",
    "adata.obs['predicted_cell_type'] = adata_scanvi_label.obs['predicted_cell_type']"
   ]
  },
  {
   "cell_type": "markdown",
   "metadata": {},
   "source": [
    "# Save"
   ]
  },
  {
   "cell_type": "code",
   "execution_count": 86,
   "metadata": {},
   "outputs": [
    {
     "name": "stdout",
     "output_type": "stream",
     "text": [
      ".X already spase...\n",
      "Layer ambiguous already spase...\n",
      "Layer log_raw_counts already spase...\n",
      "Layer matrix already spase...\n",
      "Layer raw_counts already spase...\n",
      "Layer scran_counts already spase...\n",
      "Layer sct_counts already spase...\n",
      "Layer sct_logcounts already spase...\n",
      "Layer sct_scale_data already spase...\n",
      "Sparsify  scvi_counts\n",
      "Layer spliced already spase...\n",
      "Layer unspliced already spase...\n"
     ]
    }
   ],
   "source": [
    "sparsify_all_layers(adata)"
   ]
  },
  {
   "cell_type": "code",
   "execution_count": 87,
   "metadata": {},
   "outputs": [],
   "source": [
    "# Save\n",
    "sc.write('/home/michi/Projects/scRNA-seq_iPSC_IGFRL-KO_Notebooks/Files/scRNA-seq_iPSC_IIR-KO_S6_adata_rmDoublets_normalized_integrated_endocrine', adata)"
   ]
  },
  {
   "cell_type": "markdown",
   "metadata": {},
   "source": [
    "# Session Info"
   ]
  },
  {
   "cell_type": "code",
   "execution_count": 88,
   "metadata": {},
   "outputs": [
    {
     "name": "stderr",
     "output_type": "stream",
     "text": [
      "/home/michi/Software/venvs/scAnalysis_sc1.9_ad0.8_mu0.1.2_md0.2_R4.1_FVF/lib/python3.8/site-packages/jsonschema/__init__.py:43: DeprecationWarning: Accessing jsonschema.__version__ is deprecated and will be removed in a future release. Use importlib.metadata directly to query for jsonschema's version.\n",
      "  warnings.warn(\n"
     ]
    },
    {
     "data": {
      "text/html": [
       "<details>\n",
       "<summary>Click to view session information</summary>\n",
       "<pre>\n",
       "-----\n",
       "adjustText          NA\n",
       "anndata             0.8.0\n",
       "anndata2ri          1.0.6\n",
       "matplotlib          3.5.2\n",
       "numpy               1.20.0\n",
       "pandas              1.4.3\n",
       "rpy2                3.4.2\n",
       "scanpy              1.9.1\n",
       "scib                1.0.1\n",
       "scipy               1.7.1\n",
       "scvi                0.17.1\n",
       "seaborn             0.11.2\n",
       "session_info        1.0.0\n",
       "-----\n",
       "</pre>\n",
       "<details>\n",
       "<summary>Click to view modules imported as dependencies</summary>\n",
       "<pre>\n",
       "PIL                                 8.4.0\n",
       "absl                                NA\n",
       "annoy                               NA\n",
       "anyio                               NA\n",
       "astunparse                          1.6.3\n",
       "attr                                21.2.0\n",
       "babel                               2.9.1\n",
       "backcall                            0.2.0\n",
       "backports                           NA\n",
       "beta_ufunc                          NA\n",
       "binom_ufunc                         NA\n",
       "bottleneck                          1.3.2\n",
       "certifi                             2022.06.15\n",
       "cffi                                1.15.0\n",
       "chardet                             4.0.0\n",
       "charset_normalizer                  2.0.7\n",
       "chex                                0.1.1\n",
       "cloudpickle                         2.0.0\n",
       "colorama                            0.4.4\n",
       "cupy                                10.1.0\n",
       "cupy_backends                       NA\n",
       "cupyx                               NA\n",
       "cycler                              0.10.0\n",
       "cython_runtime                      NA\n",
       "dask                                2021.10.0\n",
       "dateutil                            2.8.2\n",
       "debugpy                             1.4.1\n",
       "decorator                           5.1.0\n",
       "defusedxml                          0.7.1\n",
       "deprecate                           0.3.1\n",
       "docrep                              0.3.2\n",
       "dot_parser                          NA\n",
       "dunamai                             1.7.0\n",
       "entrypoints                         0.3\n",
       "fastrlock                           0.8\n",
       "fbpca                               NA\n",
       "fe17a9cb4bdaf05853229027e5fef937    NA\n",
       "flatbuffers                         NA\n",
       "flax                                0.4.0\n",
       "fsspec                              2021.10.1\n",
       "gast                                NA\n",
       "get_version                         3.5.3\n",
       "google                              NA\n",
       "h5py                                3.6.0\n",
       "harmonypy                           NA\n",
       "idna                                3.3\n",
       "igraph                              0.9.8\n",
       "importlib_resources                 NA\n",
       "intervaltree                        NA\n",
       "ipykernel                           6.4.2\n",
       "ipython_genutils                    0.2.0\n",
       "ipywidgets                          7.6.5\n",
       "jax                                 0.3.4\n",
       "jaxlib                              0.3.2\n",
       "jedi                                0.18.0\n",
       "jinja2                              3.0.2\n",
       "joblib                              1.1.0\n",
       "json5                               NA\n",
       "jsonschema                          4.2.0\n",
       "jupyter_server                      1.11.2\n",
       "jupyterlab_server                   2.8.2\n",
       "keras_preprocessing                 1.1.2\n",
       "kiwisolver                          1.3.2\n",
       "leidenalg                           0.8.8\n",
       "llvmlite                            0.37.0\n",
       "louvain                             0.7.0\n",
       "markupsafe                          2.0.1\n",
       "matplotlib_inline                   NA\n",
       "mpl_toolkits                        NA\n",
       "msgpack                             1.0.3\n",
       "mudata                              0.2.0\n",
       "multipledispatch                    0.6.0\n",
       "natsort                             8.0.0\n",
       "nbclassic                           NA\n",
       "nbformat                            5.1.3\n",
       "nbinom_ufunc                        NA\n",
       "numba                               0.54.1\n",
       "numexpr                             2.7.3\n",
       "numpyro                             0.9.1\n",
       "opt_einsum                          v3.3.0\n",
       "optax                               0.1.1\n",
       "packaging                           21.3\n",
       "parso                               0.8.2\n",
       "pexpect                             4.8.0\n",
       "pickleshare                         0.7.5\n",
       "pkg_resources                       NA\n",
       "prometheus_client                   NA\n",
       "prompt_toolkit                      3.0.21\n",
       "psutil                              5.8.0\n",
       "ptyprocess                          0.7.0\n",
       "pvectorc                            NA\n",
       "pycparser                           2.20\n",
       "pydev_ipython                       NA\n",
       "pydevconsole                        NA\n",
       "pydevd                              2.4.1\n",
       "pydevd_concurrency_analyser         NA\n",
       "pydevd_file_utils                   NA\n",
       "pydevd_plugins                      NA\n",
       "pydevd_tracing                      NA\n",
       "pydot                               1.4.2\n",
       "pygments                            2.10.0\n",
       "pynndescent                         0.5.5\n",
       "pyparsing                           2.4.7\n",
       "pyro                                1.7.0\n",
       "pyrsistent                          NA\n",
       "pytorch_lightning                   1.6.5\n",
       "pytz                                2021.3\n",
       "pytz_deprecation_shim               NA\n",
       "requests                            2.26.0\n",
       "rich                                NA\n",
       "scanorama                           1.7.1\n",
       "send2trash                          NA\n",
       "six                                 1.16.0\n",
       "sklearn                             1.0.1\n",
       "sniffio                             1.2.0\n",
       "sortedcontainers                    2.4.0\n",
       "sparse                              0.13.0\n",
       "sphinxcontrib                       NA\n",
       "statsmodels                         0.13.2\n",
       "storemagic                          NA\n",
       "tensorboard                         2.7.0\n",
       "tensorflow                          2.4.4\n",
       "termcolor                           1.1.0\n",
       "terminado                           0.12.1\n",
       "texttable                           1.6.4\n",
       "threadpoolctl                       3.0.0\n",
       "tlz                                 0.11.1\n",
       "toolz                               0.11.1\n",
       "torch                               1.11.0+cu113\n",
       "torchmetrics                        0.6.0\n",
       "torchvision                         0.12.0+cu113\n",
       "tornado                             6.1\n",
       "tqdm                                4.62.3\n",
       "traitlets                           5.1.1\n",
       "tree                                0.1.6\n",
       "typing_extensions                   NA\n",
       "tzlocal                             NA\n",
       "umap                                0.5.2\n",
       "urllib3                             1.26.7\n",
       "wcwidth                             0.2.5\n",
       "websocket                           1.2.1\n",
       "wrapt                               1.12.1\n",
       "yaml                                5.4.1\n",
       "zipp                                NA\n",
       "zmq                                 22.3.0\n",
       "</pre>\n",
       "</details> <!-- seems like this ends pre, so might as well be explicit -->\n",
       "<pre>\n",
       "-----\n",
       "IPython             7.29.0\n",
       "jupyter_client      7.0.6\n",
       "jupyter_core        4.9.1\n",
       "jupyterlab          3.2.4\n",
       "notebook            6.4.5\n",
       "-----\n",
       "Python 3.8.12 | packaged by conda-forge | (default, Oct 12 2021, 21:57:06) [GCC 9.4.0]\n",
       "Linux-5.15.0-48-generic-x86_64-with-glibc2.10\n",
       "-----\n",
       "Session information updated at 2022-10-07 21:42\n",
       "</pre>\n",
       "</details>"
      ],
      "text/plain": [
       "<IPython.core.display.HTML object>"
      ]
     },
     "execution_count": 88,
     "metadata": {},
     "output_type": "execute_result"
    }
   ],
   "source": [
    "session_info.show()"
   ]
  },
  {
   "cell_type": "code",
   "execution_count": 89,
   "metadata": {},
   "outputs": [
    {
     "name": "stdout",
     "output_type": "stream",
     "text": [
      "R version 4.1.1 (2021-08-10)\n",
      "Platform: x86_64-pc-linux-gnu (64-bit)\n",
      "Running under: Ubuntu 20.04.5 LTS\n",
      "\n",
      "Matrix products: default\n",
      "BLAS/LAPACK: /home/michi/Software/venvs/scAnalysis_sc1.9_ad0.8_mu0.1.2_md0.2_R4.1_FVF/lib/libopenblasp-r0.3.18.so\n",
      "\n",
      "locale:\n",
      " [1] LC_CTYPE=en_US.UTF-8       LC_NUMERIC=C              \n",
      " [3] LC_TIME=de_DE.UTF-8        LC_COLLATE=en_US.UTF-8    \n",
      " [5] LC_MONETARY=de_DE.UTF-8    LC_MESSAGES=en_US.UTF-8   \n",
      " [7] LC_PAPER=de_DE.UTF-8       LC_NAME=C                 \n",
      " [9] LC_ADDRESS=C               LC_TELEPHONE=C            \n",
      "[11] LC_MEASUREMENT=de_DE.UTF-8 LC_IDENTIFICATION=C       \n",
      "\n",
      "attached base packages:\n",
      "[1] stats4    tools     stats     graphics  grDevices utils     datasets \n",
      "[8] methods   base     \n",
      "\n",
      "other attached packages:\n",
      " [1] Matrix_1.4-1                   SingleCellExperiment_1.16.0   \n",
      " [3] SummarizedExperiment_1.24.0    Biobase_2.54.0                \n",
      " [5] GenomicRanges_1.46.1           GenomeInfoDb_1.30.1           \n",
      " [7] IRanges_2.28.0                 MatrixGenerics_1.6.0          \n",
      " [9] matrixStats_0.62.0             S4Vectors_0.32.4              \n",
      "[11] BiocGenerics_0.40.0            BiocParallel.FutureParam_0.2.1\n",
      "[13] BiocParallel_1.28.3            future_1.27.0                 \n",
      "[15] scry_1.6.0                    \n",
      "\n",
      "loaded via a namespace (and not attached):\n",
      " [1] Rcpp_1.0.9             parallelly_1.32.1      BiocSingular_1.10.0   \n",
      " [4] XVector_0.34.0         zlibbioc_1.40.0        lattice_0.20-45       \n",
      " [7] ScaledMatrix_1.2.0     globals_0.16.0         rsvd_1.0.5            \n",
      "[10] parallel_4.1.1         grid_4.1.1             irlba_2.3.5           \n",
      "[13] digest_0.6.29          GenomeInfoDbData_1.2.7 codetools_0.2-18      \n",
      "[16] bitops_1.0-7           RCurl_1.98-1.8         DelayedArray_0.20.0   \n",
      "[19] compiler_4.1.1         beachmat_2.10.0        listenv_0.8.0         \n"
     ]
    }
   ],
   "source": [
    "print_r_session()"
   ]
  }
 ],
 "metadata": {
  "kernelspec": {
   "display_name": "scAnalysis_sc1.9_ad0.8_mu0.1.2_md0.2_R4.1_FVF",
   "language": "python",
   "name": "scanalysis_sc1.9_ad0.8_mu0.1.2_md0.2_r4.1_fvf"
  },
  "language_info": {
   "codemirror_mode": {
    "name": "ipython",
    "version": 3
   },
   "file_extension": ".py",
   "mimetype": "text/x-python",
   "name": "python",
   "nbconvert_exporter": "python",
   "pygments_lexer": "ipython3",
   "version": "3.8.12"
  },
  "toc": {
   "base_numbering": 1,
   "nav_menu": {},
   "number_sections": true,
   "sideBar": true,
   "skip_h1_title": false,
   "title_cell": "Table of Contents",
   "title_sidebar": "Contents",
   "toc_cell": false,
   "toc_position": {
    "height": "calc(100% - 180px)",
    "left": "10px",
    "top": "150px",
    "width": "431px"
   },
   "toc_section_display": true,
   "toc_window_display": true
  },
  "varInspector": {
   "cols": {
    "lenName": 16,
    "lenType": 16,
    "lenVar": 40
   },
   "kernels_config": {
    "python": {
     "delete_cmd_postfix": "",
     "delete_cmd_prefix": "del ",
     "library": "var_list.py",
     "varRefreshCmd": "print(var_dic_list())"
    },
    "r": {
     "delete_cmd_postfix": ") ",
     "delete_cmd_prefix": "rm(",
     "library": "var_list.r",
     "varRefreshCmd": "cat(var_dic_list()) "
    }
   },
   "types_to_exclude": [
    "module",
    "function",
    "builtin_function_or_method",
    "instance",
    "_Feature"
   ],
   "window_display": false
  }
 },
 "nbformat": 4,
 "nbformat_minor": 4
}
